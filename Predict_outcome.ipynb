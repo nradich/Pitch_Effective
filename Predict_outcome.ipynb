{
 "cells": [
  {
   "cell_type": "code",
   "execution_count": 1,
   "metadata": {},
   "outputs": [],
   "source": [
    "#Reading in CSV file\n",
    "import pandas as pd\n",
    "data = pd.read_csv('predict_outcome.csv')"
   ]
  },
  {
   "cell_type": "code",
   "execution_count": 2,
   "metadata": {},
   "outputs": [
    {
     "data": {
      "text/plain": [
       "(776503, 28)"
      ]
     },
     "execution_count": 2,
     "metadata": {},
     "output_type": "execute_result"
    }
   ],
   "source": [
    "#Checking in the shape\n",
    "data.shape"
   ]
  },
  {
   "cell_type": "code",
   "execution_count": 2,
   "metadata": {
    "scrolled": true
   },
   "outputs": [
    {
     "data": {
      "text/plain": [
       "Unnamed: 0                   0\n",
       "pitch_name                2082\n",
       "release_speed             1768\n",
       "events                       0\n",
       "description                  0\n",
       "p_throws                     0\n",
       "type                         0\n",
       "hit_distance_sc         586979\n",
       "launch_speed            571142\n",
       "launch_angle            571141\n",
       "launch_speed_angle      637734\n",
       "effective_speed           9627\n",
       "pitch_number                 0\n",
       "spin_rate_deprecated    776503\n",
       "hit_location            600687\n",
       "bb_type                 637726\n",
       "release_spin_rate        29078\n",
       "game_date                    0\n",
       "pitch_number.1               0\n",
       "vx0                       1835\n",
       "vy0                       1835\n",
       "vz0                       1835\n",
       "ax                        1835\n",
       "ay                        1835\n",
       "az                        1835\n",
       "pfx_x                     1835\n",
       "pfx_z                     1835\n",
       "bauer_units              29078\n",
       "dtype: int64"
      ]
     },
     "execution_count": 2,
     "metadata": {},
     "output_type": "execute_result"
    }
   ],
   "source": [
    "#Looking to see how many null values are present\n",
    "data.isna().sum()"
   ]
  },
  {
   "cell_type": "code",
   "execution_count": 3,
   "metadata": {},
   "outputs": [],
   "source": [
    "#Dropping unneeded columns\n",
    "data.drop(columns=['Unnamed: 0', 'p_throws', 'type', 'pitch_number.1','game_date', 'bb_type', 'spin_rate_deprecated',\\\n",
    "                  'pitch_number','description' ],inplace = True)"
   ]
  },
  {
   "cell_type": "code",
   "execution_count": 5,
   "metadata": {},
   "outputs": [
    {
     "data": {
      "text/plain": [
       "ball            280384\n",
       "strike          214757\n",
       "foul            140612\n",
       "out              91613\n",
       "single           29960\n",
       "double            8831\n",
       "home_run          5753\n",
       "field_error       1889\n",
       "hit_by_pitch      1817\n",
       "triple             887\n",
       "Name: events, dtype: int64"
      ]
     },
     "execution_count": 5,
     "metadata": {},
     "output_type": "execute_result"
    }
   ],
   "source": [
    "data.events.value_counts()"
   ]
  },
  {
   "cell_type": "code",
   "execution_count": 4,
   "metadata": {},
   "outputs": [],
   "source": [
    "#Rename columns\n",
    "data.rename(columns={\"release_speed\": 'Pitch_Velocity',\n",
    "                    \"launch_speed\": \"Exit_velocity\",\n",
    "                    \"release_spin_rate\": \"Spin_Rate\",\n",
    "                    }, inplace = True)"
   ]
  },
  {
   "cell_type": "code",
   "execution_count": 5,
   "metadata": {},
   "outputs": [
    {
     "data": {
      "text/plain": [
       "(772797, 19)"
      ]
     },
     "execution_count": 5,
     "metadata": {},
     "output_type": "execute_result"
    }
   ],
   "source": [
    "#Dropping irrelevant events\n",
    "data = data[(data.events!= 'field_error')\n",
    "            & (data.events != 'hit_by_pitch')]\n",
    "\n",
    "data.shape"
   ]
  },
  {
   "cell_type": "code",
   "execution_count": 20,
   "metadata": {},
   "outputs": [
    {
     "data": {
      "text/html": [
       "<div>\n",
       "<style scoped>\n",
       "    .dataframe tbody tr th:only-of-type {\n",
       "        vertical-align: middle;\n",
       "    }\n",
       "\n",
       "    .dataframe tbody tr th {\n",
       "        vertical-align: top;\n",
       "    }\n",
       "\n",
       "    .dataframe thead th {\n",
       "        text-align: right;\n",
       "    }\n",
       "</style>\n",
       "<table border=\"1\" class=\"dataframe\">\n",
       "  <thead>\n",
       "    <tr style=\"text-align: right;\">\n",
       "      <th></th>\n",
       "      <th>pitch_name</th>\n",
       "      <th>Pitch_Velocity</th>\n",
       "      <th>events</th>\n",
       "      <th>hit_distance_sc</th>\n",
       "      <th>Exit_velocity</th>\n",
       "      <th>launch_angle</th>\n",
       "      <th>launch_speed_angle</th>\n",
       "      <th>effective_speed</th>\n",
       "      <th>hit_location</th>\n",
       "      <th>Spin_Rate</th>\n",
       "      <th>vx0</th>\n",
       "      <th>vy0</th>\n",
       "      <th>vz0</th>\n",
       "      <th>ax</th>\n",
       "      <th>ay</th>\n",
       "      <th>az</th>\n",
       "      <th>pfx_x</th>\n",
       "      <th>pfx_z</th>\n",
       "      <th>bauer_units</th>\n",
       "    </tr>\n",
       "  </thead>\n",
       "  <tbody>\n",
       "    <tr>\n",
       "      <th>0</th>\n",
       "      <td>Cutter</td>\n",
       "      <td>90.4</td>\n",
       "      <td>out</td>\n",
       "      <td>256.0</td>\n",
       "      <td>79.1</td>\n",
       "      <td>22.0</td>\n",
       "      <td>4.0</td>\n",
       "      <td>90.193</td>\n",
       "      <td>7.0</td>\n",
       "      <td>2449.0</td>\n",
       "      <td>-7.065</td>\n",
       "      <td>-131.512</td>\n",
       "      <td>-3.298</td>\n",
       "      <td>-3.334</td>\n",
       "      <td>27.861</td>\n",
       "      <td>-30.520</td>\n",
       "      <td>-0.394417</td>\n",
       "      <td>0.329000</td>\n",
       "      <td>27.090708</td>\n",
       "    </tr>\n",
       "    <tr>\n",
       "      <th>1</th>\n",
       "      <td>Slider</td>\n",
       "      <td>81.5</td>\n",
       "      <td>ball</td>\n",
       "      <td>0.0</td>\n",
       "      <td>0.0</td>\n",
       "      <td>0.0</td>\n",
       "      <td>0.0</td>\n",
       "      <td>81.301</td>\n",
       "      <td>0.0</td>\n",
       "      <td>2293.0</td>\n",
       "      <td>-7.940</td>\n",
       "      <td>-118.390</td>\n",
       "      <td>-2.930</td>\n",
       "      <td>-0.977</td>\n",
       "      <td>18.714</td>\n",
       "      <td>-31.765</td>\n",
       "      <td>-0.224633</td>\n",
       "      <td>0.232967</td>\n",
       "      <td>28.134969</td>\n",
       "    </tr>\n",
       "    <tr>\n",
       "      <th>2</th>\n",
       "      <td>Curveball</td>\n",
       "      <td>77.1</td>\n",
       "      <td>ball</td>\n",
       "      <td>0.0</td>\n",
       "      <td>0.0</td>\n",
       "      <td>0.0</td>\n",
       "      <td>0.0</td>\n",
       "      <td>75.063</td>\n",
       "      <td>0.0</td>\n",
       "      <td>2543.0</td>\n",
       "      <td>-6.290</td>\n",
       "      <td>-112.149</td>\n",
       "      <td>-2.442</td>\n",
       "      <td>-4.252</td>\n",
       "      <td>25.153</td>\n",
       "      <td>-42.517</td>\n",
       "      <td>-0.607342</td>\n",
       "      <td>-1.004000</td>\n",
       "      <td>32.983139</td>\n",
       "    </tr>\n",
       "    <tr>\n",
       "      <th>3</th>\n",
       "      <td>Cutter</td>\n",
       "      <td>87.6</td>\n",
       "      <td>strike</td>\n",
       "      <td>0.0</td>\n",
       "      <td>0.0</td>\n",
       "      <td>0.0</td>\n",
       "      <td>0.0</td>\n",
       "      <td>86.856</td>\n",
       "      <td>0.0</td>\n",
       "      <td>2513.0</td>\n",
       "      <td>-5.742</td>\n",
       "      <td>-127.487</td>\n",
       "      <td>-2.031</td>\n",
       "      <td>0.472</td>\n",
       "      <td>27.321</td>\n",
       "      <td>-28.650</td>\n",
       "      <td>-0.089642</td>\n",
       "      <td>0.502433</td>\n",
       "      <td>28.687215</td>\n",
       "    </tr>\n",
       "    <tr>\n",
       "      <th>4</th>\n",
       "      <td>Cutter</td>\n",
       "      <td>86.2</td>\n",
       "      <td>strike</td>\n",
       "      <td>0.0</td>\n",
       "      <td>0.0</td>\n",
       "      <td>0.0</td>\n",
       "      <td>0.0</td>\n",
       "      <td>86.030</td>\n",
       "      <td>0.0</td>\n",
       "      <td>2422.0</td>\n",
       "      <td>-6.874</td>\n",
       "      <td>-125.377</td>\n",
       "      <td>-2.652</td>\n",
       "      <td>-1.359</td>\n",
       "      <td>24.380</td>\n",
       "      <td>-28.309</td>\n",
       "      <td>-0.248292</td>\n",
       "      <td>0.539700</td>\n",
       "      <td>28.097448</td>\n",
       "    </tr>\n",
       "    <tr>\n",
       "      <th>5</th>\n",
       "      <td>4-Seam Fastball</td>\n",
       "      <td>91.8</td>\n",
       "      <td>ball</td>\n",
       "      <td>0.0</td>\n",
       "      <td>0.0</td>\n",
       "      <td>0.0</td>\n",
       "      <td>0.0</td>\n",
       "      <td>90.941</td>\n",
       "      <td>0.0</td>\n",
       "      <td>2115.0</td>\n",
       "      <td>-9.252</td>\n",
       "      <td>-133.420</td>\n",
       "      <td>-2.692</td>\n",
       "      <td>10.444</td>\n",
       "      <td>31.375</td>\n",
       "      <td>-19.811</td>\n",
       "      <td>0.684125</td>\n",
       "      <td>1.187567</td>\n",
       "      <td>23.039216</td>\n",
       "    </tr>\n",
       "    <tr>\n",
       "      <th>6</th>\n",
       "      <td>Cutter</td>\n",
       "      <td>88.1</td>\n",
       "      <td>single</td>\n",
       "      <td>60.0</td>\n",
       "      <td>89.1</td>\n",
       "      <td>3.0</td>\n",
       "      <td>2.0</td>\n",
       "      <td>87.526</td>\n",
       "      <td>9.0</td>\n",
       "      <td>2465.0</td>\n",
       "      <td>-5.272</td>\n",
       "      <td>-128.235</td>\n",
       "      <td>-2.390</td>\n",
       "      <td>-1.473</td>\n",
       "      <td>28.023</td>\n",
       "      <td>-28.666</td>\n",
       "      <td>-0.253858</td>\n",
       "      <td>0.498133</td>\n",
       "      <td>27.979569</td>\n",
       "    </tr>\n",
       "    <tr>\n",
       "      <th>7</th>\n",
       "      <td>Curveball</td>\n",
       "      <td>77.2</td>\n",
       "      <td>ball</td>\n",
       "      <td>0.0</td>\n",
       "      <td>0.0</td>\n",
       "      <td>0.0</td>\n",
       "      <td>0.0</td>\n",
       "      <td>75.389</td>\n",
       "      <td>0.0</td>\n",
       "      <td>2514.0</td>\n",
       "      <td>-4.620</td>\n",
       "      <td>-112.364</td>\n",
       "      <td>-0.727</td>\n",
       "      <td>-5.753</td>\n",
       "      <td>24.912</td>\n",
       "      <td>-42.320</td>\n",
       "      <td>-0.771558</td>\n",
       "      <td>-0.973900</td>\n",
       "      <td>32.564767</td>\n",
       "    </tr>\n",
       "    <tr>\n",
       "      <th>8</th>\n",
       "      <td>Slider</td>\n",
       "      <td>80.0</td>\n",
       "      <td>ball</td>\n",
       "      <td>0.0</td>\n",
       "      <td>0.0</td>\n",
       "      <td>0.0</td>\n",
       "      <td>0.0</td>\n",
       "      <td>78.974</td>\n",
       "      <td>0.0</td>\n",
       "      <td>NaN</td>\n",
       "      <td>-1.072</td>\n",
       "      <td>-116.500</td>\n",
       "      <td>-0.560</td>\n",
       "      <td>-1.230</td>\n",
       "      <td>22.311</td>\n",
       "      <td>-35.829</td>\n",
       "      <td>-0.255250</td>\n",
       "      <td>-0.189867</td>\n",
       "      <td>NaN</td>\n",
       "    </tr>\n",
       "    <tr>\n",
       "      <th>9</th>\n",
       "      <td>4-Seam Fastball</td>\n",
       "      <td>89.5</td>\n",
       "      <td>foul</td>\n",
       "      <td>233.0</td>\n",
       "      <td>75.0</td>\n",
       "      <td>35.0</td>\n",
       "      <td>0.0</td>\n",
       "      <td>88.828</td>\n",
       "      <td>0.0</td>\n",
       "      <td>2438.0</td>\n",
       "      <td>-7.927</td>\n",
       "      <td>-130.104</td>\n",
       "      <td>-3.647</td>\n",
       "      <td>3.183</td>\n",
       "      <td>27.453</td>\n",
       "      <td>-22.159</td>\n",
       "      <td>0.128850</td>\n",
       "      <td>1.031333</td>\n",
       "      <td>27.240223</td>\n",
       "    </tr>\n",
       "  </tbody>\n",
       "</table>\n",
       "</div>"
      ],
      "text/plain": [
       "        pitch_name  Pitch_Velocity  events  hit_distance_sc  Exit_velocity  \\\n",
       "0           Cutter            90.4     out            256.0           79.1   \n",
       "1           Slider            81.5    ball              0.0            0.0   \n",
       "2        Curveball            77.1    ball              0.0            0.0   \n",
       "3           Cutter            87.6  strike              0.0            0.0   \n",
       "4           Cutter            86.2  strike              0.0            0.0   \n",
       "5  4-Seam Fastball            91.8    ball              0.0            0.0   \n",
       "6           Cutter            88.1  single             60.0           89.1   \n",
       "7        Curveball            77.2    ball              0.0            0.0   \n",
       "8           Slider            80.0    ball              0.0            0.0   \n",
       "9  4-Seam Fastball            89.5    foul            233.0           75.0   \n",
       "\n",
       "   launch_angle  launch_speed_angle  effective_speed  hit_location  Spin_Rate  \\\n",
       "0          22.0                 4.0           90.193           7.0     2449.0   \n",
       "1           0.0                 0.0           81.301           0.0     2293.0   \n",
       "2           0.0                 0.0           75.063           0.0     2543.0   \n",
       "3           0.0                 0.0           86.856           0.0     2513.0   \n",
       "4           0.0                 0.0           86.030           0.0     2422.0   \n",
       "5           0.0                 0.0           90.941           0.0     2115.0   \n",
       "6           3.0                 2.0           87.526           9.0     2465.0   \n",
       "7           0.0                 0.0           75.389           0.0     2514.0   \n",
       "8           0.0                 0.0           78.974           0.0        NaN   \n",
       "9          35.0                 0.0           88.828           0.0     2438.0   \n",
       "\n",
       "     vx0      vy0    vz0      ax      ay      az     pfx_x     pfx_z  \\\n",
       "0 -7.065 -131.512 -3.298  -3.334  27.861 -30.520 -0.394417  0.329000   \n",
       "1 -7.940 -118.390 -2.930  -0.977  18.714 -31.765 -0.224633  0.232967   \n",
       "2 -6.290 -112.149 -2.442  -4.252  25.153 -42.517 -0.607342 -1.004000   \n",
       "3 -5.742 -127.487 -2.031   0.472  27.321 -28.650 -0.089642  0.502433   \n",
       "4 -6.874 -125.377 -2.652  -1.359  24.380 -28.309 -0.248292  0.539700   \n",
       "5 -9.252 -133.420 -2.692  10.444  31.375 -19.811  0.684125  1.187567   \n",
       "6 -5.272 -128.235 -2.390  -1.473  28.023 -28.666 -0.253858  0.498133   \n",
       "7 -4.620 -112.364 -0.727  -5.753  24.912 -42.320 -0.771558 -0.973900   \n",
       "8 -1.072 -116.500 -0.560  -1.230  22.311 -35.829 -0.255250 -0.189867   \n",
       "9 -7.927 -130.104 -3.647   3.183  27.453 -22.159  0.128850  1.031333   \n",
       "\n",
       "   bauer_units  \n",
       "0    27.090708  \n",
       "1    28.134969  \n",
       "2    32.983139  \n",
       "3    28.687215  \n",
       "4    28.097448  \n",
       "5    23.039216  \n",
       "6    27.979569  \n",
       "7    32.564767  \n",
       "8          NaN  \n",
       "9    27.240223  "
      ]
     },
     "execution_count": 20,
     "metadata": {},
     "output_type": "execute_result"
    }
   ],
   "source": [
    "#Determining what to do with null values\n",
    "#When hit distance, launch speed, and launch angle are null - should be zero\n",
    "data.head(10)"
   ]
  },
  {
   "cell_type": "code",
   "execution_count": 6,
   "metadata": {
    "scrolled": true
   },
   "outputs": [],
   "source": [
    "#instead of Nan going to put a zero for hit location\n",
    "#Inputting correct values for null values \n",
    "import numpy as np \n",
    "data.hit_location = np.where(data.hit_location.isnull(), 0, data.hit_location)\n",
    "data.Exit_velocity = np.where(data.Exit_velocity.isnull(), 0, data.Exit_velocity)\n",
    "data.launch_speed_angle = np.where(data.launch_speed_angle.isnull(), 0, data.launch_speed_angle)\n",
    "data.hit_distance_sc = np.where(data.hit_distance_sc.isnull(), 0 , data.hit_distance_sc)\n",
    "data.launch_angle = np.where(data.launch_angle.isnull(), 0, data.launch_angle)\n"
   ]
  },
  {
   "cell_type": "code",
   "execution_count": 21,
   "metadata": {},
   "outputs": [
    {
     "data": {
      "text/plain": [
       "(772797, 19)"
      ]
     },
     "execution_count": 21,
     "metadata": {},
     "output_type": "execute_result"
    }
   ],
   "source": [
    "data.shape"
   ]
  },
  {
   "cell_type": "code",
   "execution_count": 22,
   "metadata": {},
   "outputs": [
    {
     "data": {
      "text/plain": [
       "pitch_name             2072\n",
       "Pitch_Velocity         1761\n",
       "events                    0\n",
       "hit_distance_sc           0\n",
       "Exit_velocity             0\n",
       "launch_angle              0\n",
       "launch_speed_angle        0\n",
       "effective_speed        9581\n",
       "hit_location              0\n",
       "Spin_Rate             28885\n",
       "vx0                    1828\n",
       "vy0                    1828\n",
       "vz0                    1828\n",
       "ax                     1828\n",
       "ay                     1828\n",
       "az                     1828\n",
       "pfx_x                  1828\n",
       "pfx_z                  1828\n",
       "bauer_units           28885\n",
       "dtype: int64"
      ]
     },
     "execution_count": 22,
     "metadata": {},
     "output_type": "execute_result"
    }
   ],
   "source": [
    "data.isna().sum()"
   ]
  },
  {
   "cell_type": "code",
   "execution_count": 7,
   "metadata": {},
   "outputs": [],
   "source": [
    "#Dropping remaining null values\n",
    "data.dropna(inplace = True)"
   ]
  },
  {
   "cell_type": "code",
   "execution_count": 8,
   "metadata": {},
   "outputs": [
    {
     "data": {
      "text/plain": [
       "(743066, 19)"
      ]
     },
     "execution_count": 8,
     "metadata": {},
     "output_type": "execute_result"
    }
   ],
   "source": [
    "data.shape"
   ]
  },
  {
   "cell_type": "code",
   "execution_count": 12,
   "metadata": {},
   "outputs": [
    {
     "data": {
      "text/plain": [
       "Series([], Name: events, dtype: int64)"
      ]
     },
     "execution_count": 12,
     "metadata": {},
     "output_type": "execute_result"
    }
   ],
   "source": [
    "#should drop field_error and hit_by_pitch\n",
    "data.events.value_counts()"
   ]
  },
  {
   "cell_type": "code",
   "execution_count": 12,
   "metadata": {
    "scrolled": true
   },
   "outputs": [
    {
     "data": {
      "text/plain": [
       "pitch_name            0\n",
       "Pitch_Velocity        0\n",
       "events                0\n",
       "hit_distance_sc       0\n",
       "Exit_velocity         0\n",
       "launch_angle          0\n",
       "launch_speed_angle    0\n",
       "effective_speed       0\n",
       "hit_location          0\n",
       "Spin_Rate             0\n",
       "vx0                   0\n",
       "vy0                   0\n",
       "vz0                   0\n",
       "ax                    0\n",
       "ay                    0\n",
       "az                    0\n",
       "pfx_x                 0\n",
       "pfx_z                 0\n",
       "bauer_units           0\n",
       "dtype: int64"
      ]
     },
     "execution_count": 12,
     "metadata": {},
     "output_type": "execute_result"
    }
   ],
   "source": [
    "#No null values remaining in the dataset\n",
    "data.isna().sum()"
   ]
  },
  {
   "cell_type": "code",
   "execution_count": 13,
   "metadata": {},
   "outputs": [
    {
     "data": {
      "text/plain": [
       "(0, 28)"
      ]
     },
     "execution_count": 13,
     "metadata": {},
     "output_type": "execute_result"
    }
   ],
   "source": [
    "#Checking shape of the dataframe\n",
    "data.shape"
   ]
  },
  {
   "cell_type": "code",
   "execution_count": 9,
   "metadata": {},
   "outputs": [],
   "source": [
    "#Label encoding pitch name for the computer to recognize that there are different pitches\n",
    "from sklearn.preprocessing import LabelEncoder\n",
    "le = LabelEncoder()\n",
    "data['pitch_name']= le.fit_transform(data['pitch_name'])"
   ]
  },
  {
   "cell_type": "code",
   "execution_count": 26,
   "metadata": {},
   "outputs": [
    {
     "data": {
      "text/html": [
       "<div>\n",
       "<style scoped>\n",
       "    .dataframe tbody tr th:only-of-type {\n",
       "        vertical-align: middle;\n",
       "    }\n",
       "\n",
       "    .dataframe tbody tr th {\n",
       "        vertical-align: top;\n",
       "    }\n",
       "\n",
       "    .dataframe thead th {\n",
       "        text-align: right;\n",
       "    }\n",
       "</style>\n",
       "<table border=\"1\" class=\"dataframe\">\n",
       "  <thead>\n",
       "    <tr style=\"text-align: right;\">\n",
       "      <th></th>\n",
       "      <th>pitch_name</th>\n",
       "      <th>Pitch_Velocity</th>\n",
       "      <th>events</th>\n",
       "      <th>hit_distance_sc</th>\n",
       "      <th>Exit_velocity</th>\n",
       "      <th>launch_angle</th>\n",
       "      <th>launch_speed_angle</th>\n",
       "      <th>effective_speed</th>\n",
       "      <th>hit_location</th>\n",
       "      <th>Spin_Rate</th>\n",
       "      <th>vx0</th>\n",
       "      <th>vy0</th>\n",
       "      <th>vz0</th>\n",
       "      <th>ax</th>\n",
       "      <th>ay</th>\n",
       "      <th>az</th>\n",
       "      <th>pfx_x</th>\n",
       "      <th>pfx_z</th>\n",
       "      <th>bauer_units</th>\n",
       "    </tr>\n",
       "  </thead>\n",
       "  <tbody>\n",
       "    <tr>\n",
       "      <th>0</th>\n",
       "      <td>4</td>\n",
       "      <td>90.4</td>\n",
       "      <td>out</td>\n",
       "      <td>256.0</td>\n",
       "      <td>79.1</td>\n",
       "      <td>22.0</td>\n",
       "      <td>4.0</td>\n",
       "      <td>90.193</td>\n",
       "      <td>7.0</td>\n",
       "      <td>2449.0</td>\n",
       "      <td>-7.065</td>\n",
       "      <td>-131.512</td>\n",
       "      <td>-3.298</td>\n",
       "      <td>-3.334</td>\n",
       "      <td>27.861</td>\n",
       "      <td>-30.520</td>\n",
       "      <td>-0.394417</td>\n",
       "      <td>0.329000</td>\n",
       "      <td>27.090708</td>\n",
       "    </tr>\n",
       "    <tr>\n",
       "      <th>1</th>\n",
       "      <td>7</td>\n",
       "      <td>81.5</td>\n",
       "      <td>ball</td>\n",
       "      <td>0.0</td>\n",
       "      <td>0.0</td>\n",
       "      <td>0.0</td>\n",
       "      <td>0.0</td>\n",
       "      <td>81.301</td>\n",
       "      <td>0.0</td>\n",
       "      <td>2293.0</td>\n",
       "      <td>-7.940</td>\n",
       "      <td>-118.390</td>\n",
       "      <td>-2.930</td>\n",
       "      <td>-0.977</td>\n",
       "      <td>18.714</td>\n",
       "      <td>-31.765</td>\n",
       "      <td>-0.224633</td>\n",
       "      <td>0.232967</td>\n",
       "      <td>28.134969</td>\n",
       "    </tr>\n",
       "    <tr>\n",
       "      <th>2</th>\n",
       "      <td>3</td>\n",
       "      <td>77.1</td>\n",
       "      <td>ball</td>\n",
       "      <td>0.0</td>\n",
       "      <td>0.0</td>\n",
       "      <td>0.0</td>\n",
       "      <td>0.0</td>\n",
       "      <td>75.063</td>\n",
       "      <td>0.0</td>\n",
       "      <td>2543.0</td>\n",
       "      <td>-6.290</td>\n",
       "      <td>-112.149</td>\n",
       "      <td>-2.442</td>\n",
       "      <td>-4.252</td>\n",
       "      <td>25.153</td>\n",
       "      <td>-42.517</td>\n",
       "      <td>-0.607342</td>\n",
       "      <td>-1.004000</td>\n",
       "      <td>32.983139</td>\n",
       "    </tr>\n",
       "    <tr>\n",
       "      <th>3</th>\n",
       "      <td>4</td>\n",
       "      <td>87.6</td>\n",
       "      <td>strike</td>\n",
       "      <td>0.0</td>\n",
       "      <td>0.0</td>\n",
       "      <td>0.0</td>\n",
       "      <td>0.0</td>\n",
       "      <td>86.856</td>\n",
       "      <td>0.0</td>\n",
       "      <td>2513.0</td>\n",
       "      <td>-5.742</td>\n",
       "      <td>-127.487</td>\n",
       "      <td>-2.031</td>\n",
       "      <td>0.472</td>\n",
       "      <td>27.321</td>\n",
       "      <td>-28.650</td>\n",
       "      <td>-0.089642</td>\n",
       "      <td>0.502433</td>\n",
       "      <td>28.687215</td>\n",
       "    </tr>\n",
       "    <tr>\n",
       "      <th>4</th>\n",
       "      <td>4</td>\n",
       "      <td>86.2</td>\n",
       "      <td>strike</td>\n",
       "      <td>0.0</td>\n",
       "      <td>0.0</td>\n",
       "      <td>0.0</td>\n",
       "      <td>0.0</td>\n",
       "      <td>86.030</td>\n",
       "      <td>0.0</td>\n",
       "      <td>2422.0</td>\n",
       "      <td>-6.874</td>\n",
       "      <td>-125.377</td>\n",
       "      <td>-2.652</td>\n",
       "      <td>-1.359</td>\n",
       "      <td>24.380</td>\n",
       "      <td>-28.309</td>\n",
       "      <td>-0.248292</td>\n",
       "      <td>0.539700</td>\n",
       "      <td>28.097448</td>\n",
       "    </tr>\n",
       "    <tr>\n",
       "      <th>5</th>\n",
       "      <td>1</td>\n",
       "      <td>91.8</td>\n",
       "      <td>ball</td>\n",
       "      <td>0.0</td>\n",
       "      <td>0.0</td>\n",
       "      <td>0.0</td>\n",
       "      <td>0.0</td>\n",
       "      <td>90.941</td>\n",
       "      <td>0.0</td>\n",
       "      <td>2115.0</td>\n",
       "      <td>-9.252</td>\n",
       "      <td>-133.420</td>\n",
       "      <td>-2.692</td>\n",
       "      <td>10.444</td>\n",
       "      <td>31.375</td>\n",
       "      <td>-19.811</td>\n",
       "      <td>0.684125</td>\n",
       "      <td>1.187567</td>\n",
       "      <td>23.039216</td>\n",
       "    </tr>\n",
       "    <tr>\n",
       "      <th>6</th>\n",
       "      <td>4</td>\n",
       "      <td>88.1</td>\n",
       "      <td>single</td>\n",
       "      <td>60.0</td>\n",
       "      <td>89.1</td>\n",
       "      <td>3.0</td>\n",
       "      <td>2.0</td>\n",
       "      <td>87.526</td>\n",
       "      <td>9.0</td>\n",
       "      <td>2465.0</td>\n",
       "      <td>-5.272</td>\n",
       "      <td>-128.235</td>\n",
       "      <td>-2.390</td>\n",
       "      <td>-1.473</td>\n",
       "      <td>28.023</td>\n",
       "      <td>-28.666</td>\n",
       "      <td>-0.253858</td>\n",
       "      <td>0.498133</td>\n",
       "      <td>27.979569</td>\n",
       "    </tr>\n",
       "    <tr>\n",
       "      <th>7</th>\n",
       "      <td>3</td>\n",
       "      <td>77.2</td>\n",
       "      <td>ball</td>\n",
       "      <td>0.0</td>\n",
       "      <td>0.0</td>\n",
       "      <td>0.0</td>\n",
       "      <td>0.0</td>\n",
       "      <td>75.389</td>\n",
       "      <td>0.0</td>\n",
       "      <td>2514.0</td>\n",
       "      <td>-4.620</td>\n",
       "      <td>-112.364</td>\n",
       "      <td>-0.727</td>\n",
       "      <td>-5.753</td>\n",
       "      <td>24.912</td>\n",
       "      <td>-42.320</td>\n",
       "      <td>-0.771558</td>\n",
       "      <td>-0.973900</td>\n",
       "      <td>32.564767</td>\n",
       "    </tr>\n",
       "    <tr>\n",
       "      <th>9</th>\n",
       "      <td>1</td>\n",
       "      <td>89.5</td>\n",
       "      <td>foul</td>\n",
       "      <td>233.0</td>\n",
       "      <td>75.0</td>\n",
       "      <td>35.0</td>\n",
       "      <td>0.0</td>\n",
       "      <td>88.828</td>\n",
       "      <td>0.0</td>\n",
       "      <td>2438.0</td>\n",
       "      <td>-7.927</td>\n",
       "      <td>-130.104</td>\n",
       "      <td>-3.647</td>\n",
       "      <td>3.183</td>\n",
       "      <td>27.453</td>\n",
       "      <td>-22.159</td>\n",
       "      <td>0.128850</td>\n",
       "      <td>1.031333</td>\n",
       "      <td>27.240223</td>\n",
       "    </tr>\n",
       "    <tr>\n",
       "      <th>10</th>\n",
       "      <td>0</td>\n",
       "      <td>85.6</td>\n",
       "      <td>out</td>\n",
       "      <td>300.0</td>\n",
       "      <td>91.6</td>\n",
       "      <td>37.0</td>\n",
       "      <td>3.0</td>\n",
       "      <td>85.222</td>\n",
       "      <td>9.0</td>\n",
       "      <td>1360.0</td>\n",
       "      <td>-6.415</td>\n",
       "      <td>-124.506</td>\n",
       "      <td>-0.322</td>\n",
       "      <td>11.561</td>\n",
       "      <td>26.242</td>\n",
       "      <td>-24.781</td>\n",
       "      <td>0.899833</td>\n",
       "      <td>0.872233</td>\n",
       "      <td>15.887850</td>\n",
       "    </tr>\n",
       "  </tbody>\n",
       "</table>\n",
       "</div>"
      ],
      "text/plain": [
       "    pitch_name  Pitch_Velocity  events  hit_distance_sc  Exit_velocity  \\\n",
       "0            4            90.4     out            256.0           79.1   \n",
       "1            7            81.5    ball              0.0            0.0   \n",
       "2            3            77.1    ball              0.0            0.0   \n",
       "3            4            87.6  strike              0.0            0.0   \n",
       "4            4            86.2  strike              0.0            0.0   \n",
       "5            1            91.8    ball              0.0            0.0   \n",
       "6            4            88.1  single             60.0           89.1   \n",
       "7            3            77.2    ball              0.0            0.0   \n",
       "9            1            89.5    foul            233.0           75.0   \n",
       "10           0            85.6     out            300.0           91.6   \n",
       "\n",
       "    launch_angle  launch_speed_angle  effective_speed  hit_location  \\\n",
       "0           22.0                 4.0           90.193           7.0   \n",
       "1            0.0                 0.0           81.301           0.0   \n",
       "2            0.0                 0.0           75.063           0.0   \n",
       "3            0.0                 0.0           86.856           0.0   \n",
       "4            0.0                 0.0           86.030           0.0   \n",
       "5            0.0                 0.0           90.941           0.0   \n",
       "6            3.0                 2.0           87.526           9.0   \n",
       "7            0.0                 0.0           75.389           0.0   \n",
       "9           35.0                 0.0           88.828           0.0   \n",
       "10          37.0                 3.0           85.222           9.0   \n",
       "\n",
       "    Spin_Rate    vx0      vy0    vz0      ax      ay      az     pfx_x  \\\n",
       "0      2449.0 -7.065 -131.512 -3.298  -3.334  27.861 -30.520 -0.394417   \n",
       "1      2293.0 -7.940 -118.390 -2.930  -0.977  18.714 -31.765 -0.224633   \n",
       "2      2543.0 -6.290 -112.149 -2.442  -4.252  25.153 -42.517 -0.607342   \n",
       "3      2513.0 -5.742 -127.487 -2.031   0.472  27.321 -28.650 -0.089642   \n",
       "4      2422.0 -6.874 -125.377 -2.652  -1.359  24.380 -28.309 -0.248292   \n",
       "5      2115.0 -9.252 -133.420 -2.692  10.444  31.375 -19.811  0.684125   \n",
       "6      2465.0 -5.272 -128.235 -2.390  -1.473  28.023 -28.666 -0.253858   \n",
       "7      2514.0 -4.620 -112.364 -0.727  -5.753  24.912 -42.320 -0.771558   \n",
       "9      2438.0 -7.927 -130.104 -3.647   3.183  27.453 -22.159  0.128850   \n",
       "10     1360.0 -6.415 -124.506 -0.322  11.561  26.242 -24.781  0.899833   \n",
       "\n",
       "       pfx_z  bauer_units  \n",
       "0   0.329000    27.090708  \n",
       "1   0.232967    28.134969  \n",
       "2  -1.004000    32.983139  \n",
       "3   0.502433    28.687215  \n",
       "4   0.539700    28.097448  \n",
       "5   1.187567    23.039216  \n",
       "6   0.498133    27.979569  \n",
       "7  -0.973900    32.564767  \n",
       "9   1.031333    27.240223  \n",
       "10  0.872233    15.887850  "
      ]
     },
     "execution_count": 26,
     "metadata": {},
     "output_type": "execute_result"
    }
   ],
   "source": [
    "data.head(10)"
   ]
  },
  {
   "cell_type": "markdown",
   "metadata": {},
   "source": [
    "# Scaling the Data"
   ]
  },
  {
   "cell_type": "code",
   "execution_count": 30,
   "metadata": {},
   "outputs": [
    {
     "name": "stderr",
     "output_type": "stream",
     "text": [
      "/Users/nickrad/anaconda3/envs/PythonData/lib/python3.6/site-packages/sklearn/preprocessing/data.py:323: DataConversionWarning: Data with input dtype int64, float64 were all converted to float64 by MinMaxScaler.\n",
      "  return self.partial_fit(X, y)\n"
     ]
    }
   ],
   "source": [
    "#scaling data\n",
    "from sklearn.preprocessing import MinMaxScaler\n",
    "scaler = MinMaxScaler()\n",
    "X = data.drop(columns=['events'], axis =1)\n",
    "y = data.events\n",
    "X = scaler.fit_transform(X)\n",
    "#train and test data\n",
    "from sklearn.model_selection import train_test_split\n",
    "X_train, X_test, y_train, y_test = train_test_split(X, y, random_state=1)"
   ]
  },
  {
   "cell_type": "code",
   "execution_count": 33,
   "metadata": {},
   "outputs": [
    {
     "name": "stderr",
     "output_type": "stream",
     "text": [
      "/Users/nickrad/anaconda3/envs/PythonData/lib/python3.6/site-packages/sklearn/utils/optimize.py:203: ConvergenceWarning: newton-cg failed to converge. Increase the number of iterations.\n",
      "  \"number of iterations.\", ConvergenceWarning)\n"
     ]
    },
    {
     "name": "stdout",
     "output_type": "stream",
     "text": [
      "R-sqaured training data: 0.6368538253253639\n",
      "R-squared testing data: 0.6356403451635652\n"
     ]
    }
   ],
   "source": [
    "#Going to run logistic regression to see if we get a better output\n",
    "from sklearn.linear_model import LogisticRegression\n",
    "classifier = LogisticRegression(multi_class= 'multinomial', solver='newton-cg', C=1e5)\n",
    "classifier.fit(X_train,y_train)\n",
    "print(f\"R-sqaured training data: {classifier.score(X_train, y_train)}\")\n",
    "print(f\"R-squared testing data: {classifier.score(X_test, y_test)}\")"
   ]
  },
  {
   "cell_type": "code",
   "execution_count": 34,
   "metadata": {},
   "outputs": [
    {
     "name": "stderr",
     "output_type": "stream",
     "text": [
      "/Users/nickrad/anaconda3/envs/PythonData/lib/python3.6/site-packages/sklearn/metrics/classification.py:1143: UndefinedMetricWarning: Precision and F-score are ill-defined and being set to 0.0 in labels with no predicted samples.\n",
      "  'precision', 'predicted', average, warn_for)\n"
     ]
    },
    {
     "name": "stdout",
     "output_type": "stream",
     "text": [
      "              precision    recall  f1-score   support\n",
      "\n",
      "        ball       0.53      0.97      0.68     67172\n",
      "      double       0.39      0.17      0.24      2114\n",
      "        foul       0.99      0.47      0.64     34045\n",
      "    home_run       0.95      0.97      0.96      1369\n",
      "         out       0.81      0.94      0.87     22151\n",
      "      single       0.70      0.48      0.57      7239\n",
      "      strike       0.81      0.21      0.34     51479\n",
      "      triple       0.00      0.00      0.00       198\n",
      "\n",
      "   micro avg       0.64      0.64      0.64    185767\n",
      "   macro avg       0.65      0.53      0.54    185767\n",
      "weighted avg       0.73      0.64      0.59    185767\n",
      "\n"
     ]
    }
   ],
   "source": [
    "#Looking at classification report, f1 score of .59\n",
    "#Will use that to compare to other models\n",
    "predictions = classifier.predict(X_test)\n",
    "results = pd.DataFrame({\"Prediction\": predictions, \"Actual\": y_test}).reset_index(drop=True)\n",
    "from sklearn.metrics import classification_report\n",
    "print(classification_report(y_test, predictions))"
   ]
  },
  {
   "cell_type": "code",
   "execution_count": 35,
   "metadata": {},
   "outputs": [
    {
     "name": "stdout",
     "output_type": "stream",
     "text": [
      "R-sqaured training data: 0.7155153696669113\n",
      "R-squared testing data: 0.7143034015729381\n"
     ]
    }
   ],
   "source": [
    "#Gradient Boosting \n",
    "from sklearn.ensemble import GradientBoostingClassifier\n",
    "model = GradientBoostingClassifier()\n",
    "model.fit(X_train, y_train)\n",
    "print(f\"R-sqaured training data: {model.score(X_train, y_train)}\")\n",
    "print(f\"R-squared testing data: {model.score(X_test, y_test)}\")"
   ]
  },
  {
   "cell_type": "code",
   "execution_count": 36,
   "metadata": {},
   "outputs": [
    {
     "name": "stdout",
     "output_type": "stream",
     "text": [
      "              precision    recall  f1-score   support\n",
      "\n",
      "        ball       0.65      0.86      0.74     67172\n",
      "      double       0.58      0.23      0.32      2114\n",
      "        foul       0.99      0.48      0.64     34045\n",
      "    home_run       0.97      0.99      0.98      1369\n",
      "         out       0.91      0.98      0.94     22151\n",
      "      single       0.84      0.80      0.82      7239\n",
      "      strike       0.63      0.57      0.60     51479\n",
      "      triple       0.11      0.01      0.01       198\n",
      "\n",
      "   micro avg       0.71      0.71      0.71    185767\n",
      "   macro avg       0.71      0.61      0.63    185767\n",
      "weighted avg       0.74      0.71      0.71    185767\n",
      "\n"
     ]
    }
   ],
   "source": [
    "modelpredict = model.predict(X_test)\n",
    "from sklearn.metrics import classification_report\n",
    "print(classification_report(y_test, modelpredict))"
   ]
  },
  {
   "cell_type": "code",
   "execution_count": 38,
   "metadata": {},
   "outputs": [
    {
     "data": {
      "image/png": "[encoded data removed]",
      "text/plain": [
       "<Figure size 720x576 with 1 Axes>"
      ]
     },
     "metadata": {
      "needs_background": "light"
     },
     "output_type": "display_data"
    }
   ],
   "source": [
    "#Feature important breakdown of the model\n",
    "import matplotlib.pyplot as plt\n",
    "plt.figure(1, figsize=(10, 8))\n",
    "plt.bar(range(len(model.feature_importances_)), model.feature_importances_)\n",
    "labels = list(X_train)\n",
    "plt.xticks(range(len(model.feature_importances_)), labels, rotation='vertical')\n",
    "plt.xlabel(\"Features\")\n",
    "plt.ylabel(\"Importance\")\n",
    "plt.title(\"Features Importance\")\n",
    "plt.show()"
   ]
  },
  {
   "cell_type": "code",
   "execution_count": null,
   "metadata": {},
   "outputs": [],
   "source": [
    "#Going to run for the SVM will reduced data"
   ]
  },
  {
   "cell_type": "code",
   "execution_count": 39,
   "metadata": {},
   "outputs": [
    {
     "data": {
      "text/plain": [
       "(148614, 19)"
      ]
     },
     "execution_count": 39,
     "metadata": {},
     "output_type": "execute_result"
    }
   ],
   "source": [
    "svm_data = data.loc[::5]\n",
    "svm_data.shape"
   ]
  },
  {
   "cell_type": "code",
   "execution_count": 40,
   "metadata": {},
   "outputs": [
    {
     "name": "stderr",
     "output_type": "stream",
     "text": [
      "/Users/nickrad/anaconda3/envs/PythonData/lib/python3.6/site-packages/sklearn/preprocessing/data.py:323: DataConversionWarning: Data with input dtype int64, float64 were all converted to float64 by MinMaxScaler.\n",
      "  return self.partial_fit(X, y)\n"
     ]
    }
   ],
   "source": [
    "#scaling data\n",
    "from sklearn.preprocessing import MinMaxScaler\n",
    "scaler = MinMaxScaler()\n",
    "X_svm = svm_data.drop(columns=['events'], axis =1)\n",
    "y = svm_data.events\n",
    "X_svm = scaler.fit_transform(X_svm)\n",
    "#train and test data\n",
    "from sklearn.model_selection import train_test_split\n",
    "X_svm_train, X_svm_test, y_svm_train, y_svm_test = train_test_split(X_svm, y, random_state=1)"
   ]
  },
  {
   "cell_type": "code",
   "execution_count": 42,
   "metadata": {},
   "outputs": [
    {
     "name": "stdout",
     "output_type": "stream",
     "text": [
      "R-sqaured training data: 0.6481876906513547\n",
      "R-squared testing data: 0.6480594283253486\n"
     ]
    }
   ],
   "source": [
    "from sklearn import svm\n",
    "clf = svm.SVC(gamma='scale', decision_function_shape='ovo', class_weight= None)\n",
    "clf.fit(X_svm_train, y_svm_train)\n",
    "print(f\"R-sqaured training data: {clf.score(X_svm_train, y_svm_train)}\")\n",
    "print(f\"R-squared testing data: {clf.score(X_svm_test, y_svm_test)}\")"
   ]
  },
  {
   "cell_type": "code",
   "execution_count": 43,
   "metadata": {},
   "outputs": [
    {
     "name": "stderr",
     "output_type": "stream",
     "text": [
      "/Users/nickrad/anaconda3/envs/PythonData/lib/python3.6/site-packages/sklearn/metrics/classification.py:1143: UndefinedMetricWarning: Precision and F-score are ill-defined and being set to 0.0 in labels with no predicted samples.\n",
      "  'precision', 'predicted', average, warn_for)\n"
     ]
    },
    {
     "name": "stdout",
     "output_type": "stream",
     "text": [
      "              precision    recall  f1-score   support\n",
      "\n",
      "        ball       0.53      1.00      0.69     13433\n",
      "      double       0.39      0.02      0.03       429\n",
      "        foul       0.99      0.46      0.63      6904\n",
      "    home_run       0.93      0.99      0.96       288\n",
      "         out       0.84      0.96      0.89      4428\n",
      "      single       0.74      0.62      0.68      1481\n",
      "      strike       1.00      0.20      0.33     10153\n",
      "      triple       0.00      0.00      0.00        38\n",
      "\n",
      "   micro avg       0.65      0.65      0.65     37154\n",
      "   macro avg       0.68      0.53      0.53     37154\n",
      "weighted avg       0.79      0.65      0.60     37154\n",
      "\n"
     ]
    }
   ],
   "source": [
    "#looking at the classifciation report for the SVM\n",
    "clf_predict = clf.predict(X_svm_test)\n",
    "from sklearn.metrics import classification_report\n",
    "print(classification_report( y_svm_test, clf_predict))"
   ]
  },
  {
   "cell_type": "markdown",
   "metadata": {},
   "source": [
    "# Testing models with a Subset of the data"
   ]
  },
  {
   "cell_type": "code",
   "execution_count": 10,
   "metadata": {},
   "outputs": [
    {
     "data": {
      "text/plain": [
       "(13957, 19)"
      ]
     },
     "execution_count": 10,
     "metadata": {},
     "output_type": "execute_result"
    }
   ],
   "source": [
    "#Going to initially test models with a subset of the dataset\n",
    "#Using 14,023 rows to test models\n",
    "test_data = data.loc[:730000:50]\n",
    "test_data.shape"
   ]
  },
  {
   "cell_type": "code",
   "execution_count": 11,
   "metadata": {},
   "outputs": [],
   "source": [
    "#Breaking down into X and Y values to feed to model\n",
    "X = test_data.drop(columns=['events'], axis =1)\n",
    "y = test_data.events"
   ]
  },
  {
   "cell_type": "markdown",
   "metadata": {},
   "source": [
    "Not going to scale the data initially"
   ]
  },
  {
   "cell_type": "code",
   "execution_count": 12,
   "metadata": {},
   "outputs": [],
   "source": [
    "#train and test data\n",
    "from sklearn.model_selection import train_test_split\n",
    "X_train, X_test, y_train, y_test = train_test_split(X, y, random_state=1)"
   ]
  },
  {
   "cell_type": "markdown",
   "metadata": {},
   "source": [
    "Running a logistic regression as a baseline"
   ]
  },
  {
   "cell_type": "code",
   "execution_count": 13,
   "metadata": {},
   "outputs": [
    {
     "name": "stdout",
     "output_type": "stream",
     "text": [
      "R-sqaured training data: 0.6419222317760581\n",
      "R-squared testing data: 0.6286532951289399\n"
     ]
    },
    {
     "name": "stderr",
     "output_type": "stream",
     "text": [
      "/Users/nickrad/anaconda3/envs/PythonData/lib/python3.6/site-packages/sklearn/utils/optimize.py:203: ConvergenceWarning: newton-cg failed to converge. Increase the number of iterations.\n",
      "  \"number of iterations.\", ConvergenceWarning)\n"
     ]
    }
   ],
   "source": [
    "#Logistic Regression\n",
    "from sklearn.linear_model import LogisticRegression\n",
    "classifier = LogisticRegression(multi_class= 'multinomial', solver='newton-cg', C=1e5)\n",
    "classifier.fit(X_train,y_train)\n",
    "\n",
    "#Get R-squared value for training and testing data\n",
    "print(f\"R-sqaured training data: {classifier.score(X_train, y_train)}\")\n",
    "print(f\"R-squared testing data: {classifier.score(X_test, y_test)}\")"
   ]
  },
  {
   "cell_type": "markdown",
   "metadata": {},
   "source": [
    "The logistic regression returned R-squared values for both training and testing data of .63. A respectable baseline.\n",
    "Could graph feature importance next."
   ]
  },
  {
   "cell_type": "code",
   "execution_count": 14,
   "metadata": {},
   "outputs": [
    {
     "name": "stdout",
     "output_type": "stream",
     "text": [
      "              precision    recall  f1-score   support\n",
      "\n",
      "        ball       0.52      0.98      0.68      1250\n",
      "      double       0.33      0.27      0.30        37\n",
      "        foul       0.99      0.46      0.63       652\n",
      "    home_run       0.97      0.97      0.97        31\n",
      "         out       0.80      0.91      0.85       400\n",
      "      single       0.68      0.47      0.56       154\n",
      "      strike       0.85      0.20      0.32       962\n",
      "      triple       0.00      0.00      0.00         4\n",
      "\n",
      "   micro avg       0.63      0.63      0.63      3490\n",
      "   macro avg       0.64      0.53      0.54      3490\n",
      "weighted avg       0.74      0.63      0.59      3490\n",
      "\n"
     ]
    },
    {
     "name": "stderr",
     "output_type": "stream",
     "text": [
      "/Users/nickrad/anaconda3/envs/PythonData/lib/python3.6/site-packages/sklearn/metrics/classification.py:1143: UndefinedMetricWarning: Precision and F-score are ill-defined and being set to 0.0 in labels with no predicted samples.\n",
      "  'precision', 'predicted', average, warn_for)\n"
     ]
    }
   ],
   "source": [
    "#Looking at classification report, f1 score of .59\n",
    "#Will use that to compare to other models\n",
    "predictions = classifier.predict(X_test)\n",
    "results = pd.DataFrame({\"Prediction\": predictions, \"Actual\": y_test}).reset_index(drop=True)\n",
    "from sklearn.metrics import classification_report\n",
    "print(classification_report(y_test, predictions))"
   ]
  },
  {
   "cell_type": "markdown",
   "metadata": {},
   "source": [
    "Testing a gradient boosting model next"
   ]
  },
  {
   "cell_type": "code",
   "execution_count": 15,
   "metadata": {},
   "outputs": [
    {
     "name": "stdout",
     "output_type": "stream",
     "text": [
      "R-sqaured training data: 0.7554218018534442\n",
      "R-squared testing data: 0.6919770773638968\n"
     ]
    }
   ],
   "source": [
    "#Gradient Boosting \n",
    "from sklearn.ensemble import GradientBoostingClassifier\n",
    "model = GradientBoostingClassifier()\n",
    "model.fit(X_train, y_train)\n",
    "print(f\"R-sqaured training data: {model.score(X_train, y_train)}\")\n",
    "print(f\"R-squared testing data: {model.score(X_test, y_test)}\")"
   ]
  },
  {
   "cell_type": "markdown",
   "metadata": {},
   "source": [
    "Gradient Boosting produced an improved training score with a .75 but it dipped when testing the data to .698."
   ]
  },
  {
   "cell_type": "code",
   "execution_count": 17,
   "metadata": {
    "scrolled": true
   },
   "outputs": [
    {
     "name": "stdout",
     "output_type": "stream",
     "text": [
      "              precision    recall  f1-score   support\n",
      "\n",
      "        ball       0.61      0.87      0.72      1250\n",
      "      double       0.42      0.30      0.35        37\n",
      "        foul       0.98      0.47      0.63       652\n",
      "    home_run       0.97      1.00      0.98        31\n",
      "         out       0.90      0.97      0.93       400\n",
      "      single       0.83      0.73      0.78       154\n",
      "      strike       0.61      0.51      0.55       962\n",
      "      triple       0.00      0.00      0.00         4\n",
      "\n",
      "   micro avg       0.69      0.69      0.69      3490\n",
      "   macro avg       0.67      0.60      0.62      3490\n",
      "weighted avg       0.73      0.69      0.68      3490\n",
      "\n"
     ]
    }
   ],
   "source": [
    "modelpredict = model.predict(X_test)\n",
    "from sklearn.metrics import classification_report\n",
    "print(classification_report(y_test, modelpredict))"
   ]
  },
  {
   "cell_type": "markdown",
   "metadata": {},
   "source": [
    "With a f1 score of .69, the gradient boosting model looks to be superior than the logistic regression initially."
   ]
  },
  {
   "cell_type": "code",
   "execution_count": 19,
   "metadata": {},
   "outputs": [
    {
     "data": {
      "image/png": "[encoded data removed]",
      "text/plain": [
       "<Figure size 720x576 with 1 Axes>"
      ]
     },
     "metadata": {
      "needs_background": "light"
     },
     "output_type": "display_data"
    }
   ],
   "source": [
    "#Feature important breakdown of the model\n",
    "import matplotlib.pyplot as plt\n",
    "plt.figure(1, figsize=(10, 8))\n",
    "plt.bar(range(len(model.feature_importances_)), model.feature_importances_)\n",
    "labels = list(X_train)\n",
    "plt.xticks(range(len(model.feature_importances_)), labels, rotation='vertical')\n",
    "plt.xlabel(\"Features\")\n",
    "plt.ylabel(\"Importance\")\n",
    "plt.title(\"Features Importance\")\n",
    "plt.show()"
   ]
  },
  {
   "cell_type": "markdown",
   "metadata": {},
   "source": [
    "Testing Support Vector Machines "
   ]
  },
  {
   "cell_type": "code",
   "execution_count": 20,
   "metadata": {},
   "outputs": [
    {
     "name": "stdout",
     "output_type": "stream",
     "text": [
      "R-sqaured training data: 0.5475303334288717\n",
      "R-squared testing data: 0.5255014326647565\n"
     ]
    }
   ],
   "source": [
    "#SVM\n",
    "#Not much of a difference between ovo and ovr\n",
    "from sklearn import svm\n",
    "clf = svm.SVC(gamma='scale', decision_function_shape='ovo', class_weight= None, )\n",
    "clf.fit(X_train, y_train)\n",
    "print(f\"R-sqaured training data: {clf.score(X_train, y_train)}\")\n",
    "print(f\"R-squared testing data: {clf.score(X_test, y_test)}\")"
   ]
  },
  {
   "cell_type": "markdown",
   "metadata": {},
   "source": [
    "The SVM returns an R-squared value of .52 "
   ]
  },
  {
   "cell_type": "code",
   "execution_count": 21,
   "metadata": {
    "scrolled": true
   },
   "outputs": [
    {
     "name": "stdout",
     "output_type": "stream",
     "text": [
      "              precision    recall  f1-score   support\n",
      "\n",
      "        ball       0.49      0.97      0.65      1250\n",
      "      double       0.00      0.00      0.00        37\n",
      "        foul       0.75      0.27      0.40       652\n",
      "    home_run       0.57      0.42      0.48        31\n",
      "         out       0.60      0.87      0.71       400\n",
      "      single       0.61      0.35      0.45       154\n",
      "      strike       0.40      0.03      0.05       962\n",
      "      triple       0.00      0.00      0.00         4\n",
      "\n",
      "   micro avg       0.53      0.53      0.53      3490\n",
      "   macro avg       0.43      0.36      0.34      3490\n",
      "weighted avg       0.53      0.53      0.43      3490\n",
      "\n"
     ]
    },
    {
     "name": "stderr",
     "output_type": "stream",
     "text": [
      "/Users/nickrad/anaconda3/envs/PythonData/lib/python3.6/site-packages/sklearn/metrics/classification.py:1143: UndefinedMetricWarning: Precision and F-score are ill-defined and being set to 0.0 in labels with no predicted samples.\n",
      "  'precision', 'predicted', average, warn_for)\n"
     ]
    }
   ],
   "source": [
    "#looking at the classifciation report for the SVM\n",
    "clf_predict = clf.predict(X_test)\n",
    "from sklearn.metrics import classification_report\n",
    "print(classification_report( y_test, clf_predict))"
   ]
  },
  {
   "cell_type": "code",
   "execution_count": 24,
   "metadata": {},
   "outputs": [],
   "source": [
    "clf_results = pd.DataFrame({\"Prediction\": clf_predict,\n",
    "                           \"Actual\": y_test})"
   ]
  },
  {
   "cell_type": "code",
   "execution_count": 75,
   "metadata": {},
   "outputs": [
    {
     "data": {
      "text/plain": [
       "<Figure size 864x576 with 0 Axes>"
      ]
     },
     "metadata": {},
     "output_type": "display_data"
    },
    {
     "data": {
      "image/png": "[encoded data removed]",
      "text/plain": [
       "<Figure size 432x288 with 1 Axes>"
      ]
     },
     "metadata": {
      "needs_background": "light"
     },
     "output_type": "display_data"
    }
   ],
   "source": [
    "#Creating a datafram and graphing actual results vs the models prediction\n",
    "clf_results = pd.DataFrame({\"Prediction\": clf_predict,\n",
    "                           \"Actual\": y_test})\n",
    "predict_counts = clf_results.Prediction.value_counts()\n",
    "predict_df = predict_counts.to_frame()\n",
    "actual_counts = clf_results.Actual.value_counts()\n",
    "actual_df = actual_counts.to_frame()\n",
    "graph_items = pd.merge( predict_df, actual_df,left_index=True, right_index=True ,suffixes= ('predict', 'actual'))\n",
    "\n",
    "#Bar graph of predicted v Actual\n",
    "plt.figure(figsize=(12,8))\n",
    "graph_items.plot.bar(rot=0)\n",
    "plt.xlabel('Result')\n",
    "plt.ylabel('Number of Occurances')\n",
    "plt.title('SVM: Predicted Outcomes vs Actual Outcomes')\n",
    "plt.show()"
   ]
  },
  {
   "cell_type": "markdown",
   "metadata": {},
   "source": [
    "With an  f1 score of .43, the SVM performed the worst on the subsetted dataset."
   ]
  },
  {
   "cell_type": "markdown",
   "metadata": {},
   "source": [
    "# Testing the Whole Dataset"
   ]
  },
  {
   "cell_type": "code",
   "execution_count": 12,
   "metadata": {},
   "outputs": [],
   "source": [
    "#Breaking down into X and Y values to feed to model\n",
    "X = data.drop(columns=['events'], axis =1)\n",
    "y = data.events"
   ]
  },
  {
   "cell_type": "code",
   "execution_count": 15,
   "metadata": {},
   "outputs": [],
   "source": [
    "#train and test data\n",
    "from sklearn.model_selection import train_test_split\n",
    "X_train, X_test, y_train, y_test = train_test_split(X, y, random_state=1)"
   ]
  },
  {
   "cell_type": "markdown",
   "metadata": {},
   "source": [
    "Logistic Regression with full dataset"
   ]
  },
  {
   "cell_type": "code",
   "execution_count": 16,
   "metadata": {},
   "outputs": [
    {
     "name": "stderr",
     "output_type": "stream",
     "text": [
      "/Users/nickrad/anaconda3/envs/PythonData/lib/python3.6/site-packages/sklearn/utils/optimize.py:203: ConvergenceWarning: newton-cg failed to converge. Increase the number of iterations.\n",
      "  \"number of iterations.\", ConvergenceWarning)\n"
     ]
    },
    {
     "name": "stdout",
     "output_type": "stream",
     "text": [
      "R-sqaured training data: 0.6342763661951205\n",
      "R-squared testing data: 0.6335162126829686\n"
     ]
    }
   ],
   "source": [
    "#Logistic Regression\n",
    "from sklearn.linear_model import LogisticRegression\n",
    "classifier = LogisticRegression(multi_class= 'multinomial', solver='newton-cg', C=1e5)\n",
    "classifier.fit(X_train,y_train)\n",
    "\n",
    "#Get R-squared value for training and testing data\n",
    "print(f\"R-sqaured training data: {classifier.score(X_train, y_train)}\")\n",
    "print(f\"R-squared testing data: {classifier.score(X_test, y_test)}\")"
   ]
  },
  {
   "cell_type": "markdown",
   "metadata": {},
   "source": [
    "Performed the same as with the subsetted dataset"
   ]
  },
  {
   "cell_type": "code",
   "execution_count": 17,
   "metadata": {},
   "outputs": [
    {
     "name": "stderr",
     "output_type": "stream",
     "text": [
      "/Users/nickrad/anaconda3/envs/PythonData/lib/python3.6/site-packages/sklearn/metrics/classification.py:1143: UndefinedMetricWarning: Precision and F-score are ill-defined and being set to 0.0 in labels with no predicted samples.\n",
      "  'precision', 'predicted', average, warn_for)\n"
     ]
    },
    {
     "name": "stdout",
     "output_type": "stream",
     "text": [
      "              precision    recall  f1-score   support\n",
      "\n",
      "        ball       0.53      0.97      0.68     67064\n",
      "      double       0.40      0.18      0.25      2134\n",
      " field_error       0.00      0.00      0.00       422\n",
      "        foul       0.99      0.48      0.64     33820\n",
      "hit_by_pitch       0.00      0.00      0.00       407\n",
      "    home_run       0.94      0.98      0.96      1390\n",
      "         out       0.80      0.94      0.86     22106\n",
      "      single       0.70      0.49      0.58      7210\n",
      "      strike       0.82      0.21      0.34     51875\n",
      "      triple       0.00      0.00      0.00       216\n",
      "\n",
      "   micro avg       0.63      0.63      0.63    186644\n",
      "   macro avg       0.52      0.42      0.43    186644\n",
      "weighted avg       0.73      0.63      0.59    186644\n",
      "\n"
     ]
    }
   ],
   "source": [
    "#Looking at classification report, f1 score of .59\n",
    "#Will use that to compare to other models\n",
    "predictions = classifier.predict(X_test)\n",
    "results = pd.DataFrame({\"Prediction\": predictions, \"Actual\": y_test}).reset_index(drop=True)\n",
    "from sklearn.metrics import classification_report\n",
    "print(classification_report(y_test, predictions))"
   ]
  },
  {
   "cell_type": "markdown",
   "metadata": {},
   "source": [
    "The same f1 score as well"
   ]
  },
  {
   "cell_type": "code",
   "execution_count": 18,
   "metadata": {},
   "outputs": [
    {
     "name": "stdout",
     "output_type": "stream",
     "text": [
      "R-sqaured training data: 0.7137057958927082\n",
      "R-squared testing data: 0.713304472685969\n"
     ]
    }
   ],
   "source": [
    "#Gradient Boosting \n",
    "from sklearn.ensemble import GradientBoostingClassifier\n",
    "model = GradientBoostingClassifier()\n",
    "model.fit(X_train, y_train)\n",
    "print(f\"R-sqaured training data: {model.score(X_train, y_train)}\")\n",
    "print(f\"R-squared testing data: {model.score(X_test, y_test)}\")"
   ]
  },
  {
   "cell_type": "markdown",
   "metadata": {},
   "source": [
    "The gradient boosting model produced a R-squared score of .71. "
   ]
  },
  {
   "cell_type": "code",
   "execution_count": 19,
   "metadata": {},
   "outputs": [
    {
     "name": "stdout",
     "output_type": "stream",
     "text": [
      "              precision    recall  f1-score   support\n",
      "\n",
      "        ball       0.65      0.85      0.74     67064\n",
      "      double       0.56      0.23      0.33      2134\n",
      " field_error       1.00      0.01      0.01       422\n",
      "        foul       0.99      0.48      0.64     33820\n",
      "hit_by_pitch       0.15      0.01      0.03       407\n",
      "    home_run       0.97      0.99      0.98      1390\n",
      "         out       0.89      0.98      0.93     22106\n",
      "      single       0.83      0.81      0.82      7210\n",
      "      strike       0.63      0.59      0.61     51875\n",
      "      triple       0.09      0.00      0.01       216\n",
      "\n",
      "   micro avg       0.71      0.71      0.71    186644\n",
      "   macro avg       0.68      0.50      0.51    186644\n",
      "weighted avg       0.74      0.71      0.70    186644\n",
      "\n"
     ]
    }
   ],
   "source": [
    "modelpredict = model.predict(X_test)\n",
    "from sklearn.metrics import classification_report\n",
    "print(classification_report(y_test, modelpredict))"
   ]
  },
  {
   "cell_type": "markdown",
   "metadata": {},
   "source": [
    "An f1 score of .7"
   ]
  },
  {
   "cell_type": "code",
   "execution_count": 21,
   "metadata": {},
   "outputs": [
    {
     "data": {
      "image/png": "[encoded data removed]",
      "text/plain": [
       "<Figure size 720x576 with 1 Axes>"
      ]
     },
     "metadata": {
      "needs_background": "light"
     },
     "output_type": "display_data"
    }
   ],
   "source": [
    "#Feature important breakdown of the model\n",
    "import matplotlib.pyplot as plt\n",
    "plt.figure(1, figsize=(10, 8))\n",
    "plt.bar(range(len(model.feature_importances_)), model.feature_importances_)\n",
    "labels = list(X_train)\n",
    "plt.xticks(range(len(model.feature_importances_)), labels, rotation='vertical')\n",
    "plt.xlabel(\"Features\")\n",
    "plt.ylabel(\"Importance\")\n",
    "plt.title(\"Features Importance\")\n",
    "plt.show()"
   ]
  },
  {
   "cell_type": "markdown",
   "metadata": {},
   "source": [
    "In looking at the feature importance, the model leans heavily on launch speed. Considering dropping launch speed angle since that is an interpretation. \n",
    "\n",
    "Suprised that pitch velocity is almost irrelevant. "
   ]
  },
  {
   "cell_type": "markdown",
   "metadata": {},
   "source": [
    "An SVM model can't handle more than 200,000 rows so going to create a subset for the model"
   ]
  },
  {
   "cell_type": "code",
   "execution_count": 13,
   "metadata": {},
   "outputs": [
    {
     "data": {
      "text/plain": [
       "(148614, 19)"
      ]
     },
     "execution_count": 13,
     "metadata": {},
     "output_type": "execute_result"
    }
   ],
   "source": [
    "#186,644 rows for the SVM model\n",
    "#getting stuck\n",
    "svm_data = data.loc[::5]\n",
    "svm_data.shape"
   ]
  },
  {
   "cell_type": "code",
   "execution_count": 14,
   "metadata": {},
   "outputs": [],
   "source": [
    "#Breaking down into X and Y values to feed to model\n",
    "X_svm = svm_data.drop(columns=['events'], axis =1)\n",
    "y_svm = svm_data.events\n",
    "#train and test data\n",
    "from sklearn.model_selection import train_test_split\n",
    "X_svm_train, X__svm_test, y_svm_train, y_svm_test = train_test_split(X_svm, y_svm, random_state=1)"
   ]
  },
  {
   "cell_type": "code",
   "execution_count": 15,
   "metadata": {},
   "outputs": [
    {
     "name": "stdout",
     "output_type": "stream",
     "text": [
      "R-sqaured training data: 0.605481787188229\n",
      "R-squared testing data: 0.6028691392582225\n"
     ]
    }
   ],
   "source": [
    "#SVM\n",
    "#Make sure that gamma = 'scale'\n",
    "from sklearn import svm\n",
    "clf = svm.SVC(gamma='scale', decision_function_shape='ovo', class_weight= None, )\n",
    "clf.fit(X_svm_train, y_svm_train)\n",
    "print(f\"R-sqaured training data: {clf.score(X_svm_train, y_svm_train)}\")\n",
    "print(f\"R-squared testing data: {clf.score(X__svm_test, y_svm_test)}\")"
   ]
  },
  {
   "cell_type": "code",
   "execution_count": 11,
   "metadata": {},
   "outputs": [
    {
     "name": "stdout",
     "output_type": "stream",
     "text": [
      "R-sqaured training data: 0.5651063525797868\n",
      "R-squared testing data: 0.5700125907471403\n"
     ]
    }
   ],
   "source": [
    "print(f\"R-sqaured training data: {clf.score(X_svm_train, y_svm_train)}\")\n",
    "print(f\"R-squared testing data: {clf.score(X__svm_test, y_svm_test)}\")"
   ]
  },
  {
   "cell_type": "code",
   "execution_count": 16,
   "metadata": {},
   "outputs": [
    {
     "name": "stderr",
     "output_type": "stream",
     "text": [
      "/Users/nickrad/anaconda3/envs/PythonData/lib/python3.6/site-packages/sklearn/metrics/classification.py:1143: UndefinedMetricWarning: Precision and F-score are ill-defined and being set to 0.0 in labels with no predicted samples.\n",
      "  'precision', 'predicted', average, warn_for)\n"
     ]
    },
    {
     "name": "stdout",
     "output_type": "stream",
     "text": [
      "              precision    recall  f1-score   support\n",
      "\n",
      "        ball       0.51      1.00      0.68     13433\n",
      "      double       0.10      0.00      0.00       429\n",
      "        foul       0.93      0.41      0.57      6904\n",
      "    home_run       0.82      0.88      0.85       288\n",
      "         out       0.75      0.93      0.83      4428\n",
      "      single       0.70      0.50      0.58      1481\n",
      "      strike       1.00      0.10      0.18     10153\n",
      "      triple       0.00      0.00      0.00        38\n",
      "\n",
      "   micro avg       0.60      0.60      0.60     37154\n",
      "   macro avg       0.60      0.48      0.46     37154\n",
      "weighted avg       0.76      0.60      0.53     37154\n",
      "\n"
     ]
    }
   ],
   "source": [
    "#looking at the classifciation report for the SVM\n",
    "clf_predict = clf.predict(X__svm_test)\n",
    "from sklearn.metrics import classification_report\n",
    "print(classification_report( y_svm_test, clf_predict))"
   ]
  },
  {
   "cell_type": "code",
   "execution_count": null,
   "metadata": {},
   "outputs": [],
   "source": [
    "results = pd.DataFrame({\"Prediction\": clf_predict, \"Actual\": y_svm_test}).reset_index(drop=True)"
   ]
  },
  {
   "cell_type": "code",
   "execution_count": 20,
   "metadata": {},
   "outputs": [
    {
     "data": {
      "text/plain": [
       "ball        27272\n",
       "out          5577\n",
       "foul         3032\n",
       "single       1162\n",
       "home_run      276\n",
       "double         10\n",
       "Name: Prediction, dtype: int64"
      ]
     },
     "execution_count": 20,
     "metadata": {},
     "output_type": "execute_result"
    }
   ],
   "source": [
    "predict_counts = results['Prediction'].value_counts()\n",
    "predict_counts"
   ]
  },
  {
   "cell_type": "code",
   "execution_count": 63,
   "metadata": {},
   "outputs": [
    {
     "ename": "AttributeError",
     "evalue": "'numpy.ndarray' object has no attribute 'unique'",
     "output_type": "error",
     "traceback": [
      "\u001b[0;31m---------------------------------------------------------------------------\u001b[0m",
      "\u001b[0;31mAttributeError\u001b[0m                            Traceback (most recent call last)",
      "\u001b[0;32m<ipython-input-63-3e661572a0a1>\u001b[0m in \u001b[0;36m<module>\u001b[0;34m\u001b[0m\n\u001b[0;32m----> 1\u001b[0;31m \u001b[0mresults\u001b[0m\u001b[0;34m.\u001b[0m\u001b[0mPrediction\u001b[0m\u001b[0;34m.\u001b[0m\u001b[0mvalues\u001b[0m\u001b[0;34m.\u001b[0m\u001b[0munique\u001b[0m\u001b[0;34m\u001b[0m\u001b[0;34m\u001b[0m\u001b[0m\n\u001b[0m",
      "\u001b[0;31mAttributeError\u001b[0m: 'numpy.ndarray' object has no attribute 'unique'"
     ]
    }
   ],
   "source": [
    "results.Prediction.values.unique"
   ]
  },
  {
   "cell_type": "code",
   "execution_count": 60,
   "metadata": {
    "scrolled": true
   },
   "outputs": [
    {
     "data": {
      "text/plain": [
       "array([13523, 10284,  6665,  4407,  1504,   454,   257,   106,    87,\n",
       "          42])"
      ]
     },
     "execution_count": 60,
     "metadata": {},
     "output_type": "execute_result"
    }
   ],
   "source": [
    "actual_counts = results['Actual'].value_counts()\n",
    "actual_counts.values"
   ]
  },
  {
   "cell_type": "code",
   "execution_count": 24,
   "metadata": {},
   "outputs": [
    {
     "data": {
      "text/plain": [
       "<matplotlib.axes._subplots.AxesSubplot at 0x11b48fba8>"
      ]
     },
     "execution_count": 24,
     "metadata": {},
     "output_type": "execute_result"
    },
    {
     "data": {
      "image/png": "[encoded data removed]",
      "text/plain": [
       "<Figure size 432x288 with 1 Axes>"
      ]
     },
     "metadata": {
      "needs_background": "light"
     },
     "output_type": "display_data"
    }
   ],
   "source": [
    "actual_counts.plot(kind='bar')"
   ]
  },
  {
   "cell_type": "code",
   "execution_count": 26,
   "metadata": {},
   "outputs": [
    {
     "data": {
      "text/plain": [
       "<matplotlib.axes._subplots.AxesSubplot at 0x122da7da0>"
      ]
     },
     "execution_count": 26,
     "metadata": {},
     "output_type": "execute_result"
    },
    {
     "data": {
      "image/png": "[encoded data removed]",
      "text/plain": [
       "<Figure size 432x288 with 1 Axes>"
      ]
     },
     "metadata": {
      "needs_background": "light"
     },
     "output_type": "display_data"
    }
   ],
   "source": [
    "pd.crosstab(results.Prediction, results.Actual).plot(kind='bar')"
   ]
  },
  {
   "cell_type": "code",
   "execution_count": 50,
   "metadata": {},
   "outputs": [
    {
     "ename": "TypeError",
     "evalue": "must be str, not float",
     "output_type": "error",
     "traceback": [
      "\u001b[0;31m---------------------------------------------------------------------------\u001b[0m",
      "\u001b[0;31mTypeError\u001b[0m                                 Traceback (most recent call last)",
      "\u001b[0;32m<ipython-input-50-85b3e882b682>\u001b[0m in \u001b[0;36m<module>\u001b[0;34m\u001b[0m\n\u001b[1;32m      7\u001b[0m \u001b[0;34m\u001b[0m\u001b[0m\n\u001b[1;32m      8\u001b[0m \u001b[0mplt\u001b[0m\u001b[0;34m.\u001b[0m\u001b[0mfigure\u001b[0m\u001b[0;34m(\u001b[0m\u001b[0mfigsize\u001b[0m\u001b[0;34m=\u001b[0m\u001b[0;34m(\u001b[0m\u001b[0;34m(\u001b[0m\u001b[0;36m10\u001b[0m\u001b[0;34m,\u001b[0m\u001b[0;36m8\u001b[0m\u001b[0;34m)\u001b[0m\u001b[0;34m)\u001b[0m\u001b[0;34m)\u001b[0m\u001b[0;34m\u001b[0m\u001b[0;34m\u001b[0m\u001b[0m\n\u001b[0;32m----> 9\u001b[0;31m \u001b[0max\u001b[0m\u001b[0;34m.\u001b[0m\u001b[0mbar\u001b[0m\u001b[0;34m(\u001b[0m\u001b[0mx\u001b[0m \u001b[0;34m=\u001b[0m \u001b[0mactual_counts\u001b[0m\u001b[0;34m.\u001b[0m\u001b[0mindex\u001b[0m \u001b[0;34m+\u001b[0m\u001b[0;36m.4\u001b[0m\u001b[0;34m,\u001b[0m \u001b[0mheight\u001b[0m \u001b[0;34m=\u001b[0m \u001b[0mactual_counts\u001b[0m\u001b[0;34m.\u001b[0m\u001b[0mvalues\u001b[0m\u001b[0;34m)\u001b[0m\u001b[0;34m\u001b[0m\u001b[0;34m\u001b[0m\u001b[0m\n\u001b[0m\u001b[1;32m     10\u001b[0m \u001b[0max\u001b[0m\u001b[0;34m.\u001b[0m\u001b[0mbar\u001b[0m\u001b[0;34m(\u001b[0m\u001b[0mx\u001b[0m \u001b[0;34m=\u001b[0m \u001b[0mpredict_counts\u001b[0m\u001b[0;34m.\u001b[0m\u001b[0mindex\u001b[0m\u001b[0;34m,\u001b[0m \u001b[0mheight\u001b[0m \u001b[0;34m=\u001b[0m \u001b[0mpredict_counts\u001b[0m\u001b[0;34m.\u001b[0m\u001b[0mvalues\u001b[0m\u001b[0;34m)\u001b[0m\u001b[0;34m\u001b[0m\u001b[0;34m\u001b[0m\u001b[0m\n\u001b[1;32m     11\u001b[0m \u001b[0max\u001b[0m\u001b[0;34m.\u001b[0m\u001b[0mset_xlabel\u001b[0m\u001b[0;34m(\u001b[0m\u001b[0;34m'Test histogram'\u001b[0m\u001b[0;34m)\u001b[0m\u001b[0;34m\u001b[0m\u001b[0;34m\u001b[0m\u001b[0m\n",
      "\u001b[0;32m~/anaconda3/envs/PythonData/lib/python3.6/site-packages/pandas/core/indexes/base.py\u001b[0m in \u001b[0;36m__add__\u001b[0;34m(self, other)\u001b[0m\n\u001b[1;32m   2684\u001b[0m \u001b[0;34m\u001b[0m\u001b[0m\n\u001b[1;32m   2685\u001b[0m     \u001b[0;32mdef\u001b[0m \u001b[0m__add__\u001b[0m\u001b[0;34m(\u001b[0m\u001b[0mself\u001b[0m\u001b[0;34m,\u001b[0m \u001b[0mother\u001b[0m\u001b[0;34m)\u001b[0m\u001b[0;34m:\u001b[0m\u001b[0;34m\u001b[0m\u001b[0;34m\u001b[0m\u001b[0m\n\u001b[0;32m-> 2686\u001b[0;31m         \u001b[0;32mreturn\u001b[0m \u001b[0mIndex\u001b[0m\u001b[0;34m(\u001b[0m\u001b[0mnp\u001b[0m\u001b[0;34m.\u001b[0m\u001b[0marray\u001b[0m\u001b[0;34m(\u001b[0m\u001b[0mself\u001b[0m\u001b[0;34m)\u001b[0m \u001b[0;34m+\u001b[0m \u001b[0mother\u001b[0m\u001b[0;34m)\u001b[0m\u001b[0;34m\u001b[0m\u001b[0;34m\u001b[0m\u001b[0m\n\u001b[0m\u001b[1;32m   2687\u001b[0m \u001b[0;34m\u001b[0m\u001b[0m\n\u001b[1;32m   2688\u001b[0m     \u001b[0;32mdef\u001b[0m \u001b[0m__radd__\u001b[0m\u001b[0;34m(\u001b[0m\u001b[0mself\u001b[0m\u001b[0;34m,\u001b[0m \u001b[0mother\u001b[0m\u001b[0;34m)\u001b[0m\u001b[0;34m:\u001b[0m\u001b[0;34m\u001b[0m\u001b[0;34m\u001b[0m\u001b[0m\n",
      "\u001b[0;31mTypeError\u001b[0m: must be str, not float"
     ]
    },
    {
     "data": {
      "text/plain": [
       "<Figure size 720x576 with 0 Axes>"
      ]
     },
     "metadata": {},
     "output_type": "display_data"
    }
   ],
   "source": [
    "#trying to get a comparison plot of prediction v actual\n",
    "import matplotlib.pyplot as plt\n",
    "\n",
    "N= 10\n",
    "ind = np.arange(N)\n",
    "width = 0.35 \n",
    "\n",
    "plt.figure(figsize=((10,8)))\n",
    "ax.bar(x = actual_counts.index, height = actual_counts.values)\n",
    "ax.bar(x = predict_counts.index, height = predict_counts.values)\n",
    "ax.set_xlabel('Test histogram')\n",
    "ax.set_ylabel('Number of Results')\n",
    "ax.set_xbound(lower = 0, upper = 10)\n",
    "ax.set_ybound(lower = 0, upper = 300000)\n",
    "plt.show()"
   ]
  },
  {
   "cell_type": "code",
   "execution_count": 61,
   "metadata": {},
   "outputs": [
    {
     "ename": "TypeError",
     "evalue": "'module' object is not callable",
     "output_type": "error",
     "traceback": [
      "\u001b[0;31m---------------------------------------------------------------------------\u001b[0m",
      "\u001b[0;31mTypeError\u001b[0m                                 Traceback (most recent call last)",
      "\u001b[0;32m<ipython-input-61-ae4d9dcf7f1b>\u001b[0m in \u001b[0;36m<module>\u001b[0;34m\u001b[0m\n\u001b[1;32m      4\u001b[0m trace1 = go.bar(\n\u001b[1;32m      5\u001b[0m             \u001b[0mx\u001b[0m\u001b[0;34m=\u001b[0m \u001b[0mactual_counts\u001b[0m\u001b[0;34m.\u001b[0m\u001b[0mindex\u001b[0m\u001b[0;34m,\u001b[0m\u001b[0;34m\u001b[0m\u001b[0;34m\u001b[0m\u001b[0m\n\u001b[0;32m----> 6\u001b[0;31m             y= actual_counts.values)\n\u001b[0m\u001b[1;32m      7\u001b[0m \u001b[0;34m\u001b[0m\u001b[0m\n\u001b[1;32m      8\u001b[0m trace2 = go.bar(\n",
      "\u001b[0;31mTypeError\u001b[0m: 'module' object is not callable"
     ]
    }
   ],
   "source": [
    "import plotly.plotly as py\n",
    "import plotly.graph_objs as go\n",
    "\n",
    "trace1 = go.bar(\n",
    "            x= results.Prediction.,\n",
    "            y= actual_counts.values)\n",
    "\n",
    "# trace2 = go.bar(\n",
    "#             x= [predict_counts.index],\n",
    "#             y= [predict_counts.values],\n",
    "#             name = 'Predicted')\n",
    "\n",
    "data = [trace1]\n",
    "     #   trace2]\n",
    "\n",
    "layout = go.Layout(data = data,barmode = 'group')\n",
    "fig = go.Figure(layout= layout)"
   ]
  },
  {
   "cell_type": "code",
   "execution_count": null,
   "metadata": {},
   "outputs": [],
   "source": []
  },
  {
   "cell_type": "code",
   "execution_count": null,
   "metadata": {},
   "outputs": [],
   "source": []
  },
  {
   "cell_type": "code",
   "execution_count": null,
   "metadata": {},
   "outputs": [],
   "source": []
  },
  {
   "cell_type": "code",
   "execution_count": null,
   "metadata": {},
   "outputs": [],
   "source": []
  },
  {
   "cell_type": "code",
   "execution_count": null,
   "metadata": {},
   "outputs": [],
   "source": []
  },
  {
   "cell_type": "code",
   "execution_count": null,
   "metadata": {},
   "outputs": [],
   "source": []
  },
  {
   "cell_type": "markdown",
   "metadata": {},
   "source": [
    "By dropping hit location and launch speed angle, effectively handi-capping the model. Really testing its ability."
   ]
  },
  {
   "cell_type": "code",
   "execution_count": 15,
   "metadata": {},
   "outputs": [],
   "source": [
    "X_svm = svm_data.drop(columns=['events', 'hit_location', 'launch_speed_angle'], axis =1)\n",
    "y_svm = svm_data.events"
   ]
  },
  {
   "cell_type": "code",
   "execution_count": 18,
   "metadata": {
    "scrolled": true
   },
   "outputs": [
    {
     "name": "stderr",
     "output_type": "stream",
     "text": [
      "/Users/nickrad/anaconda3/envs/PythonData/lib/python3.6/site-packages/sklearn/preprocessing/data.py:323: DataConversionWarning: Data with input dtype int64, float64 were all converted to float64 by MinMaxScaler.\n",
      "  return self.partial_fit(X, y)\n"
     ]
    }
   ],
   "source": [
    "#scaling data\n",
    "from sklearn.preprocessing import MinMaxScaler\n",
    "scaler = MinMaxScaler()\n",
    "svm_scale = scaler.fit_transform(X_svm)\n",
    "#train and test data\n",
    "from sklearn.model_selection import train_test_split\n",
    "X_svm_train, X_svm_test, y_train, y_test = train_test_split(svm_scale, y_svm, random_state=1)"
   ]
  },
  {
   "cell_type": "code",
   "execution_count": 19,
   "metadata": {},
   "outputs": [
    {
     "data": {
      "text/plain": [
       "SVC(C=1.0, cache_size=200, class_weight=None, coef0=0.0,\n",
       "  decision_function_shape='ovr', degree=3, gamma='scale', kernel='rbf',\n",
       "  max_iter=-1, probability=False, random_state=None, shrinking=True,\n",
       "  tol=0.001, verbose=False)"
      ]
     },
     "execution_count": 19,
     "metadata": {},
     "output_type": "execute_result"
    }
   ],
   "source": [
    "#Got it to run with 150,000 rows\n",
    "from sklearn import svm\n",
    "clf = svm.SVC(gamma='scale', decision_function_shape='ovr', class_weight= None)\n",
    "clf.fit(X_svm_train, y_train)"
   ]
  },
  {
   "cell_type": "code",
   "execution_count": 20,
   "metadata": {},
   "outputs": [
    {
     "data": {
      "text/plain": [
       "0.5337631489650492"
      ]
     },
     "execution_count": 20,
     "metadata": {},
     "output_type": "execute_result"
    }
   ],
   "source": [
    "clf.score(X_svm_train, y_train)"
   ]
  },
  {
   "cell_type": "code",
   "execution_count": 21,
   "metadata": {},
   "outputs": [
    {
     "data": {
      "text/plain": [
       "0.5378124246564333"
      ]
     },
     "execution_count": 21,
     "metadata": {},
     "output_type": "execute_result"
    }
   ],
   "source": [
    "clf.score(X_svm_test, y_test)"
   ]
  },
  {
   "cell_type": "code",
   "execution_count": 23,
   "metadata": {},
   "outputs": [
    {
     "name": "stderr",
     "output_type": "stream",
     "text": [
      "/Users/nickrad/anaconda3/envs/PythonData/lib/python3.6/site-packages/sklearn/metrics/classification.py:1143: UndefinedMetricWarning: Precision and F-score are ill-defined and being set to 0.0 in labels with no predicted samples.\n",
      "  'precision', 'predicted', average, warn_for)\n"
     ]
    },
    {
     "name": "stdout",
     "output_type": "stream",
     "text": [
      "              precision    recall  f1-score   support\n",
      "\n",
      "        ball       0.50      0.96      0.66     13523\n",
      "      double       0.57      0.01      0.02       454\n",
      " field_error       0.00      0.00      0.00       106\n",
      "        foul       0.66      0.31      0.42      6665\n",
      "hit_by_pitch       0.00      0.00      0.00        87\n",
      "    home_run       0.64      0.63      0.64       257\n",
      "         out       0.62      0.80      0.70      4407\n",
      "      single       0.55      0.35      0.43      1504\n",
      "      strike       0.53      0.08      0.14     10284\n",
      "      triple       0.00      0.00      0.00        42\n",
      "\n",
      "   micro avg       0.54      0.54      0.54     37329\n",
      "   macro avg       0.41      0.31      0.30     37329\n",
      "weighted avg       0.55      0.54      0.46     37329\n",
      "\n"
     ]
    }
   ],
   "source": [
    "clf_svm_predict = clf.predict(X_svm_test)\n",
    "from sklearn.metrics import classification_report\n",
    "print(classification_report( y_test, clf_svm_predict ))"
   ]
  },
  {
   "cell_type": "code",
   "execution_count": 7,
   "metadata": {},
   "outputs": [],
   "source": [
    "test_data = data.loc[:730000:40]"
   ]
  },
  {
   "cell_type": "markdown",
   "metadata": {},
   "source": [
    "Running full model\n"
   ]
  },
  {
   "cell_type": "code",
   "execution_count": 24,
   "metadata": {},
   "outputs": [],
   "source": [
    "X = data.drop(columns=['events', 'hit_location', 'launch_speed_angle'], axis =1)\n",
    "y = data.events"
   ]
  },
  {
   "cell_type": "code",
   "execution_count": 8,
   "metadata": {},
   "outputs": [],
   "source": [
    "#setting up X and y , dropping hit location too\n",
    "X = test_data.drop(columns=['events', 'hit_location', 'launch_speed_angle'], axis =1)\n",
    "y = test_data.events"
   ]
  },
  {
   "cell_type": "code",
   "execution_count": 25,
   "metadata": {
    "scrolled": false
   },
   "outputs": [
    {
     "name": "stderr",
     "output_type": "stream",
     "text": [
      "/Users/nickrad/anaconda3/envs/PythonData/lib/python3.6/site-packages/sklearn/preprocessing/data.py:323: DataConversionWarning: Data with input dtype int64, float64 were all converted to float64 by MinMaxScaler.\n",
      "  return self.partial_fit(X, y)\n"
     ]
    }
   ],
   "source": [
    "#scaling data\n",
    "from sklearn.preprocessing import MinMaxScaler\n",
    "scaler = MinMaxScaler()\n",
    "X_scale = scaler.fit_transform(X)\n",
    "#train and test data\n",
    "from sklearn.model_selection import train_test_split\n",
    "X_scale_train, X_scale_test, y_train, y_test = train_test_split(X_scale, y, random_state=1)"
   ]
  },
  {
   "cell_type": "code",
   "execution_count": null,
   "metadata": {},
   "outputs": [],
   "source": []
  },
  {
   "cell_type": "code",
   "execution_count": 15,
   "metadata": {},
   "outputs": [
    {
     "data": {
      "text/plain": [
       "(14023, 27)"
      ]
     },
     "execution_count": 15,
     "metadata": {},
     "output_type": "execute_result"
    }
   ],
   "source": [
    "#14,000 rows to test\n",
    "test_data.shape"
   ]
  },
  {
   "cell_type": "code",
   "execution_count": 31,
   "metadata": {},
   "outputs": [],
   "source": [
    "#train and test data\n",
    "from sklearn.model_selection import train_test_split\n",
    "X_train, X_test, y_train, y_test = train_test_split(X, y, random_state=1)"
   ]
  },
  {
   "cell_type": "code",
   "execution_count": 11,
   "metadata": {},
   "outputs": [
    {
     "data": {
      "text/plain": [
       "LogisticRegression(C=100000.0, class_weight=None, dual=False,\n",
       "          fit_intercept=True, intercept_scaling=1, max_iter=100,\n",
       "          multi_class='multinomial', n_jobs=None, penalty='l2',\n",
       "          random_state=None, solver='newton-cg', tol=0.0001, verbose=0,\n",
       "          warm_start=False)"
      ]
     },
     "execution_count": 11,
     "metadata": {},
     "output_type": "execute_result"
    }
   ],
   "source": [
    "#performing a logistic regression to see the baseline\n",
    "from sklearn.linear_model import LogisticRegression\n",
    "classifier = LogisticRegression(multi_class= 'multinomial', solver='newton-cg', C=1e5)\n",
    "classifier"
   ]
  },
  {
   "cell_type": "code",
   "execution_count": 12,
   "metadata": {},
   "outputs": [
    {
     "name": "stderr",
     "output_type": "stream",
     "text": [
      "/Users/nickrad/anaconda3/envs/PythonData/lib/python3.6/site-packages/sklearn/utils/optimize.py:203: ConvergenceWarning: newton-cg failed to converge. Increase the number of iterations.\n",
      "  \"number of iterations.\", ConvergenceWarning)\n"
     ]
    },
    {
     "data": {
      "text/plain": [
       "LogisticRegression(C=100000.0, class_weight=None, dual=False,\n",
       "          fit_intercept=True, intercept_scaling=1, max_iter=100,\n",
       "          multi_class='multinomial', n_jobs=None, penalty='l2',\n",
       "          random_state=None, solver='newton-cg', tol=0.0001, verbose=0,\n",
       "          warm_start=False)"
      ]
     },
     "execution_count": 12,
     "metadata": {},
     "output_type": "execute_result"
    }
   ],
   "source": [
    "classifier.fit(X_train,y_train)"
   ]
  },
  {
   "cell_type": "code",
   "execution_count": 13,
   "metadata": {},
   "outputs": [
    {
     "name": "stdout",
     "output_type": "stream",
     "text": [
      "Training Data Score: 0.504388933636466\n",
      "Testing Data Score: 0.5032950429695034\n"
     ]
    }
   ],
   "source": [
    "print(f\"Training Data Score: {classifier.score(X_train, y_train)}\")\n",
    "print(f\"Testing Data Score: {classifier.score(X_test, y_test)}\")"
   ]
  },
  {
   "cell_type": "code",
   "execution_count": 14,
   "metadata": {},
   "outputs": [],
   "source": [
    "predictions = classifier.predict(X_test)\n",
    "results = pd.DataFrame({\"Prediction\": predictions, \"Actual\": y_test}).reset_index(drop=True)"
   ]
  },
  {
   "cell_type": "code",
   "execution_count": 15,
   "metadata": {},
   "outputs": [
    {
     "data": {
      "text/plain": [
       "ball        115682\n",
       "out          31345\n",
       "strike       21126\n",
       "foul         16272\n",
       "home_run      1846\n",
       "double         371\n",
       "single           2\n",
       "Name: Prediction, dtype: int64"
      ]
     },
     "execution_count": 15,
     "metadata": {},
     "output_type": "execute_result"
    }
   ],
   "source": [
    "results['Prediction'].value_counts()"
   ]
  },
  {
   "cell_type": "code",
   "execution_count": 16,
   "metadata": {},
   "outputs": [
    {
     "name": "stderr",
     "output_type": "stream",
     "text": [
      "/Users/nickrad/anaconda3/envs/PythonData/lib/python3.6/site-packages/sklearn/metrics/classification.py:1145: UndefinedMetricWarning: Recall and F-score are ill-defined and being set to 0.0 in labels with no true samples.\n",
      "  'recall', 'true', average, warn_for)\n"
     ]
    },
    {
     "name": "stdout",
     "output_type": "stream",
     "text": [
      "              precision    recall  f1-score   support\n",
      "\n",
      "        ball       0.85      0.50      0.63    115682\n",
      "      double       0.08      0.44      0.13       371\n",
      " field_error       0.00      0.00      0.00         0\n",
      "        foul       0.30      0.62      0.40     16272\n",
      "hit_by_pitch       0.00      0.00      0.00         0\n",
      "    home_run       0.78      0.59      0.67      1846\n",
      "         out       0.77      0.54      0.64     31345\n",
      "      single       0.00      0.00      0.00         2\n",
      "      strike       0.16      0.39      0.23     21126\n",
      "      triple       0.00      0.00      0.00         0\n",
      "\n",
      "   micro avg       0.50      0.50      0.50    186644\n",
      "   macro avg       0.29      0.31      0.27    186644\n",
      "weighted avg       0.71      0.50      0.56    186644\n",
      "\n"
     ]
    }
   ],
   "source": [
    "from sklearn.metrics import classification_report\n",
    "print(classification_report(predictions, y_test))"
   ]
  },
  {
   "cell_type": "code",
   "execution_count": 17,
   "metadata": {},
   "outputs": [
    {
     "name": "stdout",
     "output_type": "stream",
     "text": [
      "R-squared = 0.6220498597148577\n"
     ]
    }
   ],
   "source": [
    "#trying gradient boosting\n",
    "#definitely the best so far\n",
    "from sklearn.ensemble import GradientBoostingClassifier\n",
    "model = GradientBoostingClassifier()\n",
    "model.fit(X_train, y_train)\n",
    "print(f\"R-squared = {model.score(X_train,y_train)}\")"
   ]
  },
  {
   "cell_type": "code",
   "execution_count": 19,
   "metadata": {},
   "outputs": [
    {
     "data": {
      "image/png": "[encoded data removed]",
      "text/plain": [
       "<Figure size 1080x360 with 1 Axes>"
      ]
     },
     "metadata": {
      "needs_background": "light"
     },
     "output_type": "display_data"
    }
   ],
   "source": [
    "#might drop hit location\n",
    "import matplotlib.pyplot as plt\n",
    "plt.figure(1, figsize=(15, 5))\n",
    "plt.bar(range(len(model.feature_importances_)), model.feature_importances_)\n",
    "labels = list(X_train)\n",
    "plt.xticks(range(len(model.feature_importances_)), labels, rotation='vertical')\n",
    "plt.xlabel(\"Features\")\n",
    "plt.ylabel(\"Importance\")\n",
    "plt.title(\"Features Importance\")\n",
    "plt.show()"
   ]
  },
  {
   "cell_type": "code",
   "execution_count": 26,
   "metadata": {},
   "outputs": [
    {
     "name": "stdout",
     "output_type": "stream",
     "text": [
      "              precision    recall  f1-score   support\n",
      "\n",
      "        ball       0.63      0.71      0.67      1606\n",
      "      double       0.33      0.17      0.22        54\n",
      " field_error       0.00      0.00      0.00        12\n",
      "        foul       0.69      0.29      0.41       782\n",
      "hit_by_pitch       0.00      0.00      0.00        12\n",
      "    home_run       0.67      0.64      0.65        28\n",
      "         out       0.64      0.75      0.69       503\n",
      "      single       0.50      0.52      0.51       176\n",
      "      strike       0.49      0.58      0.53      1206\n",
      "      triple       0.00      0.00      0.00         3\n",
      "\n",
      "   micro avg       0.59      0.59      0.59      4382\n",
      "   macro avg       0.40      0.37      0.37      4382\n",
      "weighted avg       0.59      0.59      0.57      4382\n",
      "\n"
     ]
    }
   ],
   "source": [
    "modelpredict = model.predict(X_test)\n",
    "from sklearn.metrics import classification_report\n",
    "print(classification_report(y_test, modelpredict))"
   ]
  },
  {
   "cell_type": "markdown",
   "metadata": {},
   "source": [
    "Gradient Boosting with Scaled Data"
   ]
  },
  {
   "cell_type": "code",
   "execution_count": 27,
   "metadata": {},
   "outputs": [
    {
     "name": "stdout",
     "output_type": "stream",
     "text": [
      "R-squared = 0.6220498597148577\n"
     ]
    }
   ],
   "source": [
    "#trying gradient boosting\n",
    "#definitely the best so far\n",
    "from sklearn.ensemble import GradientBoostingClassifier\n",
    "model = GradientBoostingClassifier()\n",
    "model.fit(X_scale_train, y_train)\n",
    "print(f\"R-squared = {model.score(X_scale_train,y_train)}\")"
   ]
  },
  {
   "cell_type": "code",
   "execution_count": 39,
   "metadata": {
    "scrolled": true
   },
   "outputs": [
    {
     "data": {
      "image/png": "[encoded data removed]",
      "text/plain": [
       "<Figure size 1440x720 with 1 Axes>"
      ]
     },
     "metadata": {
      "needs_background": "light"
     },
     "output_type": "display_data"
    }
   ],
   "source": [
    "#might drop hit location\n",
    "import matplotlib.pyplot as plt\n",
    "plt.figure(1, figsize=(20, 10))\n",
    "plt.bar(range(len(model.feature_importances_)), model.feature_importances_)\n",
    "labels = list(X_train)\n",
    "plt.xticks(range(len(model.feature_importances_)), labels, rotation='vertical')\n",
    "plt.xlabel(\"Features\")\n",
    "plt.ylabel(\"Importance\")\n",
    "plt.title(\"Features Importance\")\n",
    "#plt.show()\n",
    "plt.savefig('feature_importance.png')"
   ]
  },
  {
   "cell_type": "code",
   "execution_count": 40,
   "metadata": {},
   "outputs": [
    {
     "name": "stdout",
     "output_type": "stream",
     "text": [
      "              precision    recall  f1-score   support\n",
      "\n",
      "        ball       0.66      0.74      0.70     67064\n",
      "      double       0.42      0.16      0.23      2134\n",
      " field_error       0.30      0.01      0.01       422\n",
      "        foul       0.72      0.30      0.42     33820\n",
      "hit_by_pitch       0.23      0.02      0.03       407\n",
      "    home_run       0.69      0.72      0.70      1390\n",
      "         out       0.67      0.80      0.73     22106\n",
      "      single       0.57      0.57      0.57      7210\n",
      "      strike       0.54      0.63      0.58     51875\n",
      "      triple       0.00      0.00      0.00       216\n",
      "\n",
      "   micro avg       0.62      0.62      0.62    186644\n",
      "   macro avg       0.48      0.39      0.40    186644\n",
      "weighted avg       0.63      0.62      0.61    186644\n",
      "\n"
     ]
    }
   ],
   "source": [
    "modelpredict = model.predict(X_scale_test)\n",
    "from sklearn.metrics import classification_report\n",
    "print(classification_report(y_test, modelpredict))"
   ]
  },
  {
   "cell_type": "code",
   "execution_count": null,
   "metadata": {},
   "outputs": [],
   "source": [
    "#going to try support vectors\n",
    "#scores were lower with a balanced class weight\n",
    "#this model is supposed to perform much better when scaling data\n",
    "from sklearn import svm\n",
    "clf = svm.SVC(gamma='scale', decision_function_shape='ovr', class_weight= None)\n",
    "clf.fit(X_scale_train, y_train)"
   ]
  },
  {
   "cell_type": "code",
   "execution_count": 22,
   "metadata": {},
   "outputs": [
    {
     "data": {
      "text/plain": [
       "0.530655712764339"
      ]
     },
     "execution_count": 22,
     "metadata": {},
     "output_type": "execute_result"
    }
   ],
   "source": [
    "clf.score(X_scale_train, y_train)"
   ]
  },
  {
   "cell_type": "code",
   "execution_count": 23,
   "metadata": {},
   "outputs": [
    {
     "data": {
      "text/plain": [
       "0.5298950251026928"
      ]
     },
     "execution_count": 23,
     "metadata": {},
     "output_type": "execute_result"
    }
   ],
   "source": [
    "clf.score(X__scale_test, y_test)"
   ]
  },
  {
   "cell_type": "code",
   "execution_count": 24,
   "metadata": {
    "scrolled": true
   },
   "outputs": [
    {
     "name": "stdout",
     "output_type": "stream",
     "text": [
      "              precision    recall  f1-score   support\n",
      "\n",
      "        ball       0.99      0.50      0.66      3212\n",
      "      double       0.00      0.00      0.00         0\n",
      " field_error       0.00      0.00      0.00         0\n",
      "        foul       0.28      0.70      0.40       311\n",
      "hit_by_pitch       0.00      0.00      0.00         0\n",
      "    home_run       0.68      0.63      0.66        30\n",
      "         out       0.82      0.60      0.69       691\n",
      "      single       0.39      0.60      0.47       115\n",
      "      strike       0.01      0.39      0.01        23\n",
      "      triple       0.00      0.00      0.00         0\n",
      "\n",
      "   micro avg       0.53      0.53      0.53      4382\n",
      "   macro avg       0.32      0.34      0.29      4382\n",
      "weighted avg       0.89      0.53      0.64      4382\n",
      "\n"
     ]
    },
    {
     "name": "stderr",
     "output_type": "stream",
     "text": [
      "/Users/nickrad/anaconda3/envs/PythonData/lib/python3.6/site-packages/sklearn/metrics/classification.py:1145: UndefinedMetricWarning: Recall and F-score are ill-defined and being set to 0.0 in labels with no true samples.\n",
      "  'recall', 'true', average, warn_for)\n"
     ]
    }
   ],
   "source": [
    "clf_predict = clf.predict(X_test)\n",
    "\n",
    "from sklearn.metrics import classification_report\n",
    "print(classification_report(clf_predict, y_test))"
   ]
  },
  {
   "cell_type": "code",
   "execution_count": null,
   "metadata": {},
   "outputs": [],
   "source": [
    "#SVM with scaled data\n",
    "from sklearn import svm\n",
    "clf = svm.SVC(gamma='scale', decision_function_shape='ovr', class_weight='balanced', cache_size= 500)\n",
    "clf.fit(X_scale_train, y_train)\n"
   ]
  },
  {
   "cell_type": "code",
   "execution_count": 18,
   "metadata": {
    "scrolled": true
   },
   "outputs": [
    {
     "data": {
      "text/plain": [
       "0.5699343919368641"
      ]
     },
     "execution_count": 18,
     "metadata": {},
     "output_type": "execute_result"
    }
   ],
   "source": [
    "clf.score(X_scale_train, y_train)"
   ]
  },
  {
   "cell_type": "code",
   "execution_count": 19,
   "metadata": {},
   "outputs": [
    {
     "name": "stdout",
     "output_type": "stream",
     "text": [
      "              precision    recall  f1-score   support\n",
      "\n",
      "        ball       0.49      1.00      0.66      1253\n",
      "      double       0.00      0.00      0.00        36\n",
      " field_error       0.00      0.00      0.00         5\n",
      "        foul       0.97      0.48      0.65       628\n",
      "hit_by_pitch       0.00      0.00      0.00         6\n",
      "    home_run       0.83      0.44      0.58        34\n",
      "         out       0.66      0.99      0.79       414\n",
      "      single       0.00      0.00      0.00       150\n",
      "      strike       0.00      0.00      0.00       972\n",
      "      triple       0.00      0.00      0.00         8\n",
      "\n",
      "   micro avg       0.56      0.56      0.56      3506\n",
      "   macro avg       0.30      0.29      0.27      3506\n",
      "weighted avg       0.43      0.56      0.45      3506\n",
      "\n"
     ]
    },
    {
     "name": "stderr",
     "output_type": "stream",
     "text": [
      "/Users/nickrad/anaconda3/envs/PythonData/lib/python3.6/site-packages/sklearn/metrics/classification.py:1143: UndefinedMetricWarning: Precision and F-score are ill-defined and being set to 0.0 in labels with no predicted samples.\n",
      "  'precision', 'predicted', average, warn_for)\n"
     ]
    }
   ],
   "source": [
    "clf_predict = clf.predict(X_scale_test)\n",
    "from sklearn.metrics import classification_report\n",
    "print(classification_report( y_test, clf_predict))"
   ]
  },
  {
   "cell_type": "code",
   "execution_count": null,
   "metadata": {},
   "outputs": [],
   "source": []
  }
 ],
 "metadata": {
  "kernelspec": {
   "display_name": "Python 3",
   "language": "python",
   "name": "python3"
  },
  "language_info": {
   "codemirror_mode": {
    "name": "ipython",
    "version": 3
   },
   "file_extension": ".py",
   "mimetype": "text/x-python",
   "name": "python",
   "nbconvert_exporter": "python",
   "pygments_lexer": "ipython3",
   "version": "3.6.7"
  }
 },
 "nbformat": 4,
 "nbformat_minor": 2
}
