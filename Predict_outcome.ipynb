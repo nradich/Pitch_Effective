{
 "cells": [
  {
   "cell_type": "code",
   "execution_count": 1,
   "metadata": {},
   "outputs": [],
   "source": [
    "#Reading in CSV file\n",
    "import pandas as pd\n",
    "data = pd.read_csv('predict_outcome.csv')"
   ]
  },
  {
   "cell_type": "code",
   "execution_count": 2,
   "metadata": {},
   "outputs": [
    {
     "data": {
      "text/plain": [
       "(776503, 28)"
      ]
     },
     "execution_count": 2,
     "metadata": {},
     "output_type": "execute_result"
    }
   ],
   "source": [
    "#Checking in the shape\n",
    "data.shape"
   ]
  },
  {
   "cell_type": "code",
   "execution_count": 4,
   "metadata": {},
   "outputs": [],
   "source": [
    "#Dropping unneeded columns\n",
    "data.drop(columns=['Unnamed: 0', 'p_throws', 'type', 'pitch_number.1','game_date', 'bb_type', 'spin_rate_deprecated',\\\n",
    "                  'pitch_number','description' ],inplace = True)"
   ]
  },
  {
   "cell_type": "code",
   "execution_count": 6,
   "metadata": {},
   "outputs": [],
   "source": [
    "#Rename columns\n",
    "data.rename(columns={\"release_speed\": 'Pitch_Velocity',\n",
    "                    \"launch_speed\": \"Exit_velocity\",\n",
    "                    \"release_spin_rate\": \"Spin_Rate\",\n",
    "                    }, inplace = True)"
   ]
  },
  {
   "cell_type": "code",
   "execution_count": 7,
   "metadata": {},
   "outputs": [
    {
     "data": {
      "text/plain": [
       "(772797, 19)"
      ]
     },
     "execution_count": 7,
     "metadata": {},
     "output_type": "execute_result"
    }
   ],
   "source": [
    "#Dropping irrelevant events\n",
    "data = data[(data.events!= 'field_error')\n",
    "            & (data.events != 'hit_by_pitch')]\n",
    "\n",
    "data.shape"
   ]
  },
  {
   "cell_type": "code",
   "execution_count": 8,
   "metadata": {},
   "outputs": [
    {
     "data": {
      "text/html": [
       "<div>\n",
       "<style scoped>\n",
       "    .dataframe tbody tr th:only-of-type {\n",
       "        vertical-align: middle;\n",
       "    }\n",
       "\n",
       "    .dataframe tbody tr th {\n",
       "        vertical-align: top;\n",
       "    }\n",
       "\n",
       "    .dataframe thead th {\n",
       "        text-align: right;\n",
       "    }\n",
       "</style>\n",
       "<table border=\"1\" class=\"dataframe\">\n",
       "  <thead>\n",
       "    <tr style=\"text-align: right;\">\n",
       "      <th></th>\n",
       "      <th>pitch_name</th>\n",
       "      <th>Pitch_Velocity</th>\n",
       "      <th>events</th>\n",
       "      <th>hit_distance_sc</th>\n",
       "      <th>Exit_velocity</th>\n",
       "      <th>launch_angle</th>\n",
       "      <th>launch_speed_angle</th>\n",
       "      <th>effective_speed</th>\n",
       "      <th>hit_location</th>\n",
       "      <th>Spin_Rate</th>\n",
       "      <th>vx0</th>\n",
       "      <th>vy0</th>\n",
       "      <th>vz0</th>\n",
       "      <th>ax</th>\n",
       "      <th>ay</th>\n",
       "      <th>az</th>\n",
       "      <th>pfx_x</th>\n",
       "      <th>pfx_z</th>\n",
       "      <th>bauer_units</th>\n",
       "    </tr>\n",
       "  </thead>\n",
       "  <tbody>\n",
       "    <tr>\n",
       "      <th>0</th>\n",
       "      <td>Cutter</td>\n",
       "      <td>90.4</td>\n",
       "      <td>out</td>\n",
       "      <td>256.0</td>\n",
       "      <td>79.1</td>\n",
       "      <td>22.0</td>\n",
       "      <td>4.0</td>\n",
       "      <td>90.193</td>\n",
       "      <td>7.0</td>\n",
       "      <td>2449.0</td>\n",
       "      <td>-7.065</td>\n",
       "      <td>-131.512</td>\n",
       "      <td>-3.298</td>\n",
       "      <td>-3.334</td>\n",
       "      <td>27.861</td>\n",
       "      <td>-30.520</td>\n",
       "      <td>-0.394417</td>\n",
       "      <td>0.329000</td>\n",
       "      <td>27.090708</td>\n",
       "    </tr>\n",
       "    <tr>\n",
       "      <th>1</th>\n",
       "      <td>Slider</td>\n",
       "      <td>81.5</td>\n",
       "      <td>ball</td>\n",
       "      <td>NaN</td>\n",
       "      <td>NaN</td>\n",
       "      <td>NaN</td>\n",
       "      <td>NaN</td>\n",
       "      <td>81.301</td>\n",
       "      <td>NaN</td>\n",
       "      <td>2293.0</td>\n",
       "      <td>-7.940</td>\n",
       "      <td>-118.390</td>\n",
       "      <td>-2.930</td>\n",
       "      <td>-0.977</td>\n",
       "      <td>18.714</td>\n",
       "      <td>-31.765</td>\n",
       "      <td>-0.224633</td>\n",
       "      <td>0.232967</td>\n",
       "      <td>28.134969</td>\n",
       "    </tr>\n",
       "    <tr>\n",
       "      <th>2</th>\n",
       "      <td>Curveball</td>\n",
       "      <td>77.1</td>\n",
       "      <td>ball</td>\n",
       "      <td>NaN</td>\n",
       "      <td>NaN</td>\n",
       "      <td>NaN</td>\n",
       "      <td>NaN</td>\n",
       "      <td>75.063</td>\n",
       "      <td>NaN</td>\n",
       "      <td>2543.0</td>\n",
       "      <td>-6.290</td>\n",
       "      <td>-112.149</td>\n",
       "      <td>-2.442</td>\n",
       "      <td>-4.252</td>\n",
       "      <td>25.153</td>\n",
       "      <td>-42.517</td>\n",
       "      <td>-0.607342</td>\n",
       "      <td>-1.004000</td>\n",
       "      <td>32.983139</td>\n",
       "    </tr>\n",
       "    <tr>\n",
       "      <th>3</th>\n",
       "      <td>Cutter</td>\n",
       "      <td>87.6</td>\n",
       "      <td>strike</td>\n",
       "      <td>NaN</td>\n",
       "      <td>NaN</td>\n",
       "      <td>NaN</td>\n",
       "      <td>NaN</td>\n",
       "      <td>86.856</td>\n",
       "      <td>NaN</td>\n",
       "      <td>2513.0</td>\n",
       "      <td>-5.742</td>\n",
       "      <td>-127.487</td>\n",
       "      <td>-2.031</td>\n",
       "      <td>0.472</td>\n",
       "      <td>27.321</td>\n",
       "      <td>-28.650</td>\n",
       "      <td>-0.089642</td>\n",
       "      <td>0.502433</td>\n",
       "      <td>28.687215</td>\n",
       "    </tr>\n",
       "    <tr>\n",
       "      <th>4</th>\n",
       "      <td>Cutter</td>\n",
       "      <td>86.2</td>\n",
       "      <td>strike</td>\n",
       "      <td>NaN</td>\n",
       "      <td>NaN</td>\n",
       "      <td>NaN</td>\n",
       "      <td>NaN</td>\n",
       "      <td>86.030</td>\n",
       "      <td>NaN</td>\n",
       "      <td>2422.0</td>\n",
       "      <td>-6.874</td>\n",
       "      <td>-125.377</td>\n",
       "      <td>-2.652</td>\n",
       "      <td>-1.359</td>\n",
       "      <td>24.380</td>\n",
       "      <td>-28.309</td>\n",
       "      <td>-0.248292</td>\n",
       "      <td>0.539700</td>\n",
       "      <td>28.097448</td>\n",
       "    </tr>\n",
       "    <tr>\n",
       "      <th>5</th>\n",
       "      <td>4-Seam Fastball</td>\n",
       "      <td>91.8</td>\n",
       "      <td>ball</td>\n",
       "      <td>NaN</td>\n",
       "      <td>NaN</td>\n",
       "      <td>NaN</td>\n",
       "      <td>NaN</td>\n",
       "      <td>90.941</td>\n",
       "      <td>NaN</td>\n",
       "      <td>2115.0</td>\n",
       "      <td>-9.252</td>\n",
       "      <td>-133.420</td>\n",
       "      <td>-2.692</td>\n",
       "      <td>10.444</td>\n",
       "      <td>31.375</td>\n",
       "      <td>-19.811</td>\n",
       "      <td>0.684125</td>\n",
       "      <td>1.187567</td>\n",
       "      <td>23.039216</td>\n",
       "    </tr>\n",
       "    <tr>\n",
       "      <th>6</th>\n",
       "      <td>Cutter</td>\n",
       "      <td>88.1</td>\n",
       "      <td>single</td>\n",
       "      <td>60.0</td>\n",
       "      <td>89.1</td>\n",
       "      <td>3.0</td>\n",
       "      <td>2.0</td>\n",
       "      <td>87.526</td>\n",
       "      <td>9.0</td>\n",
       "      <td>2465.0</td>\n",
       "      <td>-5.272</td>\n",
       "      <td>-128.235</td>\n",
       "      <td>-2.390</td>\n",
       "      <td>-1.473</td>\n",
       "      <td>28.023</td>\n",
       "      <td>-28.666</td>\n",
       "      <td>-0.253858</td>\n",
       "      <td>0.498133</td>\n",
       "      <td>27.979569</td>\n",
       "    </tr>\n",
       "    <tr>\n",
       "      <th>7</th>\n",
       "      <td>Curveball</td>\n",
       "      <td>77.2</td>\n",
       "      <td>ball</td>\n",
       "      <td>NaN</td>\n",
       "      <td>NaN</td>\n",
       "      <td>NaN</td>\n",
       "      <td>NaN</td>\n",
       "      <td>75.389</td>\n",
       "      <td>NaN</td>\n",
       "      <td>2514.0</td>\n",
       "      <td>-4.620</td>\n",
       "      <td>-112.364</td>\n",
       "      <td>-0.727</td>\n",
       "      <td>-5.753</td>\n",
       "      <td>24.912</td>\n",
       "      <td>-42.320</td>\n",
       "      <td>-0.771558</td>\n",
       "      <td>-0.973900</td>\n",
       "      <td>32.564767</td>\n",
       "    </tr>\n",
       "    <tr>\n",
       "      <th>8</th>\n",
       "      <td>Slider</td>\n",
       "      <td>80.0</td>\n",
       "      <td>ball</td>\n",
       "      <td>NaN</td>\n",
       "      <td>NaN</td>\n",
       "      <td>NaN</td>\n",
       "      <td>NaN</td>\n",
       "      <td>78.974</td>\n",
       "      <td>NaN</td>\n",
       "      <td>NaN</td>\n",
       "      <td>-1.072</td>\n",
       "      <td>-116.500</td>\n",
       "      <td>-0.560</td>\n",
       "      <td>-1.230</td>\n",
       "      <td>22.311</td>\n",
       "      <td>-35.829</td>\n",
       "      <td>-0.255250</td>\n",
       "      <td>-0.189867</td>\n",
       "      <td>NaN</td>\n",
       "    </tr>\n",
       "    <tr>\n",
       "      <th>9</th>\n",
       "      <td>4-Seam Fastball</td>\n",
       "      <td>89.5</td>\n",
       "      <td>foul</td>\n",
       "      <td>233.0</td>\n",
       "      <td>75.0</td>\n",
       "      <td>35.0</td>\n",
       "      <td>NaN</td>\n",
       "      <td>88.828</td>\n",
       "      <td>NaN</td>\n",
       "      <td>2438.0</td>\n",
       "      <td>-7.927</td>\n",
       "      <td>-130.104</td>\n",
       "      <td>-3.647</td>\n",
       "      <td>3.183</td>\n",
       "      <td>27.453</td>\n",
       "      <td>-22.159</td>\n",
       "      <td>0.128850</td>\n",
       "      <td>1.031333</td>\n",
       "      <td>27.240223</td>\n",
       "    </tr>\n",
       "  </tbody>\n",
       "</table>\n",
       "</div>"
      ],
      "text/plain": [
       "        pitch_name  Pitch_Velocity  events  hit_distance_sc  Exit_velocity  \\\n",
       "0           Cutter            90.4     out            256.0           79.1   \n",
       "1           Slider            81.5    ball              NaN            NaN   \n",
       "2        Curveball            77.1    ball              NaN            NaN   \n",
       "3           Cutter            87.6  strike              NaN            NaN   \n",
       "4           Cutter            86.2  strike              NaN            NaN   \n",
       "5  4-Seam Fastball            91.8    ball              NaN            NaN   \n",
       "6           Cutter            88.1  single             60.0           89.1   \n",
       "7        Curveball            77.2    ball              NaN            NaN   \n",
       "8           Slider            80.0    ball              NaN            NaN   \n",
       "9  4-Seam Fastball            89.5    foul            233.0           75.0   \n",
       "\n",
       "   launch_angle  launch_speed_angle  effective_speed  hit_location  Spin_Rate  \\\n",
       "0          22.0                 4.0           90.193           7.0     2449.0   \n",
       "1           NaN                 NaN           81.301           NaN     2293.0   \n",
       "2           NaN                 NaN           75.063           NaN     2543.0   \n",
       "3           NaN                 NaN           86.856           NaN     2513.0   \n",
       "4           NaN                 NaN           86.030           NaN     2422.0   \n",
       "5           NaN                 NaN           90.941           NaN     2115.0   \n",
       "6           3.0                 2.0           87.526           9.0     2465.0   \n",
       "7           NaN                 NaN           75.389           NaN     2514.0   \n",
       "8           NaN                 NaN           78.974           NaN        NaN   \n",
       "9          35.0                 NaN           88.828           NaN     2438.0   \n",
       "\n",
       "     vx0      vy0    vz0      ax      ay      az     pfx_x     pfx_z  \\\n",
       "0 -7.065 -131.512 -3.298  -3.334  27.861 -30.520 -0.394417  0.329000   \n",
       "1 -7.940 -118.390 -2.930  -0.977  18.714 -31.765 -0.224633  0.232967   \n",
       "2 -6.290 -112.149 -2.442  -4.252  25.153 -42.517 -0.607342 -1.004000   \n",
       "3 -5.742 -127.487 -2.031   0.472  27.321 -28.650 -0.089642  0.502433   \n",
       "4 -6.874 -125.377 -2.652  -1.359  24.380 -28.309 -0.248292  0.539700   \n",
       "5 -9.252 -133.420 -2.692  10.444  31.375 -19.811  0.684125  1.187567   \n",
       "6 -5.272 -128.235 -2.390  -1.473  28.023 -28.666 -0.253858  0.498133   \n",
       "7 -4.620 -112.364 -0.727  -5.753  24.912 -42.320 -0.771558 -0.973900   \n",
       "8 -1.072 -116.500 -0.560  -1.230  22.311 -35.829 -0.255250 -0.189867   \n",
       "9 -7.927 -130.104 -3.647   3.183  27.453 -22.159  0.128850  1.031333   \n",
       "\n",
       "   bauer_units  \n",
       "0    27.090708  \n",
       "1    28.134969  \n",
       "2    32.983139  \n",
       "3    28.687215  \n",
       "4    28.097448  \n",
       "5    23.039216  \n",
       "6    27.979569  \n",
       "7    32.564767  \n",
       "8          NaN  \n",
       "9    27.240223  "
      ]
     },
     "execution_count": 8,
     "metadata": {},
     "output_type": "execute_result"
    }
   ],
   "source": [
    "#Determining what to do with null values\n",
    "#When hit distance, launch speed, and launch angle are null - should be zero\n",
    "data.head(10)"
   ]
  },
  {
   "cell_type": "code",
   "execution_count": 9,
   "metadata": {
    "scrolled": true
   },
   "outputs": [],
   "source": [
    "#instead of Nan going to put a zero for hit location\n",
    "#Inputting correct values for null values \n",
    "import numpy as np \n",
    "data.hit_location = np.where(data.hit_location.isnull(), 0, data.hit_location)\n",
    "data.Exit_velocity = np.where(data.Exit_velocity.isnull(), 0, data.Exit_velocity)\n",
    "data.launch_speed_angle = np.where(data.launch_speed_angle.isnull(), 0, data.launch_speed_angle)\n",
    "data.hit_distance_sc = np.where(data.hit_distance_sc.isnull(), 0 , data.hit_distance_sc)\n",
    "data.launch_angle = np.where(data.launch_angle.isnull(), 0, data.launch_angle)\n"
   ]
  },
  {
   "cell_type": "code",
   "execution_count": 10,
   "metadata": {},
   "outputs": [
    {
     "data": {
      "text/plain": [
       "(772797, 19)"
      ]
     },
     "execution_count": 10,
     "metadata": {},
     "output_type": "execute_result"
    }
   ],
   "source": [
    "data.shape"
   ]
  },
  {
   "cell_type": "code",
   "execution_count": 11,
   "metadata": {},
   "outputs": [
    {
     "data": {
      "text/plain": [
       "pitch_name             2072\n",
       "Pitch_Velocity         1761\n",
       "events                    0\n",
       "hit_distance_sc           0\n",
       "Exit_velocity             0\n",
       "launch_angle              0\n",
       "launch_speed_angle        0\n",
       "effective_speed        9581\n",
       "hit_location              0\n",
       "Spin_Rate             28885\n",
       "vx0                    1828\n",
       "vy0                    1828\n",
       "vz0                    1828\n",
       "ax                     1828\n",
       "ay                     1828\n",
       "az                     1828\n",
       "pfx_x                  1828\n",
       "pfx_z                  1828\n",
       "bauer_units           28885\n",
       "dtype: int64"
      ]
     },
     "execution_count": 11,
     "metadata": {},
     "output_type": "execute_result"
    }
   ],
   "source": [
    "data.isna().sum()"
   ]
  },
  {
   "cell_type": "code",
   "execution_count": 12,
   "metadata": {},
   "outputs": [],
   "source": [
    "#Dropping remaining null values\n",
    "data.dropna(inplace = True)"
   ]
  },
  {
   "cell_type": "code",
   "execution_count": 13,
   "metadata": {},
   "outputs": [
    {
     "data": {
      "text/plain": [
       "(743066, 19)"
      ]
     },
     "execution_count": 13,
     "metadata": {},
     "output_type": "execute_result"
    }
   ],
   "source": [
    "data.shape"
   ]
  },
  {
   "cell_type": "code",
   "execution_count": 14,
   "metadata": {},
   "outputs": [],
   "source": [
    "#Label encoding pitch name for the computer to recognize that there are different pitches\n",
    "from sklearn.preprocessing import LabelEncoder\n",
    "le = LabelEncoder()\n",
    "data['pitch_name']= le.fit_transform(data['pitch_name'])"
   ]
  },
  {
   "cell_type": "code",
   "execution_count": 15,
   "metadata": {},
   "outputs": [
    {
     "data": {
      "text/html": [
       "<div>\n",
       "<style scoped>\n",
       "    .dataframe tbody tr th:only-of-type {\n",
       "        vertical-align: middle;\n",
       "    }\n",
       "\n",
       "    .dataframe tbody tr th {\n",
       "        vertical-align: top;\n",
       "    }\n",
       "\n",
       "    .dataframe thead th {\n",
       "        text-align: right;\n",
       "    }\n",
       "</style>\n",
       "<table border=\"1\" class=\"dataframe\">\n",
       "  <thead>\n",
       "    <tr style=\"text-align: right;\">\n",
       "      <th></th>\n",
       "      <th>pitch_name</th>\n",
       "      <th>Pitch_Velocity</th>\n",
       "      <th>events</th>\n",
       "      <th>hit_distance_sc</th>\n",
       "      <th>Exit_velocity</th>\n",
       "      <th>launch_angle</th>\n",
       "      <th>launch_speed_angle</th>\n",
       "      <th>effective_speed</th>\n",
       "      <th>hit_location</th>\n",
       "      <th>Spin_Rate</th>\n",
       "      <th>vx0</th>\n",
       "      <th>vy0</th>\n",
       "      <th>vz0</th>\n",
       "      <th>ax</th>\n",
       "      <th>ay</th>\n",
       "      <th>az</th>\n",
       "      <th>pfx_x</th>\n",
       "      <th>pfx_z</th>\n",
       "      <th>bauer_units</th>\n",
       "    </tr>\n",
       "  </thead>\n",
       "  <tbody>\n",
       "    <tr>\n",
       "      <th>0</th>\n",
       "      <td>4</td>\n",
       "      <td>90.4</td>\n",
       "      <td>out</td>\n",
       "      <td>256.0</td>\n",
       "      <td>79.1</td>\n",
       "      <td>22.0</td>\n",
       "      <td>4.0</td>\n",
       "      <td>90.193</td>\n",
       "      <td>7.0</td>\n",
       "      <td>2449.0</td>\n",
       "      <td>-7.065</td>\n",
       "      <td>-131.512</td>\n",
       "      <td>-3.298</td>\n",
       "      <td>-3.334</td>\n",
       "      <td>27.861</td>\n",
       "      <td>-30.520</td>\n",
       "      <td>-0.394417</td>\n",
       "      <td>0.329000</td>\n",
       "      <td>27.090708</td>\n",
       "    </tr>\n",
       "    <tr>\n",
       "      <th>1</th>\n",
       "      <td>7</td>\n",
       "      <td>81.5</td>\n",
       "      <td>ball</td>\n",
       "      <td>0.0</td>\n",
       "      <td>0.0</td>\n",
       "      <td>0.0</td>\n",
       "      <td>0.0</td>\n",
       "      <td>81.301</td>\n",
       "      <td>0.0</td>\n",
       "      <td>2293.0</td>\n",
       "      <td>-7.940</td>\n",
       "      <td>-118.390</td>\n",
       "      <td>-2.930</td>\n",
       "      <td>-0.977</td>\n",
       "      <td>18.714</td>\n",
       "      <td>-31.765</td>\n",
       "      <td>-0.224633</td>\n",
       "      <td>0.232967</td>\n",
       "      <td>28.134969</td>\n",
       "    </tr>\n",
       "    <tr>\n",
       "      <th>2</th>\n",
       "      <td>3</td>\n",
       "      <td>77.1</td>\n",
       "      <td>ball</td>\n",
       "      <td>0.0</td>\n",
       "      <td>0.0</td>\n",
       "      <td>0.0</td>\n",
       "      <td>0.0</td>\n",
       "      <td>75.063</td>\n",
       "      <td>0.0</td>\n",
       "      <td>2543.0</td>\n",
       "      <td>-6.290</td>\n",
       "      <td>-112.149</td>\n",
       "      <td>-2.442</td>\n",
       "      <td>-4.252</td>\n",
       "      <td>25.153</td>\n",
       "      <td>-42.517</td>\n",
       "      <td>-0.607342</td>\n",
       "      <td>-1.004000</td>\n",
       "      <td>32.983139</td>\n",
       "    </tr>\n",
       "    <tr>\n",
       "      <th>3</th>\n",
       "      <td>4</td>\n",
       "      <td>87.6</td>\n",
       "      <td>strike</td>\n",
       "      <td>0.0</td>\n",
       "      <td>0.0</td>\n",
       "      <td>0.0</td>\n",
       "      <td>0.0</td>\n",
       "      <td>86.856</td>\n",
       "      <td>0.0</td>\n",
       "      <td>2513.0</td>\n",
       "      <td>-5.742</td>\n",
       "      <td>-127.487</td>\n",
       "      <td>-2.031</td>\n",
       "      <td>0.472</td>\n",
       "      <td>27.321</td>\n",
       "      <td>-28.650</td>\n",
       "      <td>-0.089642</td>\n",
       "      <td>0.502433</td>\n",
       "      <td>28.687215</td>\n",
       "    </tr>\n",
       "    <tr>\n",
       "      <th>4</th>\n",
       "      <td>4</td>\n",
       "      <td>86.2</td>\n",
       "      <td>strike</td>\n",
       "      <td>0.0</td>\n",
       "      <td>0.0</td>\n",
       "      <td>0.0</td>\n",
       "      <td>0.0</td>\n",
       "      <td>86.030</td>\n",
       "      <td>0.0</td>\n",
       "      <td>2422.0</td>\n",
       "      <td>-6.874</td>\n",
       "      <td>-125.377</td>\n",
       "      <td>-2.652</td>\n",
       "      <td>-1.359</td>\n",
       "      <td>24.380</td>\n",
       "      <td>-28.309</td>\n",
       "      <td>-0.248292</td>\n",
       "      <td>0.539700</td>\n",
       "      <td>28.097448</td>\n",
       "    </tr>\n",
       "    <tr>\n",
       "      <th>5</th>\n",
       "      <td>1</td>\n",
       "      <td>91.8</td>\n",
       "      <td>ball</td>\n",
       "      <td>0.0</td>\n",
       "      <td>0.0</td>\n",
       "      <td>0.0</td>\n",
       "      <td>0.0</td>\n",
       "      <td>90.941</td>\n",
       "      <td>0.0</td>\n",
       "      <td>2115.0</td>\n",
       "      <td>-9.252</td>\n",
       "      <td>-133.420</td>\n",
       "      <td>-2.692</td>\n",
       "      <td>10.444</td>\n",
       "      <td>31.375</td>\n",
       "      <td>-19.811</td>\n",
       "      <td>0.684125</td>\n",
       "      <td>1.187567</td>\n",
       "      <td>23.039216</td>\n",
       "    </tr>\n",
       "    <tr>\n",
       "      <th>6</th>\n",
       "      <td>4</td>\n",
       "      <td>88.1</td>\n",
       "      <td>single</td>\n",
       "      <td>60.0</td>\n",
       "      <td>89.1</td>\n",
       "      <td>3.0</td>\n",
       "      <td>2.0</td>\n",
       "      <td>87.526</td>\n",
       "      <td>9.0</td>\n",
       "      <td>2465.0</td>\n",
       "      <td>-5.272</td>\n",
       "      <td>-128.235</td>\n",
       "      <td>-2.390</td>\n",
       "      <td>-1.473</td>\n",
       "      <td>28.023</td>\n",
       "      <td>-28.666</td>\n",
       "      <td>-0.253858</td>\n",
       "      <td>0.498133</td>\n",
       "      <td>27.979569</td>\n",
       "    </tr>\n",
       "    <tr>\n",
       "      <th>7</th>\n",
       "      <td>3</td>\n",
       "      <td>77.2</td>\n",
       "      <td>ball</td>\n",
       "      <td>0.0</td>\n",
       "      <td>0.0</td>\n",
       "      <td>0.0</td>\n",
       "      <td>0.0</td>\n",
       "      <td>75.389</td>\n",
       "      <td>0.0</td>\n",
       "      <td>2514.0</td>\n",
       "      <td>-4.620</td>\n",
       "      <td>-112.364</td>\n",
       "      <td>-0.727</td>\n",
       "      <td>-5.753</td>\n",
       "      <td>24.912</td>\n",
       "      <td>-42.320</td>\n",
       "      <td>-0.771558</td>\n",
       "      <td>-0.973900</td>\n",
       "      <td>32.564767</td>\n",
       "    </tr>\n",
       "    <tr>\n",
       "      <th>9</th>\n",
       "      <td>1</td>\n",
       "      <td>89.5</td>\n",
       "      <td>foul</td>\n",
       "      <td>233.0</td>\n",
       "      <td>75.0</td>\n",
       "      <td>35.0</td>\n",
       "      <td>0.0</td>\n",
       "      <td>88.828</td>\n",
       "      <td>0.0</td>\n",
       "      <td>2438.0</td>\n",
       "      <td>-7.927</td>\n",
       "      <td>-130.104</td>\n",
       "      <td>-3.647</td>\n",
       "      <td>3.183</td>\n",
       "      <td>27.453</td>\n",
       "      <td>-22.159</td>\n",
       "      <td>0.128850</td>\n",
       "      <td>1.031333</td>\n",
       "      <td>27.240223</td>\n",
       "    </tr>\n",
       "    <tr>\n",
       "      <th>10</th>\n",
       "      <td>0</td>\n",
       "      <td>85.6</td>\n",
       "      <td>out</td>\n",
       "      <td>300.0</td>\n",
       "      <td>91.6</td>\n",
       "      <td>37.0</td>\n",
       "      <td>3.0</td>\n",
       "      <td>85.222</td>\n",
       "      <td>9.0</td>\n",
       "      <td>1360.0</td>\n",
       "      <td>-6.415</td>\n",
       "      <td>-124.506</td>\n",
       "      <td>-0.322</td>\n",
       "      <td>11.561</td>\n",
       "      <td>26.242</td>\n",
       "      <td>-24.781</td>\n",
       "      <td>0.899833</td>\n",
       "      <td>0.872233</td>\n",
       "      <td>15.887850</td>\n",
       "    </tr>\n",
       "  </tbody>\n",
       "</table>\n",
       "</div>"
      ],
      "text/plain": [
       "    pitch_name  Pitch_Velocity  events  hit_distance_sc  Exit_velocity  \\\n",
       "0            4            90.4     out            256.0           79.1   \n",
       "1            7            81.5    ball              0.0            0.0   \n",
       "2            3            77.1    ball              0.0            0.0   \n",
       "3            4            87.6  strike              0.0            0.0   \n",
       "4            4            86.2  strike              0.0            0.0   \n",
       "5            1            91.8    ball              0.0            0.0   \n",
       "6            4            88.1  single             60.0           89.1   \n",
       "7            3            77.2    ball              0.0            0.0   \n",
       "9            1            89.5    foul            233.0           75.0   \n",
       "10           0            85.6     out            300.0           91.6   \n",
       "\n",
       "    launch_angle  launch_speed_angle  effective_speed  hit_location  \\\n",
       "0           22.0                 4.0           90.193           7.0   \n",
       "1            0.0                 0.0           81.301           0.0   \n",
       "2            0.0                 0.0           75.063           0.0   \n",
       "3            0.0                 0.0           86.856           0.0   \n",
       "4            0.0                 0.0           86.030           0.0   \n",
       "5            0.0                 0.0           90.941           0.0   \n",
       "6            3.0                 2.0           87.526           9.0   \n",
       "7            0.0                 0.0           75.389           0.0   \n",
       "9           35.0                 0.0           88.828           0.0   \n",
       "10          37.0                 3.0           85.222           9.0   \n",
       "\n",
       "    Spin_Rate    vx0      vy0    vz0      ax      ay      az     pfx_x  \\\n",
       "0      2449.0 -7.065 -131.512 -3.298  -3.334  27.861 -30.520 -0.394417   \n",
       "1      2293.0 -7.940 -118.390 -2.930  -0.977  18.714 -31.765 -0.224633   \n",
       "2      2543.0 -6.290 -112.149 -2.442  -4.252  25.153 -42.517 -0.607342   \n",
       "3      2513.0 -5.742 -127.487 -2.031   0.472  27.321 -28.650 -0.089642   \n",
       "4      2422.0 -6.874 -125.377 -2.652  -1.359  24.380 -28.309 -0.248292   \n",
       "5      2115.0 -9.252 -133.420 -2.692  10.444  31.375 -19.811  0.684125   \n",
       "6      2465.0 -5.272 -128.235 -2.390  -1.473  28.023 -28.666 -0.253858   \n",
       "7      2514.0 -4.620 -112.364 -0.727  -5.753  24.912 -42.320 -0.771558   \n",
       "9      2438.0 -7.927 -130.104 -3.647   3.183  27.453 -22.159  0.128850   \n",
       "10     1360.0 -6.415 -124.506 -0.322  11.561  26.242 -24.781  0.899833   \n",
       "\n",
       "       pfx_z  bauer_units  \n",
       "0   0.329000    27.090708  \n",
       "1   0.232967    28.134969  \n",
       "2  -1.004000    32.983139  \n",
       "3   0.502433    28.687215  \n",
       "4   0.539700    28.097448  \n",
       "5   1.187567    23.039216  \n",
       "6   0.498133    27.979569  \n",
       "7  -0.973900    32.564767  \n",
       "9   1.031333    27.240223  \n",
       "10  0.872233    15.887850  "
      ]
     },
     "execution_count": 15,
     "metadata": {},
     "output_type": "execute_result"
    }
   ],
   "source": [
    "data.head(10)"
   ]
  },
  {
   "cell_type": "markdown",
   "metadata": {},
   "source": [
    "# Scaling the Data"
   ]
  },
  {
   "cell_type": "code",
   "execution_count": 30,
   "metadata": {},
   "outputs": [
    {
     "name": "stderr",
     "output_type": "stream",
     "text": [
      "/Users/nickrad/anaconda3/envs/PythonData/lib/python3.6/site-packages/sklearn/preprocessing/data.py:323: DataConversionWarning: Data with input dtype int64, float64 were all converted to float64 by MinMaxScaler.\n",
      "  return self.partial_fit(X, y)\n"
     ]
    }
   ],
   "source": [
    "#scaling data\n",
    "from sklearn.preprocessing import MinMaxScaler\n",
    "scaler = MinMaxScaler()\n",
    "X = data.drop(columns=['events'], axis =1)\n",
    "y = data.events\n",
    "X = scaler.fit_transform(X)\n",
    "#train and test data\n",
    "from sklearn.model_selection import train_test_split\n",
    "X_train, X_test, y_train, y_test = train_test_split(X, y, random_state=1)"
   ]
  },
  {
   "cell_type": "code",
   "execution_count": 33,
   "metadata": {},
   "outputs": [
    {
     "name": "stderr",
     "output_type": "stream",
     "text": [
      "/Users/nickrad/anaconda3/envs/PythonData/lib/python3.6/site-packages/sklearn/utils/optimize.py:203: ConvergenceWarning: newton-cg failed to converge. Increase the number of iterations.\n",
      "  \"number of iterations.\", ConvergenceWarning)\n"
     ]
    },
    {
     "name": "stdout",
     "output_type": "stream",
     "text": [
      "R-sqaured training data: 0.6368538253253639\n",
      "R-squared testing data: 0.6356403451635652\n"
     ]
    }
   ],
   "source": [
    "#Going to run logistic regression to see if we get a better output\n",
    "from sklearn.linear_model import LogisticRegression\n",
    "classifier = LogisticRegression(multi_class= 'multinomial', solver='newton-cg', C=1e5)\n",
    "classifier.fit(X_train,y_train)\n",
    "print(f\"R-sqaured training data: {classifier.score(X_train, y_train)}\")\n",
    "print(f\"R-squared testing data: {classifier.score(X_test, y_test)}\")"
   ]
  },
  {
   "cell_type": "code",
   "execution_count": 34,
   "metadata": {},
   "outputs": [
    {
     "name": "stderr",
     "output_type": "stream",
     "text": [
      "/Users/nickrad/anaconda3/envs/PythonData/lib/python3.6/site-packages/sklearn/metrics/classification.py:1143: UndefinedMetricWarning: Precision and F-score are ill-defined and being set to 0.0 in labels with no predicted samples.\n",
      "  'precision', 'predicted', average, warn_for)\n"
     ]
    },
    {
     "name": "stdout",
     "output_type": "stream",
     "text": [
      "              precision    recall  f1-score   support\n",
      "\n",
      "        ball       0.53      0.97      0.68     67172\n",
      "      double       0.39      0.17      0.24      2114\n",
      "        foul       0.99      0.47      0.64     34045\n",
      "    home_run       0.95      0.97      0.96      1369\n",
      "         out       0.81      0.94      0.87     22151\n",
      "      single       0.70      0.48      0.57      7239\n",
      "      strike       0.81      0.21      0.34     51479\n",
      "      triple       0.00      0.00      0.00       198\n",
      "\n",
      "   micro avg       0.64      0.64      0.64    185767\n",
      "   macro avg       0.65      0.53      0.54    185767\n",
      "weighted avg       0.73      0.64      0.59    185767\n",
      "\n"
     ]
    }
   ],
   "source": [
    "#Looking at classification report, f1 score of .59\n",
    "#Will use that to compare to other models\n",
    "predictions = classifier.predict(X_test)\n",
    "results = pd.DataFrame({\"Prediction\": predictions, \"Actual\": y_test}).reset_index(drop=True)\n",
    "from sklearn.metrics import classification_report\n",
    "print(classification_report(y_test, predictions))"
   ]
  },
  {
   "cell_type": "code",
   "execution_count": 35,
   "metadata": {},
   "outputs": [
    {
     "name": "stdout",
     "output_type": "stream",
     "text": [
      "R-sqaured training data: 0.7155153696669113\n",
      "R-squared testing data: 0.7143034015729381\n"
     ]
    }
   ],
   "source": [
    "#Gradient Boosting \n",
    "from sklearn.ensemble import GradientBoostingClassifier\n",
    "model = GradientBoostingClassifier()\n",
    "model.fit(X_train, y_train)\n",
    "print(f\"R-sqaured training data: {model.score(X_train, y_train)}\")\n",
    "print(f\"R-squared testing data: {model.score(X_test, y_test)}\")"
   ]
  },
  {
   "cell_type": "code",
   "execution_count": 36,
   "metadata": {},
   "outputs": [
    {
     "name": "stdout",
     "output_type": "stream",
     "text": [
      "              precision    recall  f1-score   support\n",
      "\n",
      "        ball       0.65      0.86      0.74     67172\n",
      "      double       0.58      0.23      0.32      2114\n",
      "        foul       0.99      0.48      0.64     34045\n",
      "    home_run       0.97      0.99      0.98      1369\n",
      "         out       0.91      0.98      0.94     22151\n",
      "      single       0.84      0.80      0.82      7239\n",
      "      strike       0.63      0.57      0.60     51479\n",
      "      triple       0.11      0.01      0.01       198\n",
      "\n",
      "   micro avg       0.71      0.71      0.71    185767\n",
      "   macro avg       0.71      0.61      0.63    185767\n",
      "weighted avg       0.74      0.71      0.71    185767\n",
      "\n"
     ]
    }
   ],
   "source": [
    "modelpredict = model.predict(X_test)\n",
    "from sklearn.metrics import classification_report\n",
    "print(classification_report(y_test, modelpredict))"
   ]
  },
  {
   "cell_type": "code",
   "execution_count": null,
   "metadata": {},
   "outputs": [],
   "source": [
    "#Going to run for the SVM will reduced data"
   ]
  },
  {
   "cell_type": "code",
   "execution_count": 16,
   "metadata": {},
   "outputs": [
    {
     "data": {
      "text/plain": [
       "(148614, 19)"
      ]
     },
     "execution_count": 16,
     "metadata": {},
     "output_type": "execute_result"
    }
   ],
   "source": [
    "svm_data = data.loc[::5]\n",
    "svm_data.shape"
   ]
  },
  {
   "cell_type": "code",
   "execution_count": 17,
   "metadata": {},
   "outputs": [
    {
     "name": "stderr",
     "output_type": "stream",
     "text": [
      "/Users/nickrad/anaconda3/envs/PythonData/lib/python3.6/site-packages/sklearn/preprocessing/data.py:323: DataConversionWarning: Data with input dtype int64, float64 were all converted to float64 by MinMaxScaler.\n",
      "  return self.partial_fit(X, y)\n"
     ]
    }
   ],
   "source": [
    "#scaling data\n",
    "from sklearn.preprocessing import MinMaxScaler\n",
    "scaler = MinMaxScaler()\n",
    "X_svm = svm_data.drop(columns=['events'], axis =1)\n",
    "y = svm_data.events\n",
    "X_svm = scaler.fit_transform(X_svm)\n",
    "#train and test data\n",
    "from sklearn.model_selection import train_test_split\n",
    "X_svm_train, X_svm_test, y_svm_train, y_svm_test = train_test_split(X_svm, y, random_state=1)"
   ]
  },
  {
   "cell_type": "code",
   "execution_count": 18,
   "metadata": {},
   "outputs": [
    {
     "name": "stdout",
     "output_type": "stream",
     "text": [
      "R-sqaured training data: 0.6481876906513547\n",
      "R-squared testing data: 0.6480594283253486\n"
     ]
    }
   ],
   "source": [
    "from sklearn import svm\n",
    "clf = svm.SVC(gamma='scale', decision_function_shape='ovo', class_weight= None)\n",
    "clf.fit(X_svm_train, y_svm_train)\n",
    "print(f\"R-sqaured training data: {clf.score(X_svm_train, y_svm_train)}\")\n",
    "print(f\"R-squared testing data: {clf.score(X_svm_test, y_svm_test)}\")"
   ]
  },
  {
   "cell_type": "code",
   "execution_count": 19,
   "metadata": {
    "scrolled": true
   },
   "outputs": [
    {
     "name": "stderr",
     "output_type": "stream",
     "text": [
      "/Users/nickrad/anaconda3/envs/PythonData/lib/python3.6/site-packages/sklearn/metrics/classification.py:1143: UndefinedMetricWarning: Precision and F-score are ill-defined and being set to 0.0 in labels with no predicted samples.\n",
      "  'precision', 'predicted', average, warn_for)\n"
     ]
    },
    {
     "name": "stdout",
     "output_type": "stream",
     "text": [
      "              precision    recall  f1-score   support\n",
      "\n",
      "        ball       0.53      1.00      0.69     13433\n",
      "      double       0.39      0.02      0.03       429\n",
      "        foul       0.99      0.46      0.63      6904\n",
      "    home_run       0.93      0.99      0.96       288\n",
      "         out       0.84      0.96      0.89      4428\n",
      "      single       0.74      0.62      0.68      1481\n",
      "      strike       1.00      0.20      0.33     10153\n",
      "      triple       0.00      0.00      0.00        38\n",
      "\n",
      "   micro avg       0.65      0.65      0.65     37154\n",
      "   macro avg       0.68      0.53      0.53     37154\n",
      "weighted avg       0.79      0.65      0.60     37154\n",
      "\n"
     ]
    }
   ],
   "source": [
    "#looking at the classifciation report for the SVM\n",
    "clf_predict = clf.predict(X_svm_test)\n",
    "from sklearn.metrics import classification_report\n",
    "print(classification_report( y_svm_test, clf_predict))"
   ]
  },
  {
   "cell_type": "code",
   "execution_count": 24,
   "metadata": {},
   "outputs": [
    {
     "data": {
      "text/plain": [
       "ball        25264\n",
       "out          5081\n",
       "foul         3228\n",
       "strike       2004\n",
       "single       1253\n",
       "home_run      306\n",
       "double         18\n",
       "Name: Prediction, dtype: int64"
      ]
     },
     "execution_count": 24,
     "metadata": {},
     "output_type": "execute_result"
    }
   ],
   "source": [
    "predict_counts"
   ]
  },
  {
   "cell_type": "code",
   "execution_count": 26,
   "metadata": {},
   "outputs": [
    {
     "data": {
      "text/plain": [
       "<Figure size 864x576 with 0 Axes>"
      ]
     },
     "metadata": {},
     "output_type": "display_data"
    },
    {
     "data": {
      "image/png": "[encoded data removed]",
      "text/plain": [
       "<Figure size 432x288 with 1 Axes>"
      ]
     },
     "metadata": {
      "needs_background": "light"
     },
     "output_type": "display_data"
    }
   ],
   "source": [
    "#Creating a datafram and graphing actual results vs the models prediction\n",
    "import matplotlib.pyplot as plt\n",
    "clf_results = pd.DataFrame({\"Prediction\": clf_predict,\n",
    "                           \"Actual\": y_svm_test})\n",
    "predict_counts = clf_results.Prediction.value_counts()\n",
    "predict_df = predict_counts.to_frame()\n",
    "actual_counts = clf_results.Actual.value_counts()\n",
    "actual_df = actual_counts.to_frame()\n",
    "graph_items = pd.merge( predict_df, actual_df,left_index=True, right_index=True ,suffixes= ('predict', 'actual'))\n",
    "\n",
    "#Bar graph of predicted v Actual\n",
    "plt.figure(figsize=(12,8))\n",
    "graph_items.plot.bar(rot=0)\n",
    "plt.xlabel('Possible Outcomes')\n",
    "plt.ylabel('Number of Occurances')\n",
    "plt.title('SVM Scaled: Predicted Outcomes vs Actual Outcomes')\n",
    "plt.savefig('svm_scaled.png')"
   ]
  },
  {
   "cell_type": "markdown",
   "metadata": {},
   "source": [
    "# Testing models with a Subset of the data"
   ]
  },
  {
   "cell_type": "code",
   "execution_count": 10,
   "metadata": {},
   "outputs": [
    {
     "data": {
      "text/plain": [
       "(13957, 19)"
      ]
     },
     "execution_count": 10,
     "metadata": {},
     "output_type": "execute_result"
    }
   ],
   "source": [
    "#Going to initially test models with a subset of the dataset\n",
    "#Using 14,023 rows to test models\n",
    "test_data = data.loc[:730000:50]\n",
    "test_data.shape"
   ]
  },
  {
   "cell_type": "code",
   "execution_count": 11,
   "metadata": {},
   "outputs": [],
   "source": [
    "#Breaking down into X and Y values to feed to model\n",
    "X = test_data.drop(columns=['events'], axis =1)\n",
    "y = test_data.events"
   ]
  },
  {
   "cell_type": "markdown",
   "metadata": {},
   "source": [
    "Not going to scale the data initially"
   ]
  },
  {
   "cell_type": "code",
   "execution_count": 12,
   "metadata": {},
   "outputs": [],
   "source": [
    "#train and test data\n",
    "from sklearn.model_selection import train_test_split\n",
    "X_train, X_test, y_train, y_test = train_test_split(X, y, random_state=1)"
   ]
  },
  {
   "cell_type": "markdown",
   "metadata": {},
   "source": [
    "Running a logistic regression as a baseline"
   ]
  },
  {
   "cell_type": "code",
   "execution_count": 13,
   "metadata": {},
   "outputs": [
    {
     "name": "stdout",
     "output_type": "stream",
     "text": [
      "R-sqaured training data: 0.6419222317760581\n",
      "R-squared testing data: 0.6286532951289399\n"
     ]
    },
    {
     "name": "stderr",
     "output_type": "stream",
     "text": [
      "/Users/nickrad/anaconda3/envs/PythonData/lib/python3.6/site-packages/sklearn/utils/optimize.py:203: ConvergenceWarning: newton-cg failed to converge. Increase the number of iterations.\n",
      "  \"number of iterations.\", ConvergenceWarning)\n"
     ]
    }
   ],
   "source": [
    "#Logistic Regression\n",
    "from sklearn.linear_model import LogisticRegression\n",
    "classifier = LogisticRegression(multi_class= 'multinomial', solver='newton-cg', C=1e5)\n",
    "classifier.fit(X_train,y_train)\n",
    "\n",
    "#Get R-squared value for training and testing data\n",
    "print(f\"R-sqaured training data: {classifier.score(X_train, y_train)}\")\n",
    "print(f\"R-squared testing data: {classifier.score(X_test, y_test)}\")"
   ]
  },
  {
   "cell_type": "markdown",
   "metadata": {},
   "source": [
    "The logistic regression returned R-squared values for both training and testing data of .63. A respectable baseline.\n",
    "Could graph feature importance next."
   ]
  },
  {
   "cell_type": "code",
   "execution_count": 14,
   "metadata": {},
   "outputs": [
    {
     "name": "stdout",
     "output_type": "stream",
     "text": [
      "              precision    recall  f1-score   support\n",
      "\n",
      "        ball       0.52      0.98      0.68      1250\n",
      "      double       0.33      0.27      0.30        37\n",
      "        foul       0.99      0.46      0.63       652\n",
      "    home_run       0.97      0.97      0.97        31\n",
      "         out       0.80      0.91      0.85       400\n",
      "      single       0.68      0.47      0.56       154\n",
      "      strike       0.85      0.20      0.32       962\n",
      "      triple       0.00      0.00      0.00         4\n",
      "\n",
      "   micro avg       0.63      0.63      0.63      3490\n",
      "   macro avg       0.64      0.53      0.54      3490\n",
      "weighted avg       0.74      0.63      0.59      3490\n",
      "\n"
     ]
    },
    {
     "name": "stderr",
     "output_type": "stream",
     "text": [
      "/Users/nickrad/anaconda3/envs/PythonData/lib/python3.6/site-packages/sklearn/metrics/classification.py:1143: UndefinedMetricWarning: Precision and F-score are ill-defined and being set to 0.0 in labels with no predicted samples.\n",
      "  'precision', 'predicted', average, warn_for)\n"
     ]
    }
   ],
   "source": [
    "#Looking at classification report, f1 score of .59\n",
    "#Will use that to compare to other models\n",
    "predictions = classifier.predict(X_test)\n",
    "results = pd.DataFrame({\"Prediction\": predictions, \"Actual\": y_test}).reset_index(drop=True)\n",
    "from sklearn.metrics import classification_report\n",
    "print(classification_report(y_test, predictions))"
   ]
  },
  {
   "cell_type": "markdown",
   "metadata": {},
   "source": [
    "Testing a gradient boosting model next"
   ]
  },
  {
   "cell_type": "code",
   "execution_count": 15,
   "metadata": {},
   "outputs": [
    {
     "name": "stdout",
     "output_type": "stream",
     "text": [
      "R-sqaured training data: 0.7554218018534442\n",
      "R-squared testing data: 0.6919770773638968\n"
     ]
    }
   ],
   "source": [
    "#Gradient Boosting \n",
    "from sklearn.ensemble import GradientBoostingClassifier\n",
    "model = GradientBoostingClassifier()\n",
    "model.fit(X_train, y_train)\n",
    "print(f\"R-sqaured training data: {model.score(X_train, y_train)}\")\n",
    "print(f\"R-squared testing data: {model.score(X_test, y_test)}\")"
   ]
  },
  {
   "cell_type": "markdown",
   "metadata": {},
   "source": [
    "Gradient Boosting produced an improved training score with a .75 but it dipped when testing the data to .698."
   ]
  },
  {
   "cell_type": "code",
   "execution_count": 17,
   "metadata": {
    "scrolled": true
   },
   "outputs": [
    {
     "name": "stdout",
     "output_type": "stream",
     "text": [
      "              precision    recall  f1-score   support\n",
      "\n",
      "        ball       0.61      0.87      0.72      1250\n",
      "      double       0.42      0.30      0.35        37\n",
      "        foul       0.98      0.47      0.63       652\n",
      "    home_run       0.97      1.00      0.98        31\n",
      "         out       0.90      0.97      0.93       400\n",
      "      single       0.83      0.73      0.78       154\n",
      "      strike       0.61      0.51      0.55       962\n",
      "      triple       0.00      0.00      0.00         4\n",
      "\n",
      "   micro avg       0.69      0.69      0.69      3490\n",
      "   macro avg       0.67      0.60      0.62      3490\n",
      "weighted avg       0.73      0.69      0.68      3490\n",
      "\n"
     ]
    }
   ],
   "source": [
    "modelpredict = model.predict(X_test)\n",
    "from sklearn.metrics import classification_report\n",
    "print(classification_report(y_test, modelpredict))"
   ]
  },
  {
   "cell_type": "markdown",
   "metadata": {},
   "source": [
    "With a f1 score of .69, the gradient boosting model looks to be superior than the logistic regression initially."
   ]
  },
  {
   "cell_type": "code",
   "execution_count": 19,
   "metadata": {},
   "outputs": [
    {
     "data": {
      "image/png": "[encoded data removed]",
      "text/plain": [
       "<Figure size 720x576 with 1 Axes>"
      ]
     },
     "metadata": {
      "needs_background": "light"
     },
     "output_type": "display_data"
    }
   ],
   "source": [
    "#Feature important breakdown of the model\n",
    "import matplotlib.pyplot as plt\n",
    "plt.figure(1, figsize=(10, 8))\n",
    "plt.bar(range(len(model.feature_importances_)), model.feature_importances_)\n",
    "labels = list(X_train)\n",
    "plt.xticks(range(len(model.feature_importances_)), labels, rotation='vertical')\n",
    "plt.xlabel(\"Features\")\n",
    "plt.ylabel(\"Importance\")\n",
    "plt.title(\"Features Importance\")\n",
    "plt.show()"
   ]
  },
  {
   "cell_type": "markdown",
   "metadata": {},
   "source": [
    "Testing Support Vector Machines "
   ]
  },
  {
   "cell_type": "code",
   "execution_count": 20,
   "metadata": {},
   "outputs": [
    {
     "name": "stdout",
     "output_type": "stream",
     "text": [
      "R-sqaured training data: 0.5475303334288717\n",
      "R-squared testing data: 0.5255014326647565\n"
     ]
    }
   ],
   "source": [
    "#SVM\n",
    "#Not much of a difference between ovo and ovr\n",
    "from sklearn import svm\n",
    "clf = svm.SVC(gamma='scale', decision_function_shape='ovo', class_weight= None, )\n",
    "clf.fit(X_train, y_train)\n",
    "print(f\"R-sqaured training data: {clf.score(X_train, y_train)}\")\n",
    "print(f\"R-squared testing data: {clf.score(X_test, y_test)}\")"
   ]
  },
  {
   "cell_type": "markdown",
   "metadata": {},
   "source": [
    "The SVM returns an R-squared value of .52 "
   ]
  },
  {
   "cell_type": "code",
   "execution_count": 21,
   "metadata": {
    "scrolled": true
   },
   "outputs": [
    {
     "name": "stdout",
     "output_type": "stream",
     "text": [
      "              precision    recall  f1-score   support\n",
      "\n",
      "        ball       0.49      0.97      0.65      1250\n",
      "      double       0.00      0.00      0.00        37\n",
      "        foul       0.75      0.27      0.40       652\n",
      "    home_run       0.57      0.42      0.48        31\n",
      "         out       0.60      0.87      0.71       400\n",
      "      single       0.61      0.35      0.45       154\n",
      "      strike       0.40      0.03      0.05       962\n",
      "      triple       0.00      0.00      0.00         4\n",
      "\n",
      "   micro avg       0.53      0.53      0.53      3490\n",
      "   macro avg       0.43      0.36      0.34      3490\n",
      "weighted avg       0.53      0.53      0.43      3490\n",
      "\n"
     ]
    },
    {
     "name": "stderr",
     "output_type": "stream",
     "text": [
      "/Users/nickrad/anaconda3/envs/PythonData/lib/python3.6/site-packages/sklearn/metrics/classification.py:1143: UndefinedMetricWarning: Precision and F-score are ill-defined and being set to 0.0 in labels with no predicted samples.\n",
      "  'precision', 'predicted', average, warn_for)\n"
     ]
    }
   ],
   "source": [
    "#looking at the classifciation report for the SVM\n",
    "clf_predict = clf.predict(X_test)\n",
    "from sklearn.metrics import classification_report\n",
    "print(classification_report( y_test, clf_predict))"
   ]
  },
  {
   "cell_type": "code",
   "execution_count": 75,
   "metadata": {},
   "outputs": [
    {
     "data": {
      "text/plain": [
       "<Figure size 864x576 with 0 Axes>"
      ]
     },
     "metadata": {},
     "output_type": "display_data"
    },
    {
     "data": {
      "image/png": "[encoded data removed]",
      "text/plain": [
       "<Figure size 432x288 with 1 Axes>"
      ]
     },
     "metadata": {
      "needs_background": "light"
     },
     "output_type": "display_data"
    }
   ],
   "source": [
    "#Creating a datafram and graphing actual results vs the models prediction\n",
    "clf_results = pd.DataFrame({\"Prediction\": clf_predict,\n",
    "                           \"Actual\": y_test})\n",
    "predict_counts = clf_results.Prediction.value_counts()\n",
    "predict_df = predict_counts.to_frame()\n",
    "actual_counts = clf_results.Actual.value_counts()\n",
    "actual_df = actual_counts.to_frame()\n",
    "graph_items = pd.merge( predict_df, actual_df,left_index=True, right_index=True ,suffixes= ('predict', 'actual'))\n",
    "\n",
    "#Bar graph of predicted v Actual\n",
    "plt.figure(figsize=(12,8))\n",
    "graph_items.plot.bar(rot=0)\n",
    "plt.xlabel('Result')\n",
    "plt.ylabel('Number of Occurances')\n",
    "plt.title('SVM Subset: Predicted Outcomes vs Actual Outcomes')\n",
    "plt.show()"
   ]
  },
  {
   "cell_type": "markdown",
   "metadata": {},
   "source": [
    "With an  f1 score of .43, the SVM performed the worst on the subsetted dataset."
   ]
  },
  {
   "cell_type": "markdown",
   "metadata": {},
   "source": [
    "# Testing the Whole Dataset"
   ]
  },
  {
   "cell_type": "code",
   "execution_count": 12,
   "metadata": {},
   "outputs": [],
   "source": [
    "#Breaking down into X and Y values to feed to model\n",
    "X = data.drop(columns=['events'], axis =1)\n",
    "y = data.events"
   ]
  },
  {
   "cell_type": "code",
   "execution_count": 15,
   "metadata": {},
   "outputs": [],
   "source": [
    "#train and test data\n",
    "from sklearn.model_selection import train_test_split\n",
    "X_train, X_test, y_train, y_test = train_test_split(X, y, random_state=1)"
   ]
  },
  {
   "cell_type": "markdown",
   "metadata": {},
   "source": [
    "Logistic Regression with full dataset"
   ]
  },
  {
   "cell_type": "code",
   "execution_count": 16,
   "metadata": {},
   "outputs": [
    {
     "name": "stderr",
     "output_type": "stream",
     "text": [
      "/Users/nickrad/anaconda3/envs/PythonData/lib/python3.6/site-packages/sklearn/utils/optimize.py:203: ConvergenceWarning: newton-cg failed to converge. Increase the number of iterations.\n",
      "  \"number of iterations.\", ConvergenceWarning)\n"
     ]
    },
    {
     "name": "stdout",
     "output_type": "stream",
     "text": [
      "R-sqaured training data: 0.6342763661951205\n",
      "R-squared testing data: 0.6335162126829686\n"
     ]
    }
   ],
   "source": [
    "#Logistic Regression\n",
    "from sklearn.linear_model import LogisticRegression\n",
    "classifier = LogisticRegression(multi_class= 'multinomial', solver='newton-cg', C=1e5)\n",
    "classifier.fit(X_train,y_train)\n",
    "\n",
    "#Get R-squared value for training and testing data\n",
    "print(f\"R-sqaured training data: {classifier.score(X_train, y_train)}\")\n",
    "print(f\"R-squared testing data: {classifier.score(X_test, y_test)}\")"
   ]
  },
  {
   "cell_type": "markdown",
   "metadata": {},
   "source": [
    "Performed the same as with the subsetted dataset"
   ]
  },
  {
   "cell_type": "code",
   "execution_count": 17,
   "metadata": {},
   "outputs": [
    {
     "name": "stderr",
     "output_type": "stream",
     "text": [
      "/Users/nickrad/anaconda3/envs/PythonData/lib/python3.6/site-packages/sklearn/metrics/classification.py:1143: UndefinedMetricWarning: Precision and F-score are ill-defined and being set to 0.0 in labels with no predicted samples.\n",
      "  'precision', 'predicted', average, warn_for)\n"
     ]
    },
    {
     "name": "stdout",
     "output_type": "stream",
     "text": [
      "              precision    recall  f1-score   support\n",
      "\n",
      "        ball       0.53      0.97      0.68     67064\n",
      "      double       0.40      0.18      0.25      2134\n",
      " field_error       0.00      0.00      0.00       422\n",
      "        foul       0.99      0.48      0.64     33820\n",
      "hit_by_pitch       0.00      0.00      0.00       407\n",
      "    home_run       0.94      0.98      0.96      1390\n",
      "         out       0.80      0.94      0.86     22106\n",
      "      single       0.70      0.49      0.58      7210\n",
      "      strike       0.82      0.21      0.34     51875\n",
      "      triple       0.00      0.00      0.00       216\n",
      "\n",
      "   micro avg       0.63      0.63      0.63    186644\n",
      "   macro avg       0.52      0.42      0.43    186644\n",
      "weighted avg       0.73      0.63      0.59    186644\n",
      "\n"
     ]
    }
   ],
   "source": [
    "#Looking at classification report, f1 score of .59\n",
    "#Will use that to compare to other models\n",
    "predictions = classifier.predict(X_test)\n",
    "results = pd.DataFrame({\"Prediction\": predictions, \"Actual\": y_test}).reset_index(drop=True)\n",
    "from sklearn.metrics import classification_report\n",
    "print(classification_report(y_test, predictions))"
   ]
  },
  {
   "cell_type": "markdown",
   "metadata": {},
   "source": [
    "The same f1 score as well"
   ]
  },
  {
   "cell_type": "code",
   "execution_count": 18,
   "metadata": {},
   "outputs": [
    {
     "name": "stdout",
     "output_type": "stream",
     "text": [
      "R-sqaured training data: 0.7137057958927082\n",
      "R-squared testing data: 0.713304472685969\n"
     ]
    }
   ],
   "source": [
    "#Gradient Boosting \n",
    "from sklearn.ensemble import GradientBoostingClassifier\n",
    "model = GradientBoostingClassifier()\n",
    "model.fit(X_train, y_train)\n",
    "print(f\"R-sqaured training data: {model.score(X_train, y_train)}\")\n",
    "print(f\"R-squared testing data: {model.score(X_test, y_test)}\")"
   ]
  },
  {
   "cell_type": "markdown",
   "metadata": {},
   "source": [
    "The gradient boosting model produced a R-squared score of .71. "
   ]
  },
  {
   "cell_type": "code",
   "execution_count": 19,
   "metadata": {},
   "outputs": [
    {
     "name": "stdout",
     "output_type": "stream",
     "text": [
      "              precision    recall  f1-score   support\n",
      "\n",
      "        ball       0.65      0.85      0.74     67064\n",
      "      double       0.56      0.23      0.33      2134\n",
      " field_error       1.00      0.01      0.01       422\n",
      "        foul       0.99      0.48      0.64     33820\n",
      "hit_by_pitch       0.15      0.01      0.03       407\n",
      "    home_run       0.97      0.99      0.98      1390\n",
      "         out       0.89      0.98      0.93     22106\n",
      "      single       0.83      0.81      0.82      7210\n",
      "      strike       0.63      0.59      0.61     51875\n",
      "      triple       0.09      0.00      0.01       216\n",
      "\n",
      "   micro avg       0.71      0.71      0.71    186644\n",
      "   macro avg       0.68      0.50      0.51    186644\n",
      "weighted avg       0.74      0.71      0.70    186644\n",
      "\n"
     ]
    }
   ],
   "source": [
    "modelpredict = model.predict(X_test)\n",
    "from sklearn.metrics import classification_report\n",
    "print(classification_report(y_test, modelpredict))"
   ]
  },
  {
   "cell_type": "markdown",
   "metadata": {},
   "source": [
    "An f1 score of .7"
   ]
  },
  {
   "cell_type": "code",
   "execution_count": 21,
   "metadata": {},
   "outputs": [
    {
     "data": {
      "image/png": "[encoded data removed]",
      "text/plain": [
       "<Figure size 720x576 with 1 Axes>"
      ]
     },
     "metadata": {
      "needs_background": "light"
     },
     "output_type": "display_data"
    }
   ],
   "source": [
    "#Feature important breakdown of the model\n",
    "import matplotlib.pyplot as plt\n",
    "plt.figure(1, figsize=(10, 8))\n",
    "plt.bar(range(len(model.feature_importances_)), model.feature_importances_)\n",
    "labels = list(X_train)\n",
    "plt.xticks(range(len(model.feature_importances_)), labels, rotation='vertical')\n",
    "plt.xlabel(\"Features\")\n",
    "plt.ylabel(\"Importance\")\n",
    "plt.title(\"Features Importance\")\n",
    "plt.show()"
   ]
  },
  {
   "cell_type": "markdown",
   "metadata": {},
   "source": [
    "In looking at the feature importance, the model leans heavily on launch speed. Considering dropping launch speed angle since that is an interpretation. \n",
    "\n",
    "Suprised that pitch velocity is almost irrelevant. "
   ]
  },
  {
   "cell_type": "markdown",
   "metadata": {},
   "source": [
    "An SVM model can't handle more than 200,000 rows so going to create a subset for the model"
   ]
  },
  {
   "cell_type": "code",
   "execution_count": 13,
   "metadata": {},
   "outputs": [
    {
     "data": {
      "text/plain": [
       "(148614, 19)"
      ]
     },
     "execution_count": 13,
     "metadata": {},
     "output_type": "execute_result"
    }
   ],
   "source": [
    "#186,644 rows for the SVM model\n",
    "#getting stuck\n",
    "svm_data = data.loc[::5]\n",
    "svm_data.shape"
   ]
  },
  {
   "cell_type": "code",
   "execution_count": 14,
   "metadata": {},
   "outputs": [],
   "source": [
    "#Breaking down into X and Y values to feed to model\n",
    "X_svm = svm_data.drop(columns=['events'], axis =1)\n",
    "y_svm = svm_data.events\n",
    "#train and test data\n",
    "from sklearn.model_selection import train_test_split\n",
    "X_svm_train, X__svm_test, y_svm_train, y_svm_test = train_test_split(X_svm, y_svm, random_state=1)"
   ]
  },
  {
   "cell_type": "code",
   "execution_count": 15,
   "metadata": {},
   "outputs": [
    {
     "name": "stdout",
     "output_type": "stream",
     "text": [
      "R-sqaured training data: 0.605481787188229\n",
      "R-squared testing data: 0.6028691392582225\n"
     ]
    }
   ],
   "source": [
    "#SVM\n",
    "#Make sure that gamma = 'scale'\n",
    "from sklearn import svm\n",
    "clf = svm.SVC(gamma='scale', decision_function_shape='ovo', class_weight= None, )\n",
    "clf.fit(X_svm_train, y_svm_train)\n",
    "print(f\"R-sqaured training data: {clf.score(X_svm_train, y_svm_train)}\")\n",
    "print(f\"R-squared testing data: {clf.score(X__svm_test, y_svm_test)}\")"
   ]
  },
  {
   "cell_type": "code",
   "execution_count": 16,
   "metadata": {},
   "outputs": [
    {
     "name": "stderr",
     "output_type": "stream",
     "text": [
      "/Users/nickrad/anaconda3/envs/PythonData/lib/python3.6/site-packages/sklearn/metrics/classification.py:1143: UndefinedMetricWarning: Precision and F-score are ill-defined and being set to 0.0 in labels with no predicted samples.\n",
      "  'precision', 'predicted', average, warn_for)\n"
     ]
    },
    {
     "name": "stdout",
     "output_type": "stream",
     "text": [
      "              precision    recall  f1-score   support\n",
      "\n",
      "        ball       0.51      1.00      0.68     13433\n",
      "      double       0.10      0.00      0.00       429\n",
      "        foul       0.93      0.41      0.57      6904\n",
      "    home_run       0.82      0.88      0.85       288\n",
      "         out       0.75      0.93      0.83      4428\n",
      "      single       0.70      0.50      0.58      1481\n",
      "      strike       1.00      0.10      0.18     10153\n",
      "      triple       0.00      0.00      0.00        38\n",
      "\n",
      "   micro avg       0.60      0.60      0.60     37154\n",
      "   macro avg       0.60      0.48      0.46     37154\n",
      "weighted avg       0.76      0.60      0.53     37154\n",
      "\n"
     ]
    }
   ],
   "source": [
    "#looking at the classifciation report for the SVM\n",
    "clf_predict = clf.predict(X__svm_test)\n",
    "from sklearn.metrics import classification_report\n",
    "print(classification_report( y_svm_test, clf_predict))"
   ]
  },
  {
   "cell_type": "code",
   "execution_count": null,
   "metadata": {},
   "outputs": [],
   "source": []
  },
  {
   "cell_type": "code",
   "execution_count": null,
   "metadata": {},
   "outputs": [],
   "source": []
  },
  {
   "cell_type": "code",
   "execution_count": null,
   "metadata": {},
   "outputs": [],
   "source": []
  },
  {
   "cell_type": "code",
   "execution_count": null,
   "metadata": {},
   "outputs": [],
   "source": []
  },
  {
   "cell_type": "code",
   "execution_count": null,
   "metadata": {},
   "outputs": [],
   "source": []
  },
  {
   "cell_type": "code",
   "execution_count": null,
   "metadata": {},
   "outputs": [],
   "source": []
  }
 ],
 "metadata": {
  "kernelspec": {
   "display_name": "Python 3",
   "language": "python",
   "name": "python3"
  },
  "language_info": {
   "codemirror_mode": {
    "name": "ipython",
    "version": 3
   },
   "file_extension": ".py",
   "mimetype": "text/x-python",
   "name": "python",
   "nbconvert_exporter": "python",
   "pygments_lexer": "ipython3",
   "version": "3.6.7"
  }
 },
 "nbformat": 4,
 "nbformat_minor": 2
}
