{
 "cells": [
  {
   "cell_type": "code",
   "execution_count": 1,
   "metadata": {
    "scrolled": true
   },
   "outputs": [
    {
     "name": "stderr",
     "output_type": "stream",
     "text": [
      "/Users/nickrad/anaconda3/envs/PythonData/lib/python3.6/site-packages/IPython/core/interactiveshell.py:3020: DtypeWarning: Columns (5) have mixed types. Specify dtype option on import or set low_memory=False.\n",
      "  interactivity=interactivity, compiler=compiler, result=result)\n"
     ]
    }
   ],
   "source": [
    "import pandas as pd\n",
    "model_data = pd.read_csv('modeling_ready.csv')"
   ]
  },
  {
   "cell_type": "code",
   "execution_count": 2,
   "metadata": {
    "scrolled": true
   },
   "outputs": [
    {
     "data": {
      "text/plain": [
       "ball               2321023\n",
       "foul               1178110\n",
       "called_strike      1119355\n",
       "out                 807827\n",
       "swinging_strike     626895\n",
       "hit                 213293\n",
       "solid_contact       122541\n",
       "weak_contact         46953\n",
       "hit_by_pitch         14940\n",
       "Name: description, dtype: int64"
      ]
     },
     "execution_count": 2,
     "metadata": {},
     "output_type": "execute_result"
    }
   ],
   "source": [
    "model_data.description.value_counts()"
   ]
  },
  {
   "cell_type": "code",
   "execution_count": null,
   "metadata": {},
   "outputs": [],
   "source": [
    "#scitit learn says i should SGD\n",
    "#liking ordinal scaling for telling the computer how to interpret the results\n",
    "#use sklearn.preprocessing ordinal encoder\n",
    "#using ordinal because the value between each number is not signified, just want to alert computer that a swinging strike\n",
    "#is more desireable than a ball\n",
    "#could change where descript = 0 to weak contact or hard contact if model not working well\n",
    "\n",
    "\n"
   ]
  },
  {
   "cell_type": "markdown",
   "metadata": {},
   "source": [
    "Possible Outcomes: ball, foul, called_strike, out, swinging_strike, solid_contact, weak_contact, hit_by_pitch\n",
    "\n",
    "netural: HBP and foul\n",
    "negative: ball, solid_contact\n",
    "postive: 1.swinging strike, 2.out, 3.weak contact 4.called strime"
   ]
  },
  {
   "cell_type": "code",
   "execution_count": 11,
   "metadata": {},
   "outputs": [],
   "source": [
    "a = pd.isna(model_data.description)"
   ]
  },
  {
   "cell_type": "code",
   "execution_count": 12,
   "metadata": {
    "scrolled": true
   },
   "outputs": [
    {
     "data": {
      "text/plain": [
       "False    6450937\n",
       "Name: description, dtype: int64"
      ]
     },
     "execution_count": 12,
     "metadata": {},
     "output_type": "execute_result"
    }
   ],
   "source": [
    "#6 values are null\n",
    "#going to drop them\n",
    "\n",
    "a.value_counts()"
   ]
  },
  {
   "cell_type": "code",
   "execution_count": 5,
   "metadata": {},
   "outputs": [
    {
     "data": {
      "text/plain": [
       "0          False\n",
       "1          False\n",
       "2          False\n",
       "3          False\n",
       "4          False\n",
       "5          False\n",
       "6          False\n",
       "7          False\n",
       "8          False\n",
       "9          False\n",
       "10         False\n",
       "11         False\n",
       "12         False\n",
       "13         False\n",
       "14         False\n",
       "15         False\n",
       "16         False\n",
       "17         False\n",
       "18         False\n",
       "19         False\n",
       "20         False\n",
       "21         False\n",
       "22         False\n",
       "23         False\n",
       "24         False\n",
       "25         False\n",
       "26         False\n",
       "27         False\n",
       "28         False\n",
       "29         False\n",
       "           ...  \n",
       "6450913    False\n",
       "6450914    False\n",
       "6450915    False\n",
       "6450916    False\n",
       "6450917    False\n",
       "6450918    False\n",
       "6450919    False\n",
       "6450920    False\n",
       "6450921    False\n",
       "6450922    False\n",
       "6450923    False\n",
       "6450924    False\n",
       "6450925    False\n",
       "6450926    False\n",
       "6450927    False\n",
       "6450928    False\n",
       "6450929    False\n",
       "6450930    False\n",
       "6450931    False\n",
       "6450932    False\n",
       "6450933    False\n",
       "6450934    False\n",
       "6450935    False\n",
       "6450936    False\n",
       "6450937    False\n",
       "6450938    False\n",
       "6450939    False\n",
       "6450940    False\n",
       "6450941    False\n",
       "6450942    False\n",
       "Name: description, Length: 6450943, dtype: bool"
      ]
     },
     "execution_count": 5,
     "metadata": {},
     "output_type": "execute_result"
    }
   ],
   "source": [
    "a"
   ]
  },
  {
   "cell_type": "code",
   "execution_count": 11,
   "metadata": {},
   "outputs": [],
   "source": [
    "#accidentally created nan values when trying to get get exit velo\n",
    "#still 6 null values, gonna drop them\n",
    "import numpy as np\n",
    "model_data['description'] = np.where(pd.isna(model_data.description), model_data['Concat_Outcome'],\\\n",
    "                                    model_data['description'])"
   ]
  },
  {
   "cell_type": "code",
   "execution_count": 13,
   "metadata": {},
   "outputs": [],
   "source": [
    "#dropped null values in description\n",
    "model_data.to_csv('modeling_ready.csv')"
   ]
  },
  {
   "cell_type": "code",
   "execution_count": 8,
   "metadata": {},
   "outputs": [],
   "source": [
    "model_data.drop(columns= ['Unnamed: 0', 'Unnamed: 0.1', 'Concat_Outcome', 'rename_attempt'], inplace= True)"
   ]
  },
  {
   "cell_type": "code",
   "execution_count": 10,
   "metadata": {},
   "outputs": [],
   "source": [
    "model_data.description.dropna(inplace = True)"
   ]
  },
  {
   "cell_type": "code",
   "execution_count": 14,
   "metadata": {},
   "outputs": [],
   "source": [
    "#going to try on a test data set\n",
    "test_data = model_data.loc[1000000:6000000:499]"
   ]
  },
  {
   "cell_type": "code",
   "execution_count": 15,
   "metadata": {
    "scrolled": true
   },
   "outputs": [
    {
     "data": {
      "text/plain": [
       "(10021, 4)"
      ]
     },
     "execution_count": 15,
     "metadata": {},
     "output_type": "execute_result"
    }
   ],
   "source": [
    "#10,000 rows for testing\n",
    "test_data.shape"
   ]
  },
  {
   "cell_type": "code",
   "execution_count": 16,
   "metadata": {},
   "outputs": [
    {
     "data": {
      "text/plain": [
       "4-Seam Fastball    3537\n",
       "Slider             1550\n",
       "2-Seam Fastball    1179\n",
       "Changeup            982\n",
       "Sinker              958\n",
       "Curveball           845\n",
       "Cutter              558\n",
       "Knuckle Curve       197\n",
       "Split Finger        143\n",
       "Knuckle Ball         42\n",
       "Forkball              5\n",
       "Eephus                3\n",
       "Name: pitch_name, dtype: int64"
      ]
     },
     "execution_count": 16,
     "metadata": {},
     "output_type": "execute_result"
    }
   ],
   "source": [
    "test_data.pitch_name.value_counts()"
   ]
  },
  {
   "cell_type": "code",
   "execution_count": 18,
   "metadata": {},
   "outputs": [
    {
     "data": {
      "text/html": [
       "<div>\n",
       "<style scoped>\n",
       "    .dataframe tbody tr th:only-of-type {\n",
       "        vertical-align: middle;\n",
       "    }\n",
       "\n",
       "    .dataframe tbody tr th {\n",
       "        vertical-align: top;\n",
       "    }\n",
       "\n",
       "    .dataframe thead th {\n",
       "        text-align: right;\n",
       "    }\n",
       "</style>\n",
       "<table border=\"1\" class=\"dataframe\">\n",
       "  <thead>\n",
       "    <tr style=\"text-align: right;\">\n",
       "      <th></th>\n",
       "      <th>events</th>\n",
       "      <th>pitch_name</th>\n",
       "      <th>description</th>\n",
       "      <th>exit_velocity</th>\n",
       "    </tr>\n",
       "  </thead>\n",
       "  <tbody>\n",
       "    <tr>\n",
       "      <th>1000000</th>\n",
       "      <td>NaN</td>\n",
       "      <td>Sinker</td>\n",
       "      <td>foul</td>\n",
       "      <td>NaN</td>\n",
       "    </tr>\n",
       "    <tr>\n",
       "      <th>1000499</th>\n",
       "      <td>NaN</td>\n",
       "      <td>Knuckle Curve</td>\n",
       "      <td>ball</td>\n",
       "      <td>NaN</td>\n",
       "    </tr>\n",
       "    <tr>\n",
       "      <th>1000998</th>\n",
       "      <td>NaN</td>\n",
       "      <td>4-Seam Fastball</td>\n",
       "      <td>called_strike</td>\n",
       "      <td>NaN</td>\n",
       "    </tr>\n",
       "    <tr>\n",
       "      <th>1001497</th>\n",
       "      <td>NaN</td>\n",
       "      <td>4-Seam Fastball</td>\n",
       "      <td>called_strike</td>\n",
       "      <td>NaN</td>\n",
       "    </tr>\n",
       "    <tr>\n",
       "      <th>1001996</th>\n",
       "      <td>NaN</td>\n",
       "      <td>Slider</td>\n",
       "      <td>foul</td>\n",
       "      <td>NaN</td>\n",
       "    </tr>\n",
       "    <tr>\n",
       "      <th>1002495</th>\n",
       "      <td>out</td>\n",
       "      <td>4-Seam Fastball</td>\n",
       "      <td>out</td>\n",
       "      <td>NaN</td>\n",
       "    </tr>\n",
       "    <tr>\n",
       "      <th>1002994</th>\n",
       "      <td>NaN</td>\n",
       "      <td>Slider</td>\n",
       "      <td>called_strike</td>\n",
       "      <td>NaN</td>\n",
       "    </tr>\n",
       "    <tr>\n",
       "      <th>1003493</th>\n",
       "      <td>NaN</td>\n",
       "      <td>4-Seam Fastball</td>\n",
       "      <td>ball</td>\n",
       "      <td>NaN</td>\n",
       "    </tr>\n",
       "    <tr>\n",
       "      <th>1003992</th>\n",
       "      <td>NaN</td>\n",
       "      <td>4-Seam Fastball</td>\n",
       "      <td>swinging_strike</td>\n",
       "      <td>NaN</td>\n",
       "    </tr>\n",
       "    <tr>\n",
       "      <th>1004491</th>\n",
       "      <td>NaN</td>\n",
       "      <td>4-Seam Fastball</td>\n",
       "      <td>ball</td>\n",
       "      <td>NaN</td>\n",
       "    </tr>\n",
       "    <tr>\n",
       "      <th>1004990</th>\n",
       "      <td>NaN</td>\n",
       "      <td>4-Seam Fastball</td>\n",
       "      <td>ball</td>\n",
       "      <td>NaN</td>\n",
       "    </tr>\n",
       "    <tr>\n",
       "      <th>1005489</th>\n",
       "      <td>NaN</td>\n",
       "      <td>Changeup</td>\n",
       "      <td>ball</td>\n",
       "      <td>NaN</td>\n",
       "    </tr>\n",
       "    <tr>\n",
       "      <th>1005988</th>\n",
       "      <td>NaN</td>\n",
       "      <td>4-Seam Fastball</td>\n",
       "      <td>called_strike</td>\n",
       "      <td>NaN</td>\n",
       "    </tr>\n",
       "    <tr>\n",
       "      <th>1006487</th>\n",
       "      <td>hit</td>\n",
       "      <td>4-Seam Fastball</td>\n",
       "      <td>hit</td>\n",
       "      <td>NaN</td>\n",
       "    </tr>\n",
       "    <tr>\n",
       "      <th>1006986</th>\n",
       "      <td>strikeout</td>\n",
       "      <td>4-Seam Fastball</td>\n",
       "      <td>swinging_strike</td>\n",
       "      <td>NaN</td>\n",
       "    </tr>\n",
       "    <tr>\n",
       "      <th>1007485</th>\n",
       "      <td>strikeout</td>\n",
       "      <td>Slider</td>\n",
       "      <td>swinging_strike</td>\n",
       "      <td>NaN</td>\n",
       "    </tr>\n",
       "    <tr>\n",
       "      <th>1007984</th>\n",
       "      <td>NaN</td>\n",
       "      <td>Curveball</td>\n",
       "      <td>ball</td>\n",
       "      <td>NaN</td>\n",
       "    </tr>\n",
       "    <tr>\n",
       "      <th>1008483</th>\n",
       "      <td>NaN</td>\n",
       "      <td>4-Seam Fastball</td>\n",
       "      <td>called_strike</td>\n",
       "      <td>NaN</td>\n",
       "    </tr>\n",
       "    <tr>\n",
       "      <th>1008982</th>\n",
       "      <td>NaN</td>\n",
       "      <td>4-Seam Fastball</td>\n",
       "      <td>ball</td>\n",
       "      <td>NaN</td>\n",
       "    </tr>\n",
       "    <tr>\n",
       "      <th>1009481</th>\n",
       "      <td>NaN</td>\n",
       "      <td>Curveball</td>\n",
       "      <td>foul</td>\n",
       "      <td>NaN</td>\n",
       "    </tr>\n",
       "    <tr>\n",
       "      <th>1009980</th>\n",
       "      <td>NaN</td>\n",
       "      <td>Slider</td>\n",
       "      <td>ball</td>\n",
       "      <td>NaN</td>\n",
       "    </tr>\n",
       "    <tr>\n",
       "      <th>1010479</th>\n",
       "      <td>NaN</td>\n",
       "      <td>4-Seam Fastball</td>\n",
       "      <td>foul</td>\n",
       "      <td>NaN</td>\n",
       "    </tr>\n",
       "    <tr>\n",
       "      <th>1010978</th>\n",
       "      <td>NaN</td>\n",
       "      <td>4-Seam Fastball</td>\n",
       "      <td>ball</td>\n",
       "      <td>NaN</td>\n",
       "    </tr>\n",
       "    <tr>\n",
       "      <th>1011477</th>\n",
       "      <td>strikeout</td>\n",
       "      <td>4-Seam Fastball</td>\n",
       "      <td>swinging_strike</td>\n",
       "      <td>NaN</td>\n",
       "    </tr>\n",
       "    <tr>\n",
       "      <th>1011976</th>\n",
       "      <td>hit</td>\n",
       "      <td>2-Seam Fastball</td>\n",
       "      <td>hit</td>\n",
       "      <td>NaN</td>\n",
       "    </tr>\n",
       "    <tr>\n",
       "      <th>1012475</th>\n",
       "      <td>NaN</td>\n",
       "      <td>Curveball</td>\n",
       "      <td>foul</td>\n",
       "      <td>NaN</td>\n",
       "    </tr>\n",
       "    <tr>\n",
       "      <th>1012974</th>\n",
       "      <td>NaN</td>\n",
       "      <td>2-Seam Fastball</td>\n",
       "      <td>ball</td>\n",
       "      <td>NaN</td>\n",
       "    </tr>\n",
       "    <tr>\n",
       "      <th>1013473</th>\n",
       "      <td>NaN</td>\n",
       "      <td>Slider</td>\n",
       "      <td>ball</td>\n",
       "      <td>NaN</td>\n",
       "    </tr>\n",
       "    <tr>\n",
       "      <th>1013972</th>\n",
       "      <td>NaN</td>\n",
       "      <td>Cutter</td>\n",
       "      <td>ball</td>\n",
       "      <td>NaN</td>\n",
       "    </tr>\n",
       "    <tr>\n",
       "      <th>1014471</th>\n",
       "      <td>NaN</td>\n",
       "      <td>2-Seam Fastball</td>\n",
       "      <td>ball</td>\n",
       "      <td>NaN</td>\n",
       "    </tr>\n",
       "    <tr>\n",
       "      <th>...</th>\n",
       "      <td>...</td>\n",
       "      <td>...</td>\n",
       "      <td>...</td>\n",
       "      <td>...</td>\n",
       "    </tr>\n",
       "    <tr>\n",
       "      <th>5985509</th>\n",
       "      <td>strikeout</td>\n",
       "      <td>4-Seam Fastball</td>\n",
       "      <td>swinging_strike</td>\n",
       "      <td>NaN</td>\n",
       "    </tr>\n",
       "    <tr>\n",
       "      <th>5986008</th>\n",
       "      <td>NaN</td>\n",
       "      <td>Slider</td>\n",
       "      <td>ball</td>\n",
       "      <td>NaN</td>\n",
       "    </tr>\n",
       "    <tr>\n",
       "      <th>5986507</th>\n",
       "      <td>NaN</td>\n",
       "      <td>Slider</td>\n",
       "      <td>swinging_strike</td>\n",
       "      <td>NaN</td>\n",
       "    </tr>\n",
       "    <tr>\n",
       "      <th>5987006</th>\n",
       "      <td>NaN</td>\n",
       "      <td>Slider</td>\n",
       "      <td>ball</td>\n",
       "      <td>NaN</td>\n",
       "    </tr>\n",
       "    <tr>\n",
       "      <th>5987505</th>\n",
       "      <td>NaN</td>\n",
       "      <td>Curveball</td>\n",
       "      <td>ball</td>\n",
       "      <td>NaN</td>\n",
       "    </tr>\n",
       "    <tr>\n",
       "      <th>5988004</th>\n",
       "      <td>hit</td>\n",
       "      <td>4-Seam Fastball</td>\n",
       "      <td>solid_contact</td>\n",
       "      <td>solid_contact</td>\n",
       "    </tr>\n",
       "    <tr>\n",
       "      <th>5988503</th>\n",
       "      <td>out</td>\n",
       "      <td>Changeup</td>\n",
       "      <td>out</td>\n",
       "      <td>weak_contact</td>\n",
       "    </tr>\n",
       "    <tr>\n",
       "      <th>5989002</th>\n",
       "      <td>NaN</td>\n",
       "      <td>4-Seam Fastball</td>\n",
       "      <td>foul</td>\n",
       "      <td>weak_contact</td>\n",
       "    </tr>\n",
       "    <tr>\n",
       "      <th>5989501</th>\n",
       "      <td>walk</td>\n",
       "      <td>2-Seam Fastball</td>\n",
       "      <td>ball</td>\n",
       "      <td>NaN</td>\n",
       "    </tr>\n",
       "    <tr>\n",
       "      <th>5990000</th>\n",
       "      <td>out</td>\n",
       "      <td>Slider</td>\n",
       "      <td>out</td>\n",
       "      <td>weak_contact</td>\n",
       "    </tr>\n",
       "    <tr>\n",
       "      <th>5990499</th>\n",
       "      <td>NaN</td>\n",
       "      <td>4-Seam Fastball</td>\n",
       "      <td>called_strike</td>\n",
       "      <td>NaN</td>\n",
       "    </tr>\n",
       "    <tr>\n",
       "      <th>5990998</th>\n",
       "      <td>NaN</td>\n",
       "      <td>4-Seam Fastball</td>\n",
       "      <td>ball</td>\n",
       "      <td>NaN</td>\n",
       "    </tr>\n",
       "    <tr>\n",
       "      <th>5991497</th>\n",
       "      <td>NaN</td>\n",
       "      <td>Slider</td>\n",
       "      <td>foul</td>\n",
       "      <td>NaN</td>\n",
       "    </tr>\n",
       "    <tr>\n",
       "      <th>5991996</th>\n",
       "      <td>NaN</td>\n",
       "      <td>Slider</td>\n",
       "      <td>foul</td>\n",
       "      <td>weak_contact</td>\n",
       "    </tr>\n",
       "    <tr>\n",
       "      <th>5992495</th>\n",
       "      <td>hit</td>\n",
       "      <td>2-Seam Fastball</td>\n",
       "      <td>solid_contact</td>\n",
       "      <td>solid_contact</td>\n",
       "    </tr>\n",
       "    <tr>\n",
       "      <th>5992994</th>\n",
       "      <td>NaN</td>\n",
       "      <td>Changeup</td>\n",
       "      <td>swinging_strike</td>\n",
       "      <td>NaN</td>\n",
       "    </tr>\n",
       "    <tr>\n",
       "      <th>5993493</th>\n",
       "      <td>NaN</td>\n",
       "      <td>Slider</td>\n",
       "      <td>foul</td>\n",
       "      <td>NaN</td>\n",
       "    </tr>\n",
       "    <tr>\n",
       "      <th>5993992</th>\n",
       "      <td>NaN</td>\n",
       "      <td>Changeup</td>\n",
       "      <td>swinging_strike</td>\n",
       "      <td>NaN</td>\n",
       "    </tr>\n",
       "    <tr>\n",
       "      <th>5994491</th>\n",
       "      <td>NaN</td>\n",
       "      <td>Cutter</td>\n",
       "      <td>foul</td>\n",
       "      <td>NaN</td>\n",
       "    </tr>\n",
       "    <tr>\n",
       "      <th>5994990</th>\n",
       "      <td>NaN</td>\n",
       "      <td>Split Finger</td>\n",
       "      <td>swinging_strike</td>\n",
       "      <td>NaN</td>\n",
       "    </tr>\n",
       "    <tr>\n",
       "      <th>5995489</th>\n",
       "      <td>NaN</td>\n",
       "      <td>2-Seam Fastball</td>\n",
       "      <td>ball</td>\n",
       "      <td>NaN</td>\n",
       "    </tr>\n",
       "    <tr>\n",
       "      <th>5995988</th>\n",
       "      <td>out</td>\n",
       "      <td>4-Seam Fastball</td>\n",
       "      <td>out</td>\n",
       "      <td>weak_contact</td>\n",
       "    </tr>\n",
       "    <tr>\n",
       "      <th>5996487</th>\n",
       "      <td>NaN</td>\n",
       "      <td>4-Seam Fastball</td>\n",
       "      <td>ball</td>\n",
       "      <td>NaN</td>\n",
       "    </tr>\n",
       "    <tr>\n",
       "      <th>5996986</th>\n",
       "      <td>NaN</td>\n",
       "      <td>Knuckle Curve</td>\n",
       "      <td>called_strike</td>\n",
       "      <td>NaN</td>\n",
       "    </tr>\n",
       "    <tr>\n",
       "      <th>5997485</th>\n",
       "      <td>NaN</td>\n",
       "      <td>4-Seam Fastball</td>\n",
       "      <td>foul</td>\n",
       "      <td>solid_contact</td>\n",
       "    </tr>\n",
       "    <tr>\n",
       "      <th>5997984</th>\n",
       "      <td>NaN</td>\n",
       "      <td>2-Seam Fastball</td>\n",
       "      <td>foul</td>\n",
       "      <td>solid_contact</td>\n",
       "    </tr>\n",
       "    <tr>\n",
       "      <th>5998483</th>\n",
       "      <td>NaN</td>\n",
       "      <td>4-Seam Fastball</td>\n",
       "      <td>ball</td>\n",
       "      <td>NaN</td>\n",
       "    </tr>\n",
       "    <tr>\n",
       "      <th>5998982</th>\n",
       "      <td>NaN</td>\n",
       "      <td>2-Seam Fastball</td>\n",
       "      <td>ball</td>\n",
       "      <td>NaN</td>\n",
       "    </tr>\n",
       "    <tr>\n",
       "      <th>5999481</th>\n",
       "      <td>out</td>\n",
       "      <td>Curveball</td>\n",
       "      <td>out</td>\n",
       "      <td>solid_contact</td>\n",
       "    </tr>\n",
       "    <tr>\n",
       "      <th>5999980</th>\n",
       "      <td>NaN</td>\n",
       "      <td>Changeup</td>\n",
       "      <td>foul</td>\n",
       "      <td>weak_contact</td>\n",
       "    </tr>\n",
       "  </tbody>\n",
       "</table>\n",
       "<p>10021 rows × 4 columns</p>\n",
       "</div>"
      ],
      "text/plain": [
       "            events       pitch_name      description  exit_velocity\n",
       "1000000        NaN           Sinker             foul            NaN\n",
       "1000499        NaN    Knuckle Curve             ball            NaN\n",
       "1000998        NaN  4-Seam Fastball    called_strike            NaN\n",
       "1001497        NaN  4-Seam Fastball    called_strike            NaN\n",
       "1001996        NaN           Slider             foul            NaN\n",
       "1002495        out  4-Seam Fastball              out            NaN\n",
       "1002994        NaN           Slider    called_strike            NaN\n",
       "1003493        NaN  4-Seam Fastball             ball            NaN\n",
       "1003992        NaN  4-Seam Fastball  swinging_strike            NaN\n",
       "1004491        NaN  4-Seam Fastball             ball            NaN\n",
       "1004990        NaN  4-Seam Fastball             ball            NaN\n",
       "1005489        NaN         Changeup             ball            NaN\n",
       "1005988        NaN  4-Seam Fastball    called_strike            NaN\n",
       "1006487        hit  4-Seam Fastball              hit            NaN\n",
       "1006986  strikeout  4-Seam Fastball  swinging_strike            NaN\n",
       "1007485  strikeout           Slider  swinging_strike            NaN\n",
       "1007984        NaN        Curveball             ball            NaN\n",
       "1008483        NaN  4-Seam Fastball    called_strike            NaN\n",
       "1008982        NaN  4-Seam Fastball             ball            NaN\n",
       "1009481        NaN        Curveball             foul            NaN\n",
       "1009980        NaN           Slider             ball            NaN\n",
       "1010479        NaN  4-Seam Fastball             foul            NaN\n",
       "1010978        NaN  4-Seam Fastball             ball            NaN\n",
       "1011477  strikeout  4-Seam Fastball  swinging_strike            NaN\n",
       "1011976        hit  2-Seam Fastball              hit            NaN\n",
       "1012475        NaN        Curveball             foul            NaN\n",
       "1012974        NaN  2-Seam Fastball             ball            NaN\n",
       "1013473        NaN           Slider             ball            NaN\n",
       "1013972        NaN           Cutter             ball            NaN\n",
       "1014471        NaN  2-Seam Fastball             ball            NaN\n",
       "...            ...              ...              ...            ...\n",
       "5985509  strikeout  4-Seam Fastball  swinging_strike            NaN\n",
       "5986008        NaN           Slider             ball            NaN\n",
       "5986507        NaN           Slider  swinging_strike            NaN\n",
       "5987006        NaN           Slider             ball            NaN\n",
       "5987505        NaN        Curveball             ball            NaN\n",
       "5988004        hit  4-Seam Fastball    solid_contact  solid_contact\n",
       "5988503        out         Changeup              out   weak_contact\n",
       "5989002        NaN  4-Seam Fastball             foul   weak_contact\n",
       "5989501       walk  2-Seam Fastball             ball            NaN\n",
       "5990000        out           Slider              out   weak_contact\n",
       "5990499        NaN  4-Seam Fastball    called_strike            NaN\n",
       "5990998        NaN  4-Seam Fastball             ball            NaN\n",
       "5991497        NaN           Slider             foul            NaN\n",
       "5991996        NaN           Slider             foul   weak_contact\n",
       "5992495        hit  2-Seam Fastball    solid_contact  solid_contact\n",
       "5992994        NaN         Changeup  swinging_strike            NaN\n",
       "5993493        NaN           Slider             foul            NaN\n",
       "5993992        NaN         Changeup  swinging_strike            NaN\n",
       "5994491        NaN           Cutter             foul            NaN\n",
       "5994990        NaN     Split Finger  swinging_strike            NaN\n",
       "5995489        NaN  2-Seam Fastball             ball            NaN\n",
       "5995988        out  4-Seam Fastball              out   weak_contact\n",
       "5996487        NaN  4-Seam Fastball             ball            NaN\n",
       "5996986        NaN    Knuckle Curve    called_strike            NaN\n",
       "5997485        NaN  4-Seam Fastball             foul  solid_contact\n",
       "5997984        NaN  2-Seam Fastball             foul  solid_contact\n",
       "5998483        NaN  4-Seam Fastball             ball            NaN\n",
       "5998982        NaN  2-Seam Fastball             ball            NaN\n",
       "5999481        out        Curveball              out  solid_contact\n",
       "5999980        NaN         Changeup             foul   weak_contact\n",
       "\n",
       "[10021 rows x 4 columns]"
      ]
     },
     "execution_count": 18,
     "metadata": {},
     "output_type": "execute_result"
    }
   ],
   "source": [
    "test_data"
   ]
  },
  {
   "cell_type": "code",
   "execution_count": 19,
   "metadata": {
    "scrolled": false
   },
   "outputs": [
    {
     "data": {
      "text/plain": [
       "ball               3557\n",
       "foul               1848\n",
       "called_strike      1758\n",
       "out                1273\n",
       "swinging_strike     971\n",
       "hit                 288\n",
       "solid_contact       211\n",
       "weak_contact         82\n",
       "hit_by_pitch         33\n",
       "Name: description, dtype: int64"
      ]
     },
     "execution_count": 19,
     "metadata": {},
     "output_type": "execute_result"
    }
   ],
   "source": [
    "test_data.description.value_counts()"
   ]
  },
  {
   "cell_type": "code",
   "execution_count": null,
   "metadata": {},
   "outputs": [],
   "source": [
    "test_data.columns"
   ]
  },
  {
   "cell_type": "code",
   "execution_count": 21,
   "metadata": {},
   "outputs": [],
   "source": [
    "from sklearn.preprocessing import OrdinalEncoder\n",
    "#the ordinal encoding for the description column\n",
    "#for more advanced, could use ratio\n",
    "ordinal_cols_mapping = [{\n",
    "    'mapping': [\n",
    "        ('ball',1),\n",
    "        ('solid_contact', 2),\n",
    "        ('hit_by_pitch', 3),\n",
    "        ('foul', 4),\n",
    "        ('called_strike',5),\n",
    "        ('weak_contact', 6),\n",
    "        ('out', 7),\n",
    "        ('swinging_strike', 8)\n",
    "        ]}\n",
    "]"
   ]
  },
  {
   "cell_type": "code",
   "execution_count": 24,
   "metadata": {},
   "outputs": [],
   "source": [
    "X = test_data['description']\n",
    "y = test_data['pitch_name']"
   ]
  },
  {
   "cell_type": "code",
   "execution_count": 25,
   "metadata": {},
   "outputs": [],
   "source": [
    "#have to reshape X\n",
    "import numpy as np \n",
    "X = X.values.reshape(-1,1)"
   ]
  },
  {
   "cell_type": "code",
   "execution_count": 47,
   "metadata": {
    "scrolled": true
   },
   "outputs": [],
   "source": [
    "#trying to encode X\n",
    "encoder = OrdinalEncoder()\n",
    "encoder.fit(X)\n",
    "encoder.categories_\n",
    "X = encoder.transform(X)"
   ]
  },
  {
   "cell_type": "code",
   "execution_count": 48,
   "metadata": {},
   "outputs": [
    {
     "data": {
      "text/plain": [
       "array([[2.],\n",
       "       [0.],\n",
       "       [1.],\n",
       "       ...,\n",
       "       [0.],\n",
       "       [5.],\n",
       "       [2.]])"
      ]
     },
     "execution_count": 48,
     "metadata": {},
     "output_type": "execute_result"
    }
   ],
   "source": [
    "X"
   ]
  },
  {
   "cell_type": "code",
   "execution_count": 35,
   "metadata": {},
   "outputs": [
    {
     "name": "stderr",
     "output_type": "stream",
     "text": [
      "/Users/nickrad/anaconda3/envs/PythonData/lib/python3.6/site-packages/ipykernel_launcher.py:3: SettingWithCopyWarning: \n",
      "A value is trying to be set on a copy of a slice from a DataFrame.\n",
      "Try using .loc[row_indexer,col_indexer] = value instead\n",
      "\n",
      "See the caveats in the documentation: http://pandas.pydata.org/pandas-docs/stable/indexing.html#indexing-view-versus-copy\n",
      "  This is separate from the ipykernel package so we can avoid doing imports until\n"
     ]
    }
   ],
   "source": [
    "from sklearn.preprocessing import LabelEncoder\n",
    "le = LabelEncoder()\n",
    "test_data['pitch_name'] = le.fit_transform(test_data['pitch_name'].astype(str))"
   ]
  },
  {
   "cell_type": "code",
   "execution_count": 29,
   "metadata": {
    "scrolled": false
   },
   "outputs": [
    {
     "name": "stderr",
     "output_type": "stream",
     "text": [
      "/Users/nickrad/anaconda3/envs/PythonData/lib/python3.6/site-packages/pandas/core/series.py:3896: SettingWithCopyWarning: \n",
      "A value is trying to be set on a copy of a slice from a DataFrame\n",
      "\n",
      "See the caveats in the documentation: http://pandas.pydata.org/pandas-docs/stable/indexing.html#indexing-view-versus-copy\n",
      "  self._update_inplace(result)\n"
     ]
    }
   ],
   "source": [
    "test_data['description'].dropna(inplace=True)"
   ]
  },
  {
   "cell_type": "code",
   "execution_count": 33,
   "metadata": {},
   "outputs": [],
   "source": [
    "#have to reshape X\n",
    "import numpy as np \n",
    "X = X.values.reshape(-1,1)"
   ]
  },
  {
   "cell_type": "code",
   "execution_count": 42,
   "metadata": {},
   "outputs": [
    {
     "data": {
      "text/plain": [
       "array([['foul'],\n",
       "       ['ball'],\n",
       "       ['called_strike'],\n",
       "       ...,\n",
       "       ['ball'],\n",
       "       ['out'],\n",
       "       ['foul']], dtype=object)"
      ]
     },
     "execution_count": 42,
     "metadata": {},
     "output_type": "execute_result"
    }
   ],
   "source": [
    "X"
   ]
  },
  {
   "cell_type": "code",
   "execution_count": 32,
   "metadata": {
    "scrolled": true
   },
   "outputs": [
    {
     "data": {
      "text/plain": [
       "pandas.core.series.Series"
      ]
     },
     "execution_count": 32,
     "metadata": {},
     "output_type": "execute_result"
    }
   ],
   "source": [
    "type(X)"
   ]
  },
  {
   "cell_type": "code",
   "execution_count": 33,
   "metadata": {},
   "outputs": [
    {
     "name": "stdout",
     "output_type": "stream",
     "text": [
      "(10021, 1) (10021,)\n"
     ]
    }
   ],
   "source": [
    "print(X.shape, y.shape)"
   ]
  },
  {
   "cell_type": "code",
   "execution_count": 49,
   "metadata": {},
   "outputs": [],
   "source": [
    "#need to get y to read as a string\n",
    "#didnt need stratify\n",
    "from sklearn.model_selection import train_test_split\n",
    "X_train, X_test, y_train, y_test = train_test_split(X, y, random_state=0)\n"
   ]
  },
  {
   "cell_type": "code",
   "execution_count": 50,
   "metadata": {},
   "outputs": [
    {
     "data": {
      "text/plain": [
       "SGDClassifier(alpha=0.0001, average=False, class_weight=None,\n",
       "       early_stopping=False, epsilon=0.1, eta0=0.0, fit_intercept=True,\n",
       "       l1_ratio=0.15, learning_rate='optimal', loss='hinge', max_iter=None,\n",
       "       n_iter=None, n_iter_no_change=5, n_jobs=None, penalty='l2',\n",
       "       power_t=0.5, random_state=None, shuffle=True, tol=None,\n",
       "       validation_fraction=0.1, verbose=0, warm_start=False)"
      ]
     },
     "execution_count": 50,
     "metadata": {},
     "output_type": "execute_result"
    }
   ],
   "source": [
    "#importing model\n",
    "from sklearn.linear_model import SGDClassifier\n",
    "classifer = SGDClassifier()\n",
    "classifer\n"
   ]
  },
  {
   "cell_type": "code",
   "execution_count": 51,
   "metadata": {},
   "outputs": [
    {
     "name": "stderr",
     "output_type": "stream",
     "text": [
      "/Users/nickrad/anaconda3/envs/PythonData/lib/python3.6/site-packages/sklearn/linear_model/stochastic_gradient.py:166: FutureWarning: max_iter and tol parameters have been added in SGDClassifier in 0.19. If both are left unset, they default to max_iter=5 and tol=None. If tol is not None, max_iter defaults to max_iter=1000. From 0.21, default max_iter will be 1000, and default tol will be 1e-3.\n",
      "  FutureWarning)\n"
     ]
    },
    {
     "ename": "TypeError",
     "evalue": "'<' not supported between instances of 'str' and 'float'",
     "output_type": "error",
     "traceback": [
      "\u001b[0;31m---------------------------------------------------------------------------\u001b[0m",
      "\u001b[0;31mTypeError\u001b[0m                                 Traceback (most recent call last)",
      "\u001b[0;32m<ipython-input-51-0de0bb3a878b>\u001b[0m in \u001b[0;36m<module>\u001b[0;34m\u001b[0m\n\u001b[0;32m----> 1\u001b[0;31m \u001b[0mclassifer\u001b[0m\u001b[0;34m.\u001b[0m\u001b[0mfit\u001b[0m\u001b[0;34m(\u001b[0m\u001b[0mX_train\u001b[0m\u001b[0;34m,\u001b[0m \u001b[0my_train\u001b[0m\u001b[0;34m)\u001b[0m\u001b[0;34m\u001b[0m\u001b[0;34m\u001b[0m\u001b[0m\n\u001b[0m",
      "\u001b[0;32m~/anaconda3/envs/PythonData/lib/python3.6/site-packages/sklearn/linear_model/stochastic_gradient.py\u001b[0m in \u001b[0;36mfit\u001b[0;34m(self, X, y, coef_init, intercept_init, sample_weight)\u001b[0m\n\u001b[1;32m    741\u001b[0m                          \u001b[0mloss\u001b[0m\u001b[0;34m=\u001b[0m\u001b[0mself\u001b[0m\u001b[0;34m.\u001b[0m\u001b[0mloss\u001b[0m\u001b[0;34m,\u001b[0m \u001b[0mlearning_rate\u001b[0m\u001b[0;34m=\u001b[0m\u001b[0mself\u001b[0m\u001b[0;34m.\u001b[0m\u001b[0mlearning_rate\u001b[0m\u001b[0;34m,\u001b[0m\u001b[0;34m\u001b[0m\u001b[0;34m\u001b[0m\u001b[0m\n\u001b[1;32m    742\u001b[0m                          \u001b[0mcoef_init\u001b[0m\u001b[0;34m=\u001b[0m\u001b[0mcoef_init\u001b[0m\u001b[0;34m,\u001b[0m \u001b[0mintercept_init\u001b[0m\u001b[0;34m=\u001b[0m\u001b[0mintercept_init\u001b[0m\u001b[0;34m,\u001b[0m\u001b[0;34m\u001b[0m\u001b[0;34m\u001b[0m\u001b[0m\n\u001b[0;32m--> 743\u001b[0;31m                          sample_weight=sample_weight)\n\u001b[0m\u001b[1;32m    744\u001b[0m \u001b[0;34m\u001b[0m\u001b[0m\n\u001b[1;32m    745\u001b[0m \u001b[0;34m\u001b[0m\u001b[0m\n",
      "\u001b[0;32m~/anaconda3/envs/PythonData/lib/python3.6/site-packages/sklearn/linear_model/stochastic_gradient.py\u001b[0m in \u001b[0;36m_fit\u001b[0;34m(self, X, y, alpha, C, loss, learning_rate, coef_init, intercept_init, sample_weight)\u001b[0m\n\u001b[1;32m    573\u001b[0m         \u001b[0;31m# labels can be encoded as float, int, or string literals\u001b[0m\u001b[0;34m\u001b[0m\u001b[0;34m\u001b[0m\u001b[0;34m\u001b[0m\u001b[0m\n\u001b[1;32m    574\u001b[0m         \u001b[0;31m# np.unique sorts in asc order; largest class id is positive class\u001b[0m\u001b[0;34m\u001b[0m\u001b[0;34m\u001b[0m\u001b[0;34m\u001b[0m\u001b[0m\n\u001b[0;32m--> 575\u001b[0;31m         \u001b[0mclasses\u001b[0m \u001b[0;34m=\u001b[0m \u001b[0mnp\u001b[0m\u001b[0;34m.\u001b[0m\u001b[0munique\u001b[0m\u001b[0;34m(\u001b[0m\u001b[0my\u001b[0m\u001b[0;34m)\u001b[0m\u001b[0;34m\u001b[0m\u001b[0;34m\u001b[0m\u001b[0m\n\u001b[0m\u001b[1;32m    576\u001b[0m \u001b[0;34m\u001b[0m\u001b[0m\n\u001b[1;32m    577\u001b[0m         \u001b[0;32mif\u001b[0m \u001b[0mself\u001b[0m\u001b[0;34m.\u001b[0m\u001b[0mwarm_start\u001b[0m \u001b[0;32mand\u001b[0m \u001b[0mhasattr\u001b[0m\u001b[0;34m(\u001b[0m\u001b[0mself\u001b[0m\u001b[0;34m,\u001b[0m \u001b[0;34m\"coef_\"\u001b[0m\u001b[0;34m)\u001b[0m\u001b[0;34m:\u001b[0m\u001b[0;34m\u001b[0m\u001b[0;34m\u001b[0m\u001b[0m\n",
      "\u001b[0;32m~/anaconda3/envs/PythonData/lib/python3.6/site-packages/numpy/lib/arraysetops.py\u001b[0m in \u001b[0;36munique\u001b[0;34m(ar, return_index, return_inverse, return_counts, axis)\u001b[0m\n\u001b[1;32m    231\u001b[0m     \u001b[0mar\u001b[0m \u001b[0;34m=\u001b[0m \u001b[0mnp\u001b[0m\u001b[0;34m.\u001b[0m\u001b[0masanyarray\u001b[0m\u001b[0;34m(\u001b[0m\u001b[0mar\u001b[0m\u001b[0;34m)\u001b[0m\u001b[0;34m\u001b[0m\u001b[0;34m\u001b[0m\u001b[0m\n\u001b[1;32m    232\u001b[0m     \u001b[0;32mif\u001b[0m \u001b[0maxis\u001b[0m \u001b[0;32mis\u001b[0m \u001b[0;32mNone\u001b[0m\u001b[0;34m:\u001b[0m\u001b[0;34m\u001b[0m\u001b[0;34m\u001b[0m\u001b[0m\n\u001b[0;32m--> 233\u001b[0;31m         \u001b[0mret\u001b[0m \u001b[0;34m=\u001b[0m \u001b[0m_unique1d\u001b[0m\u001b[0;34m(\u001b[0m\u001b[0mar\u001b[0m\u001b[0;34m,\u001b[0m \u001b[0mreturn_index\u001b[0m\u001b[0;34m,\u001b[0m \u001b[0mreturn_inverse\u001b[0m\u001b[0;34m,\u001b[0m \u001b[0mreturn_counts\u001b[0m\u001b[0;34m)\u001b[0m\u001b[0;34m\u001b[0m\u001b[0;34m\u001b[0m\u001b[0m\n\u001b[0m\u001b[1;32m    234\u001b[0m         \u001b[0;32mreturn\u001b[0m \u001b[0m_unpack_tuple\u001b[0m\u001b[0;34m(\u001b[0m\u001b[0mret\u001b[0m\u001b[0;34m)\u001b[0m\u001b[0;34m\u001b[0m\u001b[0;34m\u001b[0m\u001b[0m\n\u001b[1;32m    235\u001b[0m \u001b[0;34m\u001b[0m\u001b[0m\n",
      "\u001b[0;32m~/anaconda3/envs/PythonData/lib/python3.6/site-packages/numpy/lib/arraysetops.py\u001b[0m in \u001b[0;36m_unique1d\u001b[0;34m(ar, return_index, return_inverse, return_counts)\u001b[0m\n\u001b[1;32m    279\u001b[0m         \u001b[0maux\u001b[0m \u001b[0;34m=\u001b[0m \u001b[0mar\u001b[0m\u001b[0;34m[\u001b[0m\u001b[0mperm\u001b[0m\u001b[0;34m]\u001b[0m\u001b[0;34m\u001b[0m\u001b[0;34m\u001b[0m\u001b[0m\n\u001b[1;32m    280\u001b[0m     \u001b[0;32melse\u001b[0m\u001b[0;34m:\u001b[0m\u001b[0;34m\u001b[0m\u001b[0;34m\u001b[0m\u001b[0m\n\u001b[0;32m--> 281\u001b[0;31m         \u001b[0mar\u001b[0m\u001b[0;34m.\u001b[0m\u001b[0msort\u001b[0m\u001b[0;34m(\u001b[0m\u001b[0;34m)\u001b[0m\u001b[0;34m\u001b[0m\u001b[0;34m\u001b[0m\u001b[0m\n\u001b[0m\u001b[1;32m    282\u001b[0m         \u001b[0maux\u001b[0m \u001b[0;34m=\u001b[0m \u001b[0mar\u001b[0m\u001b[0;34m\u001b[0m\u001b[0;34m\u001b[0m\u001b[0m\n\u001b[1;32m    283\u001b[0m     \u001b[0mmask\u001b[0m \u001b[0;34m=\u001b[0m \u001b[0mnp\u001b[0m\u001b[0;34m.\u001b[0m\u001b[0mempty\u001b[0m\u001b[0;34m(\u001b[0m\u001b[0maux\u001b[0m\u001b[0;34m.\u001b[0m\u001b[0mshape\u001b[0m\u001b[0;34m,\u001b[0m \u001b[0mdtype\u001b[0m\u001b[0;34m=\u001b[0m\u001b[0mnp\u001b[0m\u001b[0;34m.\u001b[0m\u001b[0mbool_\u001b[0m\u001b[0;34m)\u001b[0m\u001b[0;34m\u001b[0m\u001b[0;34m\u001b[0m\u001b[0m\n",
      "\u001b[0;31mTypeError\u001b[0m: '<' not supported between instances of 'str' and 'float'"
     ]
    }
   ],
   "source": [
    "classifer.fit(X_train, y_train)"
   ]
  },
  {
   "cell_type": "code",
   "execution_count": null,
   "metadata": {},
   "outputs": [],
   "source": []
  }
 ],
 "metadata": {
  "kernelspec": {
   "display_name": "Python 3",
   "language": "python",
   "name": "python3"
  },
  "language_info": {
   "codemirror_mode": {
    "name": "ipython",
    "version": 3
   },
   "file_extension": ".py",
   "mimetype": "text/x-python",
   "name": "python",
   "nbconvert_exporter": "python",
   "pygments_lexer": "ipython3",
   "version": "3.6.7"
  }
 },
 "nbformat": 4,
 "nbformat_minor": 2
}
