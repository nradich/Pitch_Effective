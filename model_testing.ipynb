{
 "cells": [
  {
   "cell_type": "code",
   "execution_count": 2,
   "metadata": {
    "scrolled": true
   },
   "outputs": [
    {
     "name": "stderr",
     "output_type": "stream",
     "text": [
      "/Users/nickrad/anaconda3/envs/PythonData/lib/python3.6/site-packages/IPython/core/interactiveshell.py:3020: DtypeWarning: Columns (4) have mixed types. Specify dtype option on import or set low_memory=False.\n",
      "  interactivity=interactivity, compiler=compiler, result=result)\n"
     ]
    }
   ],
   "source": [
    "import pandas as pd\n",
    "model_data = pd.read_csv('modeling_ready.csv')"
   ]
  },
  {
   "cell_type": "code",
   "execution_count": 3,
   "metadata": {
    "scrolled": true
   },
   "outputs": [
    {
     "data": {
      "text/plain": [
       "ball               2321023\n",
       "foul               1178110\n",
       "called_strike      1119355\n",
       "out                 807827\n",
       "swinging_strike     626895\n",
       "hit                 213293\n",
       "solid_contact       122541\n",
       "weak_contact         46953\n",
       "hit_by_pitch         14940\n",
       "Name: description, dtype: int64"
      ]
     },
     "execution_count": 3,
     "metadata": {},
     "output_type": "execute_result"
    }
   ],
   "source": [
    "model_data.description.value_counts()"
   ]
  },
  {
   "cell_type": "code",
   "execution_count": null,
   "metadata": {},
   "outputs": [],
   "source": [
    "#scitit learn says i should SGD\n",
    "#liking ordinal scaling for telling the computer how to interpret the results\n",
    "#use sklearn.preprocessing ordinal encoder\n",
    "#using ordinal because the value between each number is not signified, just want to alert computer that a swinging strike\n",
    "#is more desireable than a ball\n",
    "#could change where descript = 0 to weak contact or hard contact if model not working well\n",
    "\n",
    "\n"
   ]
  },
  {
   "cell_type": "markdown",
   "metadata": {},
   "source": [
    "Possible Outcomes: ball, foul, called_strike, out, swinging_strike, solid_contact, weak_contact, hit_by_pitch\n",
    "\n",
    "netural: HBP and foul\n",
    "negative: ball, solid_contact\n",
    "postive: 1.swinging strike, 2.out, 3.weak contact 4.called strime"
   ]
  },
  {
   "cell_type": "code",
   "execution_count": 10,
   "metadata": {},
   "outputs": [],
   "source": [
    "a = pd.isna(model_data.description)"
   ]
  },
  {
   "cell_type": "code",
   "execution_count": 11,
   "metadata": {
    "scrolled": true
   },
   "outputs": [
    {
     "data": {
      "text/plain": [
       "False    6450937\n",
       "Name: description, dtype: int64"
      ]
     },
     "execution_count": 11,
     "metadata": {},
     "output_type": "execute_result"
    }
   ],
   "source": [
    "#6 values are null\n",
    "#going to drop them\n",
    "\n",
    "a.value_counts()"
   ]
  },
  {
   "cell_type": "code",
   "execution_count": 5,
   "metadata": {},
   "outputs": [
    {
     "data": {
      "text/plain": [
       "0          False\n",
       "1          False\n",
       "2          False\n",
       "3          False\n",
       "4          False\n",
       "5          False\n",
       "6          False\n",
       "7          False\n",
       "8          False\n",
       "9          False\n",
       "10         False\n",
       "11         False\n",
       "12         False\n",
       "13         False\n",
       "14         False\n",
       "15         False\n",
       "16         False\n",
       "17         False\n",
       "18         False\n",
       "19         False\n",
       "20         False\n",
       "21         False\n",
       "22         False\n",
       "23         False\n",
       "24         False\n",
       "25         False\n",
       "26         False\n",
       "27         False\n",
       "28         False\n",
       "29         False\n",
       "           ...  \n",
       "6450913    False\n",
       "6450914    False\n",
       "6450915    False\n",
       "6450916    False\n",
       "6450917    False\n",
       "6450918    False\n",
       "6450919    False\n",
       "6450920    False\n",
       "6450921    False\n",
       "6450922    False\n",
       "6450923    False\n",
       "6450924    False\n",
       "6450925    False\n",
       "6450926    False\n",
       "6450927    False\n",
       "6450928    False\n",
       "6450929    False\n",
       "6450930    False\n",
       "6450931    False\n",
       "6450932    False\n",
       "6450933    False\n",
       "6450934    False\n",
       "6450935    False\n",
       "6450936    False\n",
       "6450937    False\n",
       "6450938    False\n",
       "6450939    False\n",
       "6450940    False\n",
       "6450941    False\n",
       "6450942    False\n",
       "Name: description, Length: 6450943, dtype: bool"
      ]
     },
     "execution_count": 5,
     "metadata": {},
     "output_type": "execute_result"
    }
   ],
   "source": [
    "a"
   ]
  },
  {
   "cell_type": "code",
   "execution_count": 6,
   "metadata": {},
   "outputs": [
    {
     "ename": "KeyError",
     "evalue": "'Concat_Outcome'",
     "output_type": "error",
     "traceback": [
      "\u001b[0;31m---------------------------------------------------------------------------\u001b[0m",
      "\u001b[0;31mKeyError\u001b[0m                                  Traceback (most recent call last)",
      "\u001b[0;32m~/anaconda3/envs/PythonData/lib/python3.6/site-packages/pandas/core/indexes/base.py\u001b[0m in \u001b[0;36mget_loc\u001b[0;34m(self, key, method, tolerance)\u001b[0m\n\u001b[1;32m   3077\u001b[0m             \u001b[0;32mtry\u001b[0m\u001b[0;34m:\u001b[0m\u001b[0;34m\u001b[0m\u001b[0;34m\u001b[0m\u001b[0m\n\u001b[0;32m-> 3078\u001b[0;31m                 \u001b[0;32mreturn\u001b[0m \u001b[0mself\u001b[0m\u001b[0;34m.\u001b[0m\u001b[0m_engine\u001b[0m\u001b[0;34m.\u001b[0m\u001b[0mget_loc\u001b[0m\u001b[0;34m(\u001b[0m\u001b[0mkey\u001b[0m\u001b[0;34m)\u001b[0m\u001b[0;34m\u001b[0m\u001b[0;34m\u001b[0m\u001b[0m\n\u001b[0m\u001b[1;32m   3079\u001b[0m             \u001b[0;32mexcept\u001b[0m \u001b[0mKeyError\u001b[0m\u001b[0;34m:\u001b[0m\u001b[0;34m\u001b[0m\u001b[0;34m\u001b[0m\u001b[0m\n",
      "\u001b[0;32mpandas/_libs/index.pyx\u001b[0m in \u001b[0;36mpandas._libs.index.IndexEngine.get_loc\u001b[0;34m()\u001b[0m\n",
      "\u001b[0;32mpandas/_libs/index.pyx\u001b[0m in \u001b[0;36mpandas._libs.index.IndexEngine.get_loc\u001b[0;34m()\u001b[0m\n",
      "\u001b[0;32mpandas/_libs/hashtable_class_helper.pxi\u001b[0m in \u001b[0;36mpandas._libs.hashtable.PyObjectHashTable.get_item\u001b[0;34m()\u001b[0m\n",
      "\u001b[0;32mpandas/_libs/hashtable_class_helper.pxi\u001b[0m in \u001b[0;36mpandas._libs.hashtable.PyObjectHashTable.get_item\u001b[0;34m()\u001b[0m\n",
      "\u001b[0;31mKeyError\u001b[0m: 'Concat_Outcome'",
      "\nDuring handling of the above exception, another exception occurred:\n",
      "\u001b[0;31mKeyError\u001b[0m                                  Traceback (most recent call last)",
      "\u001b[0;32m<ipython-input-6-d854df55c7ef>\u001b[0m in \u001b[0;36m<module>\u001b[0;34m\u001b[0m\n\u001b[1;32m      2\u001b[0m \u001b[0;31m#still 6 null values, gonna drop them\u001b[0m\u001b[0;34m\u001b[0m\u001b[0;34m\u001b[0m\u001b[0;34m\u001b[0m\u001b[0m\n\u001b[1;32m      3\u001b[0m \u001b[0;32mimport\u001b[0m \u001b[0mnumpy\u001b[0m \u001b[0;32mas\u001b[0m \u001b[0mnp\u001b[0m\u001b[0;34m\u001b[0m\u001b[0;34m\u001b[0m\u001b[0m\n\u001b[0;32m----> 4\u001b[0;31m model_data['description'] = np.where(pd.isna(model_data.description), model_data['Concat_Outcome'],\\\n\u001b[0m\u001b[1;32m      5\u001b[0m                                     model_data['description'])\n",
      "\u001b[0;32m~/anaconda3/envs/PythonData/lib/python3.6/site-packages/pandas/core/frame.py\u001b[0m in \u001b[0;36m__getitem__\u001b[0;34m(self, key)\u001b[0m\n\u001b[1;32m   2686\u001b[0m             \u001b[0;32mreturn\u001b[0m \u001b[0mself\u001b[0m\u001b[0;34m.\u001b[0m\u001b[0m_getitem_multilevel\u001b[0m\u001b[0;34m(\u001b[0m\u001b[0mkey\u001b[0m\u001b[0;34m)\u001b[0m\u001b[0;34m\u001b[0m\u001b[0;34m\u001b[0m\u001b[0m\n\u001b[1;32m   2687\u001b[0m         \u001b[0;32melse\u001b[0m\u001b[0;34m:\u001b[0m\u001b[0;34m\u001b[0m\u001b[0;34m\u001b[0m\u001b[0m\n\u001b[0;32m-> 2688\u001b[0;31m             \u001b[0;32mreturn\u001b[0m \u001b[0mself\u001b[0m\u001b[0;34m.\u001b[0m\u001b[0m_getitem_column\u001b[0m\u001b[0;34m(\u001b[0m\u001b[0mkey\u001b[0m\u001b[0;34m)\u001b[0m\u001b[0;34m\u001b[0m\u001b[0;34m\u001b[0m\u001b[0m\n\u001b[0m\u001b[1;32m   2689\u001b[0m \u001b[0;34m\u001b[0m\u001b[0m\n\u001b[1;32m   2690\u001b[0m     \u001b[0;32mdef\u001b[0m \u001b[0m_getitem_column\u001b[0m\u001b[0;34m(\u001b[0m\u001b[0mself\u001b[0m\u001b[0;34m,\u001b[0m \u001b[0mkey\u001b[0m\u001b[0;34m)\u001b[0m\u001b[0;34m:\u001b[0m\u001b[0;34m\u001b[0m\u001b[0;34m\u001b[0m\u001b[0m\n",
      "\u001b[0;32m~/anaconda3/envs/PythonData/lib/python3.6/site-packages/pandas/core/frame.py\u001b[0m in \u001b[0;36m_getitem_column\u001b[0;34m(self, key)\u001b[0m\n\u001b[1;32m   2693\u001b[0m         \u001b[0;31m# get column\u001b[0m\u001b[0;34m\u001b[0m\u001b[0;34m\u001b[0m\u001b[0;34m\u001b[0m\u001b[0m\n\u001b[1;32m   2694\u001b[0m         \u001b[0;32mif\u001b[0m \u001b[0mself\u001b[0m\u001b[0;34m.\u001b[0m\u001b[0mcolumns\u001b[0m\u001b[0;34m.\u001b[0m\u001b[0mis_unique\u001b[0m\u001b[0;34m:\u001b[0m\u001b[0;34m\u001b[0m\u001b[0;34m\u001b[0m\u001b[0m\n\u001b[0;32m-> 2695\u001b[0;31m             \u001b[0;32mreturn\u001b[0m \u001b[0mself\u001b[0m\u001b[0;34m.\u001b[0m\u001b[0m_get_item_cache\u001b[0m\u001b[0;34m(\u001b[0m\u001b[0mkey\u001b[0m\u001b[0;34m)\u001b[0m\u001b[0;34m\u001b[0m\u001b[0;34m\u001b[0m\u001b[0m\n\u001b[0m\u001b[1;32m   2696\u001b[0m \u001b[0;34m\u001b[0m\u001b[0m\n\u001b[1;32m   2697\u001b[0m         \u001b[0;31m# duplicate columns & possible reduce dimensionality\u001b[0m\u001b[0;34m\u001b[0m\u001b[0;34m\u001b[0m\u001b[0;34m\u001b[0m\u001b[0m\n",
      "\u001b[0;32m~/anaconda3/envs/PythonData/lib/python3.6/site-packages/pandas/core/generic.py\u001b[0m in \u001b[0;36m_get_item_cache\u001b[0;34m(self, item)\u001b[0m\n\u001b[1;32m   2487\u001b[0m         \u001b[0mres\u001b[0m \u001b[0;34m=\u001b[0m \u001b[0mcache\u001b[0m\u001b[0;34m.\u001b[0m\u001b[0mget\u001b[0m\u001b[0;34m(\u001b[0m\u001b[0mitem\u001b[0m\u001b[0;34m)\u001b[0m\u001b[0;34m\u001b[0m\u001b[0;34m\u001b[0m\u001b[0m\n\u001b[1;32m   2488\u001b[0m         \u001b[0;32mif\u001b[0m \u001b[0mres\u001b[0m \u001b[0;32mis\u001b[0m \u001b[0;32mNone\u001b[0m\u001b[0;34m:\u001b[0m\u001b[0;34m\u001b[0m\u001b[0;34m\u001b[0m\u001b[0m\n\u001b[0;32m-> 2489\u001b[0;31m             \u001b[0mvalues\u001b[0m \u001b[0;34m=\u001b[0m \u001b[0mself\u001b[0m\u001b[0;34m.\u001b[0m\u001b[0m_data\u001b[0m\u001b[0;34m.\u001b[0m\u001b[0mget\u001b[0m\u001b[0;34m(\u001b[0m\u001b[0mitem\u001b[0m\u001b[0;34m)\u001b[0m\u001b[0;34m\u001b[0m\u001b[0;34m\u001b[0m\u001b[0m\n\u001b[0m\u001b[1;32m   2490\u001b[0m             \u001b[0mres\u001b[0m \u001b[0;34m=\u001b[0m \u001b[0mself\u001b[0m\u001b[0;34m.\u001b[0m\u001b[0m_box_item_values\u001b[0m\u001b[0;34m(\u001b[0m\u001b[0mitem\u001b[0m\u001b[0;34m,\u001b[0m \u001b[0mvalues\u001b[0m\u001b[0;34m)\u001b[0m\u001b[0;34m\u001b[0m\u001b[0;34m\u001b[0m\u001b[0m\n\u001b[1;32m   2491\u001b[0m             \u001b[0mcache\u001b[0m\u001b[0;34m[\u001b[0m\u001b[0mitem\u001b[0m\u001b[0;34m]\u001b[0m \u001b[0;34m=\u001b[0m \u001b[0mres\u001b[0m\u001b[0;34m\u001b[0m\u001b[0;34m\u001b[0m\u001b[0m\n",
      "\u001b[0;32m~/anaconda3/envs/PythonData/lib/python3.6/site-packages/pandas/core/internals.py\u001b[0m in \u001b[0;36mget\u001b[0;34m(self, item, fastpath)\u001b[0m\n\u001b[1;32m   4113\u001b[0m \u001b[0;34m\u001b[0m\u001b[0m\n\u001b[1;32m   4114\u001b[0m             \u001b[0;32mif\u001b[0m \u001b[0;32mnot\u001b[0m \u001b[0misna\u001b[0m\u001b[0;34m(\u001b[0m\u001b[0mitem\u001b[0m\u001b[0;34m)\u001b[0m\u001b[0;34m:\u001b[0m\u001b[0;34m\u001b[0m\u001b[0;34m\u001b[0m\u001b[0m\n\u001b[0;32m-> 4115\u001b[0;31m                 \u001b[0mloc\u001b[0m \u001b[0;34m=\u001b[0m \u001b[0mself\u001b[0m\u001b[0;34m.\u001b[0m\u001b[0mitems\u001b[0m\u001b[0;34m.\u001b[0m\u001b[0mget_loc\u001b[0m\u001b[0;34m(\u001b[0m\u001b[0mitem\u001b[0m\u001b[0;34m)\u001b[0m\u001b[0;34m\u001b[0m\u001b[0;34m\u001b[0m\u001b[0m\n\u001b[0m\u001b[1;32m   4116\u001b[0m             \u001b[0;32melse\u001b[0m\u001b[0;34m:\u001b[0m\u001b[0;34m\u001b[0m\u001b[0;34m\u001b[0m\u001b[0m\n\u001b[1;32m   4117\u001b[0m                 \u001b[0mindexer\u001b[0m \u001b[0;34m=\u001b[0m \u001b[0mnp\u001b[0m\u001b[0;34m.\u001b[0m\u001b[0marange\u001b[0m\u001b[0;34m(\u001b[0m\u001b[0mlen\u001b[0m\u001b[0;34m(\u001b[0m\u001b[0mself\u001b[0m\u001b[0;34m.\u001b[0m\u001b[0mitems\u001b[0m\u001b[0;34m)\u001b[0m\u001b[0;34m)\u001b[0m\u001b[0;34m[\u001b[0m\u001b[0misna\u001b[0m\u001b[0;34m(\u001b[0m\u001b[0mself\u001b[0m\u001b[0;34m.\u001b[0m\u001b[0mitems\u001b[0m\u001b[0;34m)\u001b[0m\u001b[0;34m]\u001b[0m\u001b[0;34m\u001b[0m\u001b[0;34m\u001b[0m\u001b[0m\n",
      "\u001b[0;32m~/anaconda3/envs/PythonData/lib/python3.6/site-packages/pandas/core/indexes/base.py\u001b[0m in \u001b[0;36mget_loc\u001b[0;34m(self, key, method, tolerance)\u001b[0m\n\u001b[1;32m   3078\u001b[0m                 \u001b[0;32mreturn\u001b[0m \u001b[0mself\u001b[0m\u001b[0;34m.\u001b[0m\u001b[0m_engine\u001b[0m\u001b[0;34m.\u001b[0m\u001b[0mget_loc\u001b[0m\u001b[0;34m(\u001b[0m\u001b[0mkey\u001b[0m\u001b[0;34m)\u001b[0m\u001b[0;34m\u001b[0m\u001b[0;34m\u001b[0m\u001b[0m\n\u001b[1;32m   3079\u001b[0m             \u001b[0;32mexcept\u001b[0m \u001b[0mKeyError\u001b[0m\u001b[0;34m:\u001b[0m\u001b[0;34m\u001b[0m\u001b[0;34m\u001b[0m\u001b[0m\n\u001b[0;32m-> 3080\u001b[0;31m                 \u001b[0;32mreturn\u001b[0m \u001b[0mself\u001b[0m\u001b[0;34m.\u001b[0m\u001b[0m_engine\u001b[0m\u001b[0;34m.\u001b[0m\u001b[0mget_loc\u001b[0m\u001b[0;34m(\u001b[0m\u001b[0mself\u001b[0m\u001b[0;34m.\u001b[0m\u001b[0m_maybe_cast_indexer\u001b[0m\u001b[0;34m(\u001b[0m\u001b[0mkey\u001b[0m\u001b[0;34m)\u001b[0m\u001b[0;34m)\u001b[0m\u001b[0;34m\u001b[0m\u001b[0;34m\u001b[0m\u001b[0m\n\u001b[0m\u001b[1;32m   3081\u001b[0m \u001b[0;34m\u001b[0m\u001b[0m\n\u001b[1;32m   3082\u001b[0m         \u001b[0mindexer\u001b[0m \u001b[0;34m=\u001b[0m \u001b[0mself\u001b[0m\u001b[0;34m.\u001b[0m\u001b[0mget_indexer\u001b[0m\u001b[0;34m(\u001b[0m\u001b[0;34m[\u001b[0m\u001b[0mkey\u001b[0m\u001b[0;34m]\u001b[0m\u001b[0;34m,\u001b[0m \u001b[0mmethod\u001b[0m\u001b[0;34m=\u001b[0m\u001b[0mmethod\u001b[0m\u001b[0;34m,\u001b[0m \u001b[0mtolerance\u001b[0m\u001b[0;34m=\u001b[0m\u001b[0mtolerance\u001b[0m\u001b[0;34m)\u001b[0m\u001b[0;34m\u001b[0m\u001b[0;34m\u001b[0m\u001b[0m\n",
      "\u001b[0;32mpandas/_libs/index.pyx\u001b[0m in \u001b[0;36mpandas._libs.index.IndexEngine.get_loc\u001b[0;34m()\u001b[0m\n",
      "\u001b[0;32mpandas/_libs/index.pyx\u001b[0m in \u001b[0;36mpandas._libs.index.IndexEngine.get_loc\u001b[0;34m()\u001b[0m\n",
      "\u001b[0;32mpandas/_libs/hashtable_class_helper.pxi\u001b[0m in \u001b[0;36mpandas._libs.hashtable.PyObjectHashTable.get_item\u001b[0;34m()\u001b[0m\n",
      "\u001b[0;32mpandas/_libs/hashtable_class_helper.pxi\u001b[0m in \u001b[0;36mpandas._libs.hashtable.PyObjectHashTable.get_item\u001b[0;34m()\u001b[0m\n",
      "\u001b[0;31mKeyError\u001b[0m: 'Concat_Outcome'"
     ]
    }
   ],
   "source": [
    "#accidentally created nan values when trying to get get exit velo\n",
    "#still 6 null values, gonna drop them\n",
    "import numpy as np\n",
    "model_data['description'] = np.where(pd.isna(model_data.description), model_data['Concat_Outcome'],\\\n",
    "                                    model_data['description'])"
   ]
  },
  {
   "cell_type": "code",
   "execution_count": 9,
   "metadata": {},
   "outputs": [],
   "source": [
    "model_data.description.dropna(inplace = True)"
   ]
  },
  {
   "cell_type": "code",
   "execution_count": 13,
   "metadata": {},
   "outputs": [],
   "source": [
    "#dropped null values in description\n",
    "model_data.to_csv('modeling_ready.csv')"
   ]
  },
  {
   "cell_type": "code",
   "execution_count": 8,
   "metadata": {},
   "outputs": [],
   "source": [
    "model_data.drop(columns= ['Unnamed: 0', 'Unnamed: 0.1', 'Concat_Outcome', 'rename_attempt'], inplace= True)"
   ]
  },
  {
   "cell_type": "code",
   "execution_count": 12,
   "metadata": {},
   "outputs": [],
   "source": [
    "#going to try on a test data set\n",
    "test_data = model_data.loc[1000000:6000000:499]"
   ]
  },
  {
   "cell_type": "code",
   "execution_count": 13,
   "metadata": {
    "scrolled": true
   },
   "outputs": [
    {
     "data": {
      "text/plain": [
       "(10021, 5)"
      ]
     },
     "execution_count": 13,
     "metadata": {},
     "output_type": "execute_result"
    }
   ],
   "source": [
    "#10,000 rows for testing\n",
    "test_data.shape"
   ]
  },
  {
   "cell_type": "code",
   "execution_count": 14,
   "metadata": {},
   "outputs": [
    {
     "data": {
      "text/plain": [
       "4-Seam Fastball    3537\n",
       "Slider             1550\n",
       "2-Seam Fastball    1179\n",
       "Changeup            982\n",
       "Sinker              958\n",
       "Curveball           845\n",
       "Cutter              558\n",
       "Knuckle Curve       197\n",
       "Split Finger        143\n",
       "Knuckle Ball         42\n",
       "Forkball              5\n",
       "Eephus                3\n",
       "Name: pitch_name, dtype: int64"
      ]
     },
     "execution_count": 14,
     "metadata": {},
     "output_type": "execute_result"
    }
   ],
   "source": [
    "test_data.pitch_name.value_counts()"
   ]
  },
  {
   "cell_type": "code",
   "execution_count": 15,
   "metadata": {},
   "outputs": [
    {
     "data": {
      "text/html": [
       "<div>\n",
       "<style scoped>\n",
       "    .dataframe tbody tr th:only-of-type {\n",
       "        vertical-align: middle;\n",
       "    }\n",
       "\n",
       "    .dataframe tbody tr th {\n",
       "        vertical-align: top;\n",
       "    }\n",
       "\n",
       "    .dataframe thead th {\n",
       "        text-align: right;\n",
       "    }\n",
       "</style>\n",
       "<table border=\"1\" class=\"dataframe\">\n",
       "  <thead>\n",
       "    <tr style=\"text-align: right;\">\n",
       "      <th></th>\n",
       "      <th>Unnamed: 0</th>\n",
       "      <th>events</th>\n",
       "      <th>pitch_name</th>\n",
       "      <th>description</th>\n",
       "      <th>exit_velocity</th>\n",
       "    </tr>\n",
       "  </thead>\n",
       "  <tbody>\n",
       "    <tr>\n",
       "      <th>1000000</th>\n",
       "      <td>1000000</td>\n",
       "      <td>NaN</td>\n",
       "      <td>Sinker</td>\n",
       "      <td>foul</td>\n",
       "      <td>NaN</td>\n",
       "    </tr>\n",
       "    <tr>\n",
       "      <th>1000499</th>\n",
       "      <td>1000499</td>\n",
       "      <td>NaN</td>\n",
       "      <td>Knuckle Curve</td>\n",
       "      <td>ball</td>\n",
       "      <td>NaN</td>\n",
       "    </tr>\n",
       "    <tr>\n",
       "      <th>1000998</th>\n",
       "      <td>1000998</td>\n",
       "      <td>NaN</td>\n",
       "      <td>4-Seam Fastball</td>\n",
       "      <td>called_strike</td>\n",
       "      <td>NaN</td>\n",
       "    </tr>\n",
       "    <tr>\n",
       "      <th>1001497</th>\n",
       "      <td>1001497</td>\n",
       "      <td>NaN</td>\n",
       "      <td>4-Seam Fastball</td>\n",
       "      <td>called_strike</td>\n",
       "      <td>NaN</td>\n",
       "    </tr>\n",
       "    <tr>\n",
       "      <th>1001996</th>\n",
       "      <td>1001996</td>\n",
       "      <td>NaN</td>\n",
       "      <td>Slider</td>\n",
       "      <td>foul</td>\n",
       "      <td>NaN</td>\n",
       "    </tr>\n",
       "    <tr>\n",
       "      <th>1002495</th>\n",
       "      <td>1002495</td>\n",
       "      <td>out</td>\n",
       "      <td>4-Seam Fastball</td>\n",
       "      <td>out</td>\n",
       "      <td>NaN</td>\n",
       "    </tr>\n",
       "    <tr>\n",
       "      <th>1002994</th>\n",
       "      <td>1002994</td>\n",
       "      <td>NaN</td>\n",
       "      <td>Slider</td>\n",
       "      <td>called_strike</td>\n",
       "      <td>NaN</td>\n",
       "    </tr>\n",
       "    <tr>\n",
       "      <th>1003493</th>\n",
       "      <td>1003493</td>\n",
       "      <td>NaN</td>\n",
       "      <td>4-Seam Fastball</td>\n",
       "      <td>ball</td>\n",
       "      <td>NaN</td>\n",
       "    </tr>\n",
       "    <tr>\n",
       "      <th>1003992</th>\n",
       "      <td>1003992</td>\n",
       "      <td>NaN</td>\n",
       "      <td>4-Seam Fastball</td>\n",
       "      <td>swinging_strike</td>\n",
       "      <td>NaN</td>\n",
       "    </tr>\n",
       "    <tr>\n",
       "      <th>1004491</th>\n",
       "      <td>1004491</td>\n",
       "      <td>NaN</td>\n",
       "      <td>4-Seam Fastball</td>\n",
       "      <td>ball</td>\n",
       "      <td>NaN</td>\n",
       "    </tr>\n",
       "    <tr>\n",
       "      <th>1004990</th>\n",
       "      <td>1004990</td>\n",
       "      <td>NaN</td>\n",
       "      <td>4-Seam Fastball</td>\n",
       "      <td>ball</td>\n",
       "      <td>NaN</td>\n",
       "    </tr>\n",
       "    <tr>\n",
       "      <th>1005489</th>\n",
       "      <td>1005489</td>\n",
       "      <td>NaN</td>\n",
       "      <td>Changeup</td>\n",
       "      <td>ball</td>\n",
       "      <td>NaN</td>\n",
       "    </tr>\n",
       "    <tr>\n",
       "      <th>1005988</th>\n",
       "      <td>1005988</td>\n",
       "      <td>NaN</td>\n",
       "      <td>4-Seam Fastball</td>\n",
       "      <td>called_strike</td>\n",
       "      <td>NaN</td>\n",
       "    </tr>\n",
       "    <tr>\n",
       "      <th>1006487</th>\n",
       "      <td>1006487</td>\n",
       "      <td>hit</td>\n",
       "      <td>4-Seam Fastball</td>\n",
       "      <td>hit</td>\n",
       "      <td>NaN</td>\n",
       "    </tr>\n",
       "    <tr>\n",
       "      <th>1006986</th>\n",
       "      <td>1006986</td>\n",
       "      <td>strikeout</td>\n",
       "      <td>4-Seam Fastball</td>\n",
       "      <td>swinging_strike</td>\n",
       "      <td>NaN</td>\n",
       "    </tr>\n",
       "    <tr>\n",
       "      <th>1007485</th>\n",
       "      <td>1007485</td>\n",
       "      <td>strikeout</td>\n",
       "      <td>Slider</td>\n",
       "      <td>swinging_strike</td>\n",
       "      <td>NaN</td>\n",
       "    </tr>\n",
       "    <tr>\n",
       "      <th>1007984</th>\n",
       "      <td>1007984</td>\n",
       "      <td>NaN</td>\n",
       "      <td>Curveball</td>\n",
       "      <td>ball</td>\n",
       "      <td>NaN</td>\n",
       "    </tr>\n",
       "    <tr>\n",
       "      <th>1008483</th>\n",
       "      <td>1008483</td>\n",
       "      <td>NaN</td>\n",
       "      <td>4-Seam Fastball</td>\n",
       "      <td>called_strike</td>\n",
       "      <td>NaN</td>\n",
       "    </tr>\n",
       "    <tr>\n",
       "      <th>1008982</th>\n",
       "      <td>1008982</td>\n",
       "      <td>NaN</td>\n",
       "      <td>4-Seam Fastball</td>\n",
       "      <td>ball</td>\n",
       "      <td>NaN</td>\n",
       "    </tr>\n",
       "    <tr>\n",
       "      <th>1009481</th>\n",
       "      <td>1009481</td>\n",
       "      <td>NaN</td>\n",
       "      <td>Curveball</td>\n",
       "      <td>foul</td>\n",
       "      <td>NaN</td>\n",
       "    </tr>\n",
       "    <tr>\n",
       "      <th>1009980</th>\n",
       "      <td>1009980</td>\n",
       "      <td>NaN</td>\n",
       "      <td>Slider</td>\n",
       "      <td>ball</td>\n",
       "      <td>NaN</td>\n",
       "    </tr>\n",
       "    <tr>\n",
       "      <th>1010479</th>\n",
       "      <td>1010479</td>\n",
       "      <td>NaN</td>\n",
       "      <td>4-Seam Fastball</td>\n",
       "      <td>foul</td>\n",
       "      <td>NaN</td>\n",
       "    </tr>\n",
       "    <tr>\n",
       "      <th>1010978</th>\n",
       "      <td>1010978</td>\n",
       "      <td>NaN</td>\n",
       "      <td>4-Seam Fastball</td>\n",
       "      <td>ball</td>\n",
       "      <td>NaN</td>\n",
       "    </tr>\n",
       "    <tr>\n",
       "      <th>1011477</th>\n",
       "      <td>1011477</td>\n",
       "      <td>strikeout</td>\n",
       "      <td>4-Seam Fastball</td>\n",
       "      <td>swinging_strike</td>\n",
       "      <td>NaN</td>\n",
       "    </tr>\n",
       "    <tr>\n",
       "      <th>1011976</th>\n",
       "      <td>1011976</td>\n",
       "      <td>hit</td>\n",
       "      <td>2-Seam Fastball</td>\n",
       "      <td>hit</td>\n",
       "      <td>NaN</td>\n",
       "    </tr>\n",
       "    <tr>\n",
       "      <th>1012475</th>\n",
       "      <td>1012475</td>\n",
       "      <td>NaN</td>\n",
       "      <td>Curveball</td>\n",
       "      <td>foul</td>\n",
       "      <td>NaN</td>\n",
       "    </tr>\n",
       "    <tr>\n",
       "      <th>1012974</th>\n",
       "      <td>1012974</td>\n",
       "      <td>NaN</td>\n",
       "      <td>2-Seam Fastball</td>\n",
       "      <td>ball</td>\n",
       "      <td>NaN</td>\n",
       "    </tr>\n",
       "    <tr>\n",
       "      <th>1013473</th>\n",
       "      <td>1013473</td>\n",
       "      <td>NaN</td>\n",
       "      <td>Slider</td>\n",
       "      <td>ball</td>\n",
       "      <td>NaN</td>\n",
       "    </tr>\n",
       "    <tr>\n",
       "      <th>1013972</th>\n",
       "      <td>1013972</td>\n",
       "      <td>NaN</td>\n",
       "      <td>Cutter</td>\n",
       "      <td>ball</td>\n",
       "      <td>NaN</td>\n",
       "    </tr>\n",
       "    <tr>\n",
       "      <th>1014471</th>\n",
       "      <td>1014471</td>\n",
       "      <td>NaN</td>\n",
       "      <td>2-Seam Fastball</td>\n",
       "      <td>ball</td>\n",
       "      <td>NaN</td>\n",
       "    </tr>\n",
       "    <tr>\n",
       "      <th>...</th>\n",
       "      <td>...</td>\n",
       "      <td>...</td>\n",
       "      <td>...</td>\n",
       "      <td>...</td>\n",
       "      <td>...</td>\n",
       "    </tr>\n",
       "    <tr>\n",
       "      <th>5985509</th>\n",
       "      <td>5985509</td>\n",
       "      <td>strikeout</td>\n",
       "      <td>4-Seam Fastball</td>\n",
       "      <td>swinging_strike</td>\n",
       "      <td>NaN</td>\n",
       "    </tr>\n",
       "    <tr>\n",
       "      <th>5986008</th>\n",
       "      <td>5986008</td>\n",
       "      <td>NaN</td>\n",
       "      <td>Slider</td>\n",
       "      <td>ball</td>\n",
       "      <td>NaN</td>\n",
       "    </tr>\n",
       "    <tr>\n",
       "      <th>5986507</th>\n",
       "      <td>5986507</td>\n",
       "      <td>NaN</td>\n",
       "      <td>Slider</td>\n",
       "      <td>swinging_strike</td>\n",
       "      <td>NaN</td>\n",
       "    </tr>\n",
       "    <tr>\n",
       "      <th>5987006</th>\n",
       "      <td>5987006</td>\n",
       "      <td>NaN</td>\n",
       "      <td>Slider</td>\n",
       "      <td>ball</td>\n",
       "      <td>NaN</td>\n",
       "    </tr>\n",
       "    <tr>\n",
       "      <th>5987505</th>\n",
       "      <td>5987505</td>\n",
       "      <td>NaN</td>\n",
       "      <td>Curveball</td>\n",
       "      <td>ball</td>\n",
       "      <td>NaN</td>\n",
       "    </tr>\n",
       "    <tr>\n",
       "      <th>5988004</th>\n",
       "      <td>5988004</td>\n",
       "      <td>hit</td>\n",
       "      <td>4-Seam Fastball</td>\n",
       "      <td>solid_contact</td>\n",
       "      <td>solid_contact</td>\n",
       "    </tr>\n",
       "    <tr>\n",
       "      <th>5988503</th>\n",
       "      <td>5988503</td>\n",
       "      <td>out</td>\n",
       "      <td>Changeup</td>\n",
       "      <td>out</td>\n",
       "      <td>weak_contact</td>\n",
       "    </tr>\n",
       "    <tr>\n",
       "      <th>5989002</th>\n",
       "      <td>5989002</td>\n",
       "      <td>NaN</td>\n",
       "      <td>4-Seam Fastball</td>\n",
       "      <td>foul</td>\n",
       "      <td>weak_contact</td>\n",
       "    </tr>\n",
       "    <tr>\n",
       "      <th>5989501</th>\n",
       "      <td>5989501</td>\n",
       "      <td>walk</td>\n",
       "      <td>2-Seam Fastball</td>\n",
       "      <td>ball</td>\n",
       "      <td>NaN</td>\n",
       "    </tr>\n",
       "    <tr>\n",
       "      <th>5990000</th>\n",
       "      <td>5990000</td>\n",
       "      <td>out</td>\n",
       "      <td>Slider</td>\n",
       "      <td>out</td>\n",
       "      <td>weak_contact</td>\n",
       "    </tr>\n",
       "    <tr>\n",
       "      <th>5990499</th>\n",
       "      <td>5990499</td>\n",
       "      <td>NaN</td>\n",
       "      <td>4-Seam Fastball</td>\n",
       "      <td>called_strike</td>\n",
       "      <td>NaN</td>\n",
       "    </tr>\n",
       "    <tr>\n",
       "      <th>5990998</th>\n",
       "      <td>5990998</td>\n",
       "      <td>NaN</td>\n",
       "      <td>4-Seam Fastball</td>\n",
       "      <td>ball</td>\n",
       "      <td>NaN</td>\n",
       "    </tr>\n",
       "    <tr>\n",
       "      <th>5991497</th>\n",
       "      <td>5991497</td>\n",
       "      <td>NaN</td>\n",
       "      <td>Slider</td>\n",
       "      <td>foul</td>\n",
       "      <td>NaN</td>\n",
       "    </tr>\n",
       "    <tr>\n",
       "      <th>5991996</th>\n",
       "      <td>5991996</td>\n",
       "      <td>NaN</td>\n",
       "      <td>Slider</td>\n",
       "      <td>foul</td>\n",
       "      <td>weak_contact</td>\n",
       "    </tr>\n",
       "    <tr>\n",
       "      <th>5992495</th>\n",
       "      <td>5992495</td>\n",
       "      <td>hit</td>\n",
       "      <td>2-Seam Fastball</td>\n",
       "      <td>solid_contact</td>\n",
       "      <td>solid_contact</td>\n",
       "    </tr>\n",
       "    <tr>\n",
       "      <th>5992994</th>\n",
       "      <td>5992994</td>\n",
       "      <td>NaN</td>\n",
       "      <td>Changeup</td>\n",
       "      <td>swinging_strike</td>\n",
       "      <td>NaN</td>\n",
       "    </tr>\n",
       "    <tr>\n",
       "      <th>5993493</th>\n",
       "      <td>5993493</td>\n",
       "      <td>NaN</td>\n",
       "      <td>Slider</td>\n",
       "      <td>foul</td>\n",
       "      <td>NaN</td>\n",
       "    </tr>\n",
       "    <tr>\n",
       "      <th>5993992</th>\n",
       "      <td>5993992</td>\n",
       "      <td>NaN</td>\n",
       "      <td>Changeup</td>\n",
       "      <td>swinging_strike</td>\n",
       "      <td>NaN</td>\n",
       "    </tr>\n",
       "    <tr>\n",
       "      <th>5994491</th>\n",
       "      <td>5994491</td>\n",
       "      <td>NaN</td>\n",
       "      <td>Cutter</td>\n",
       "      <td>foul</td>\n",
       "      <td>NaN</td>\n",
       "    </tr>\n",
       "    <tr>\n",
       "      <th>5994990</th>\n",
       "      <td>5994990</td>\n",
       "      <td>NaN</td>\n",
       "      <td>Split Finger</td>\n",
       "      <td>swinging_strike</td>\n",
       "      <td>NaN</td>\n",
       "    </tr>\n",
       "    <tr>\n",
       "      <th>5995489</th>\n",
       "      <td>5995489</td>\n",
       "      <td>NaN</td>\n",
       "      <td>2-Seam Fastball</td>\n",
       "      <td>ball</td>\n",
       "      <td>NaN</td>\n",
       "    </tr>\n",
       "    <tr>\n",
       "      <th>5995988</th>\n",
       "      <td>5995988</td>\n",
       "      <td>out</td>\n",
       "      <td>4-Seam Fastball</td>\n",
       "      <td>out</td>\n",
       "      <td>weak_contact</td>\n",
       "    </tr>\n",
       "    <tr>\n",
       "      <th>5996487</th>\n",
       "      <td>5996487</td>\n",
       "      <td>NaN</td>\n",
       "      <td>4-Seam Fastball</td>\n",
       "      <td>ball</td>\n",
       "      <td>NaN</td>\n",
       "    </tr>\n",
       "    <tr>\n",
       "      <th>5996986</th>\n",
       "      <td>5996986</td>\n",
       "      <td>NaN</td>\n",
       "      <td>Knuckle Curve</td>\n",
       "      <td>called_strike</td>\n",
       "      <td>NaN</td>\n",
       "    </tr>\n",
       "    <tr>\n",
       "      <th>5997485</th>\n",
       "      <td>5997485</td>\n",
       "      <td>NaN</td>\n",
       "      <td>4-Seam Fastball</td>\n",
       "      <td>foul</td>\n",
       "      <td>solid_contact</td>\n",
       "    </tr>\n",
       "    <tr>\n",
       "      <th>5997984</th>\n",
       "      <td>5997984</td>\n",
       "      <td>NaN</td>\n",
       "      <td>2-Seam Fastball</td>\n",
       "      <td>foul</td>\n",
       "      <td>solid_contact</td>\n",
       "    </tr>\n",
       "    <tr>\n",
       "      <th>5998483</th>\n",
       "      <td>5998483</td>\n",
       "      <td>NaN</td>\n",
       "      <td>4-Seam Fastball</td>\n",
       "      <td>ball</td>\n",
       "      <td>NaN</td>\n",
       "    </tr>\n",
       "    <tr>\n",
       "      <th>5998982</th>\n",
       "      <td>5998982</td>\n",
       "      <td>NaN</td>\n",
       "      <td>2-Seam Fastball</td>\n",
       "      <td>ball</td>\n",
       "      <td>NaN</td>\n",
       "    </tr>\n",
       "    <tr>\n",
       "      <th>5999481</th>\n",
       "      <td>5999481</td>\n",
       "      <td>out</td>\n",
       "      <td>Curveball</td>\n",
       "      <td>out</td>\n",
       "      <td>solid_contact</td>\n",
       "    </tr>\n",
       "    <tr>\n",
       "      <th>5999980</th>\n",
       "      <td>5999980</td>\n",
       "      <td>NaN</td>\n",
       "      <td>Changeup</td>\n",
       "      <td>foul</td>\n",
       "      <td>weak_contact</td>\n",
       "    </tr>\n",
       "  </tbody>\n",
       "</table>\n",
       "<p>10021 rows × 5 columns</p>\n",
       "</div>"
      ],
      "text/plain": [
       "         Unnamed: 0     events       pitch_name      description  \\\n",
       "1000000     1000000        NaN           Sinker             foul   \n",
       "1000499     1000499        NaN    Knuckle Curve             ball   \n",
       "1000998     1000998        NaN  4-Seam Fastball    called_strike   \n",
       "1001497     1001497        NaN  4-Seam Fastball    called_strike   \n",
       "1001996     1001996        NaN           Slider             foul   \n",
       "1002495     1002495        out  4-Seam Fastball              out   \n",
       "1002994     1002994        NaN           Slider    called_strike   \n",
       "1003493     1003493        NaN  4-Seam Fastball             ball   \n",
       "1003992     1003992        NaN  4-Seam Fastball  swinging_strike   \n",
       "1004491     1004491        NaN  4-Seam Fastball             ball   \n",
       "1004990     1004990        NaN  4-Seam Fastball             ball   \n",
       "1005489     1005489        NaN         Changeup             ball   \n",
       "1005988     1005988        NaN  4-Seam Fastball    called_strike   \n",
       "1006487     1006487        hit  4-Seam Fastball              hit   \n",
       "1006986     1006986  strikeout  4-Seam Fastball  swinging_strike   \n",
       "1007485     1007485  strikeout           Slider  swinging_strike   \n",
       "1007984     1007984        NaN        Curveball             ball   \n",
       "1008483     1008483        NaN  4-Seam Fastball    called_strike   \n",
       "1008982     1008982        NaN  4-Seam Fastball             ball   \n",
       "1009481     1009481        NaN        Curveball             foul   \n",
       "1009980     1009980        NaN           Slider             ball   \n",
       "1010479     1010479        NaN  4-Seam Fastball             foul   \n",
       "1010978     1010978        NaN  4-Seam Fastball             ball   \n",
       "1011477     1011477  strikeout  4-Seam Fastball  swinging_strike   \n",
       "1011976     1011976        hit  2-Seam Fastball              hit   \n",
       "1012475     1012475        NaN        Curveball             foul   \n",
       "1012974     1012974        NaN  2-Seam Fastball             ball   \n",
       "1013473     1013473        NaN           Slider             ball   \n",
       "1013972     1013972        NaN           Cutter             ball   \n",
       "1014471     1014471        NaN  2-Seam Fastball             ball   \n",
       "...             ...        ...              ...              ...   \n",
       "5985509     5985509  strikeout  4-Seam Fastball  swinging_strike   \n",
       "5986008     5986008        NaN           Slider             ball   \n",
       "5986507     5986507        NaN           Slider  swinging_strike   \n",
       "5987006     5987006        NaN           Slider             ball   \n",
       "5987505     5987505        NaN        Curveball             ball   \n",
       "5988004     5988004        hit  4-Seam Fastball    solid_contact   \n",
       "5988503     5988503        out         Changeup              out   \n",
       "5989002     5989002        NaN  4-Seam Fastball             foul   \n",
       "5989501     5989501       walk  2-Seam Fastball             ball   \n",
       "5990000     5990000        out           Slider              out   \n",
       "5990499     5990499        NaN  4-Seam Fastball    called_strike   \n",
       "5990998     5990998        NaN  4-Seam Fastball             ball   \n",
       "5991497     5991497        NaN           Slider             foul   \n",
       "5991996     5991996        NaN           Slider             foul   \n",
       "5992495     5992495        hit  2-Seam Fastball    solid_contact   \n",
       "5992994     5992994        NaN         Changeup  swinging_strike   \n",
       "5993493     5993493        NaN           Slider             foul   \n",
       "5993992     5993992        NaN         Changeup  swinging_strike   \n",
       "5994491     5994491        NaN           Cutter             foul   \n",
       "5994990     5994990        NaN     Split Finger  swinging_strike   \n",
       "5995489     5995489        NaN  2-Seam Fastball             ball   \n",
       "5995988     5995988        out  4-Seam Fastball              out   \n",
       "5996487     5996487        NaN  4-Seam Fastball             ball   \n",
       "5996986     5996986        NaN    Knuckle Curve    called_strike   \n",
       "5997485     5997485        NaN  4-Seam Fastball             foul   \n",
       "5997984     5997984        NaN  2-Seam Fastball             foul   \n",
       "5998483     5998483        NaN  4-Seam Fastball             ball   \n",
       "5998982     5998982        NaN  2-Seam Fastball             ball   \n",
       "5999481     5999481        out        Curveball              out   \n",
       "5999980     5999980        NaN         Changeup             foul   \n",
       "\n",
       "         exit_velocity  \n",
       "1000000            NaN  \n",
       "1000499            NaN  \n",
       "1000998            NaN  \n",
       "1001497            NaN  \n",
       "1001996            NaN  \n",
       "1002495            NaN  \n",
       "1002994            NaN  \n",
       "1003493            NaN  \n",
       "1003992            NaN  \n",
       "1004491            NaN  \n",
       "1004990            NaN  \n",
       "1005489            NaN  \n",
       "1005988            NaN  \n",
       "1006487            NaN  \n",
       "1006986            NaN  \n",
       "1007485            NaN  \n",
       "1007984            NaN  \n",
       "1008483            NaN  \n",
       "1008982            NaN  \n",
       "1009481            NaN  \n",
       "1009980            NaN  \n",
       "1010479            NaN  \n",
       "1010978            NaN  \n",
       "1011477            NaN  \n",
       "1011976            NaN  \n",
       "1012475            NaN  \n",
       "1012974            NaN  \n",
       "1013473            NaN  \n",
       "1013972            NaN  \n",
       "1014471            NaN  \n",
       "...                ...  \n",
       "5985509            NaN  \n",
       "5986008            NaN  \n",
       "5986507            NaN  \n",
       "5987006            NaN  \n",
       "5987505            NaN  \n",
       "5988004  solid_contact  \n",
       "5988503   weak_contact  \n",
       "5989002   weak_contact  \n",
       "5989501            NaN  \n",
       "5990000   weak_contact  \n",
       "5990499            NaN  \n",
       "5990998            NaN  \n",
       "5991497            NaN  \n",
       "5991996   weak_contact  \n",
       "5992495  solid_contact  \n",
       "5992994            NaN  \n",
       "5993493            NaN  \n",
       "5993992            NaN  \n",
       "5994491            NaN  \n",
       "5994990            NaN  \n",
       "5995489            NaN  \n",
       "5995988   weak_contact  \n",
       "5996487            NaN  \n",
       "5996986            NaN  \n",
       "5997485  solid_contact  \n",
       "5997984  solid_contact  \n",
       "5998483            NaN  \n",
       "5998982            NaN  \n",
       "5999481  solid_contact  \n",
       "5999980   weak_contact  \n",
       "\n",
       "[10021 rows x 5 columns]"
      ]
     },
     "execution_count": 15,
     "metadata": {},
     "output_type": "execute_result"
    }
   ],
   "source": [
    "test_data"
   ]
  },
  {
   "cell_type": "code",
   "execution_count": 16,
   "metadata": {
    "scrolled": false
   },
   "outputs": [
    {
     "data": {
      "text/plain": [
       "ball               3557\n",
       "foul               1848\n",
       "called_strike      1758\n",
       "out                1273\n",
       "swinging_strike     971\n",
       "hit                 288\n",
       "solid_contact       211\n",
       "weak_contact         82\n",
       "hit_by_pitch         33\n",
       "Name: description, dtype: int64"
      ]
     },
     "execution_count": 16,
     "metadata": {},
     "output_type": "execute_result"
    }
   ],
   "source": [
    "test_data.description.value_counts()"
   ]
  },
  {
   "cell_type": "code",
   "execution_count": null,
   "metadata": {},
   "outputs": [],
   "source": [
    "test_data.columns"
   ]
  },
  {
   "cell_type": "code",
   "execution_count": 17,
   "metadata": {},
   "outputs": [],
   "source": [
    "from sklearn.preprocessing import OrdinalEncoder\n",
    "#the ordinal encoding for the description column\n",
    "#for more advanced, could use ratio\n",
    "categories = [ \n",
    "        ['ball',1],\n",
    "        ['solid_contact', 2],\n",
    "        ['hit_by_pitch', 3],\n",
    "        ['foul', 4],\n",
    "        ['called_strike',5],\n",
    "        ['weak_contact', 6],\n",
    "        ['out', 7],\n",
    "        ['swinging_strike', 8]\n",
    "        ]\n"
   ]
  },
  {
   "cell_type": "code",
   "execution_count": 20,
   "metadata": {
    "scrolled": true
   },
   "outputs": [
    {
     "data": {
      "text/plain": [
       "[['ball', 1],\n",
       " ['solid_contact', 2],\n",
       " ['hit_by_pitch', 3],\n",
       " ['foul', 4],\n",
       " ['called_strike', 5],\n",
       " ['weak_contact', 6],\n",
       " ['out', 7],\n",
       " ['swinging_strike', 8]]"
      ]
     },
     "execution_count": 20,
     "metadata": {},
     "output_type": "execute_result"
    }
   ],
   "source": [
    "categories"
   ]
  },
  {
   "cell_type": "code",
   "execution_count": 21,
   "metadata": {},
   "outputs": [
    {
     "data": {
      "text/plain": [
       "list"
      ]
     },
     "execution_count": 21,
     "metadata": {},
     "output_type": "execute_result"
    }
   ],
   "source": [
    "type(categories)"
   ]
  },
  {
   "cell_type": "code",
   "execution_count": 97,
   "metadata": {},
   "outputs": [
    {
     "data": {
      "text/plain": [
       "['out', 7]"
      ]
     },
     "execution_count": 97,
     "metadata": {},
     "output_type": "execute_result"
    }
   ],
   "source": [
    "categories[6]"
   ]
  },
  {
   "cell_type": "code",
   "execution_count": 27,
   "metadata": {},
   "outputs": [],
   "source": [
    "X = test_data['description']\n",
    "y = test_data['pitch_name']"
   ]
  },
  {
   "cell_type": "code",
   "execution_count": 29,
   "metadata": {},
   "outputs": [
    {
     "data": {
      "text/plain": [
       "4-Seam Fastball    3537\n",
       "Slider             1550\n",
       "2-Seam Fastball    1179\n",
       "Changeup            982\n",
       "Sinker              958\n",
       "Curveball           845\n",
       "Cutter              558\n",
       "Knuckle Curve       197\n",
       "Split Finger        143\n",
       "Knuckle Ball         42\n",
       "Forkball              5\n",
       "Eephus                3\n",
       "Name: pitch_name, dtype: int64"
      ]
     },
     "execution_count": 29,
     "metadata": {},
     "output_type": "execute_result"
    }
   ],
   "source": [
    "y.value_counts()"
   ]
  },
  {
   "cell_type": "code",
   "execution_count": 28,
   "metadata": {},
   "outputs": [
    {
     "data": {
      "text/plain": [
       "1000000               foul\n",
       "1000499               ball\n",
       "1000998      called_strike\n",
       "1001497      called_strike\n",
       "1001996               foul\n",
       "1002495                out\n",
       "1002994      called_strike\n",
       "1003493               ball\n",
       "1003992    swinging_strike\n",
       "1004491               ball\n",
       "1004990               ball\n",
       "1005489               ball\n",
       "1005988      called_strike\n",
       "1006487                hit\n",
       "1006986    swinging_strike\n",
       "1007485    swinging_strike\n",
       "1007984               ball\n",
       "1008483      called_strike\n",
       "1008982               ball\n",
       "1009481               foul\n",
       "1009980               ball\n",
       "1010479               foul\n",
       "1010978               ball\n",
       "1011477    swinging_strike\n",
       "1011976                hit\n",
       "1012475               foul\n",
       "1012974               ball\n",
       "1013473               ball\n",
       "1013972               ball\n",
       "1014471               ball\n",
       "                ...       \n",
       "5985509    swinging_strike\n",
       "5986008               ball\n",
       "5986507    swinging_strike\n",
       "5987006               ball\n",
       "5987505               ball\n",
       "5988004      solid_contact\n",
       "5988503                out\n",
       "5989002               foul\n",
       "5989501               ball\n",
       "5990000                out\n",
       "5990499      called_strike\n",
       "5990998               ball\n",
       "5991497               foul\n",
       "5991996               foul\n",
       "5992495      solid_contact\n",
       "5992994    swinging_strike\n",
       "5993493               foul\n",
       "5993992    swinging_strike\n",
       "5994491               foul\n",
       "5994990    swinging_strike\n",
       "5995489               ball\n",
       "5995988                out\n",
       "5996487               ball\n",
       "5996986      called_strike\n",
       "5997485               foul\n",
       "5997984               foul\n",
       "5998483               ball\n",
       "5998982               ball\n",
       "5999481                out\n",
       "5999980               foul\n",
       "Name: description, Length: 10021, dtype: object"
      ]
     },
     "execution_count": 28,
     "metadata": {},
     "output_type": "execute_result"
    }
   ],
   "source": []
  },
  {
   "cell_type": "code",
   "execution_count": 64,
   "metadata": {},
   "outputs": [],
   "source": [
    "#have to reshape X\n",
    "import numpy as np \n",
    "X = X.values.reshape(-1,1)"
   ]
  },
  {
   "cell_type": "code",
   "execution_count": 24,
   "metadata": {},
   "outputs": [],
   "source": [
    "#trying to encode X\n",
    "#get categories to represent desired outcome\n",
    "encoder = OrdinalEncoder(categories= categories)"
   ]
  },
  {
   "cell_type": "code",
   "execution_count": 25,
   "metadata": {
    "scrolled": true
   },
   "outputs": [
    {
     "data": {
      "text/plain": [
       "[['ball', 1],\n",
       " ['solid_contact', 2],\n",
       " ['hit_by_pitch', 3],\n",
       " ['foul', 4],\n",
       " ['called_strike', 5],\n",
       " ['weak_contact', 6],\n",
       " ['out', 7],\n",
       " ['swinging_strike', 8]]"
      ]
     },
     "execution_count": 25,
     "metadata": {},
     "output_type": "execute_result"
    }
   ],
   "source": [
    " encoder.categories"
   ]
  },
  {
   "cell_type": "code",
   "execution_count": 1,
   "metadata": {
    "scrolled": true
   },
   "outputs": [
    {
     "ename": "NameError",
     "evalue": "name 'X' is not defined",
     "output_type": "error",
     "traceback": [
      "\u001b[0;31m---------------------------------------------------------------------------\u001b[0m",
      "\u001b[0;31mNameError\u001b[0m                                 Traceback (most recent call last)",
      "\u001b[0;32m<ipython-input-1-b5fec669aca1>\u001b[0m in \u001b[0;36m<module>\u001b[0;34m\u001b[0m\n\u001b[0;32m----> 1\u001b[0;31m \u001b[0mX\u001b[0m\u001b[0;34m\u001b[0m\u001b[0;34m\u001b[0m\u001b[0m\n\u001b[0m",
      "\u001b[0;31mNameError\u001b[0m: name 'X' is not defined"
     ]
    }
   ],
   "source": [
    "X"
   ]
  },
  {
   "cell_type": "code",
   "execution_count": 81,
   "metadata": {},
   "outputs": [
    {
     "data": {
      "text/plain": [
       "1     3537\n",
       "2     1550\n",
       "0     1179\n",
       "5      982\n",
       "12     958\n",
       "6      845\n",
       "7      558\n",
       "11     197\n",
       "3      143\n",
       "10      42\n",
       "4       22\n",
       "9        5\n",
       "8        3\n",
       "Name: pitch_name, dtype: int64"
      ]
     },
     "execution_count": 81,
     "metadata": {},
     "output_type": "execute_result"
    }
   ],
   "source": [
    "y.value_counts()"
   ]
  },
  {
   "cell_type": "code",
   "execution_count": 62,
   "metadata": {},
   "outputs": [
    {
     "name": "stderr",
     "output_type": "stream",
     "text": [
      "/Users/nickrad/anaconda3/envs/PythonData/lib/python3.6/site-packages/ipykernel_launcher.py:3: SettingWithCopyWarning: \n",
      "A value is trying to be set on a copy of a slice from a DataFrame.\n",
      "Try using .loc[row_indexer,col_indexer] = value instead\n",
      "\n",
      "See the caveats in the documentation: http://pandas.pydata.org/pandas-docs/stable/indexing.html#indexing-view-versus-copy\n",
      "  This is separate from the ipykernel package so we can avoid doing imports until\n"
     ]
    }
   ],
   "source": [
    "from sklearn.preprocessing import LabelEncoder\n",
    "le = LabelEncoder()\n",
    "test_data['pitch_name'] = le.fit_transform(test_data['pitch_name'].astype(str))"
   ]
  },
  {
   "cell_type": "code",
   "execution_count": 33,
   "metadata": {},
   "outputs": [],
   "source": [
    "#have to reshape X\n",
    "import numpy as np \n",
    "X = X.values.reshape(-1,1)"
   ]
  },
  {
   "cell_type": "code",
   "execution_count": 54,
   "metadata": {},
   "outputs": [
    {
     "data": {
      "text/plain": [
       "array([[2.],\n",
       "       [0.],\n",
       "       [1.],\n",
       "       ...,\n",
       "       [0.],\n",
       "       [5.],\n",
       "       [2.]])"
      ]
     },
     "execution_count": 54,
     "metadata": {},
     "output_type": "execute_result"
    }
   ],
   "source": [
    "X"
   ]
  },
  {
   "cell_type": "code",
   "execution_count": 55,
   "metadata": {
    "scrolled": true
   },
   "outputs": [
    {
     "data": {
      "text/plain": [
       "numpy.ndarray"
      ]
     },
     "execution_count": 55,
     "metadata": {},
     "output_type": "execute_result"
    }
   ],
   "source": [
    "type(X)"
   ]
  },
  {
   "cell_type": "code",
   "execution_count": 56,
   "metadata": {},
   "outputs": [
    {
     "name": "stdout",
     "output_type": "stream",
     "text": [
      "(10021, 1) (10021,)\n"
     ]
    }
   ],
   "source": [
    "print(X.shape, y.shape)"
   ]
  },
  {
   "cell_type": "code",
   "execution_count": 68,
   "metadata": {},
   "outputs": [],
   "source": [
    "#need to get y to read as a string\n",
    "#didnt need stratify\n",
    "from sklearn.model_selection import train_test_split\n",
    "X_train, X_test, y_train, y_test = train_test_split(X, y, random_state=0)\n"
   ]
  },
  {
   "cell_type": "code",
   "execution_count": 69,
   "metadata": {},
   "outputs": [
    {
     "data": {
      "text/plain": [
       "SGDClassifier(alpha=0.0001, average=False, class_weight=None,\n",
       "       early_stopping=False, epsilon=0.1, eta0=0.0, fit_intercept=True,\n",
       "       l1_ratio=0.15, learning_rate='optimal', loss='hinge', max_iter=None,\n",
       "       n_iter=None, n_iter_no_change=5, n_jobs=None, penalty='l2',\n",
       "       power_t=0.5, random_state=None, shuffle=True, tol=None,\n",
       "       validation_fraction=0.1, verbose=0, warm_start=False)"
      ]
     },
     "execution_count": 69,
     "metadata": {},
     "output_type": "execute_result"
    }
   ],
   "source": [
    "#importing model\n",
    "from sklearn.linear_model import SGDClassifier\n",
    "classifer = SGDClassifier()\n",
    "classifer\n"
   ]
  },
  {
   "cell_type": "code",
   "execution_count": 70,
   "metadata": {},
   "outputs": [
    {
     "name": "stderr",
     "output_type": "stream",
     "text": [
      "/Users/nickrad/anaconda3/envs/PythonData/lib/python3.6/site-packages/sklearn/linear_model/stochastic_gradient.py:166: FutureWarning: max_iter and tol parameters have been added in SGDClassifier in 0.19. If both are left unset, they default to max_iter=5 and tol=None. If tol is not None, max_iter defaults to max_iter=1000. From 0.21, default max_iter will be 1000, and default tol will be 1e-3.\n",
      "  FutureWarning)\n"
     ]
    },
    {
     "data": {
      "text/plain": [
       "SGDClassifier(alpha=0.0001, average=False, class_weight=None,\n",
       "       early_stopping=False, epsilon=0.1, eta0=0.0, fit_intercept=True,\n",
       "       l1_ratio=0.15, learning_rate='optimal', loss='hinge', max_iter=None,\n",
       "       n_iter=None, n_iter_no_change=5, n_jobs=None, penalty='l2',\n",
       "       power_t=0.5, random_state=None, shuffle=True, tol=None,\n",
       "       validation_fraction=0.1, verbose=0, warm_start=False)"
      ]
     },
     "execution_count": 70,
     "metadata": {},
     "output_type": "execute_result"
    }
   ],
   "source": [
    "classifer.fit(X_train, y_train)"
   ]
  },
  {
   "cell_type": "code",
   "execution_count": 72,
   "metadata": {},
   "outputs": [],
   "source": [
    "predict = classifer.predict(X_test)"
   ]
  },
  {
   "cell_type": "code",
   "execution_count": 77,
   "metadata": {
    "scrolled": true
   },
   "outputs": [
    {
     "ename": "AttributeError",
     "evalue": "'numpy.ndarray' object has no attribute 'value_counts'",
     "output_type": "error",
     "traceback": [
      "\u001b[0;31m---------------------------------------------------------------------------\u001b[0m",
      "\u001b[0;31mAttributeError\u001b[0m                            Traceback (most recent call last)",
      "\u001b[0;32m<ipython-input-77-5c3387353c0a>\u001b[0m in \u001b[0;36m<module>\u001b[0;34m\u001b[0m\n\u001b[0;32m----> 1\u001b[0;31m \u001b[0mpredict\u001b[0m\u001b[0;34m.\u001b[0m\u001b[0mvalue_counts\u001b[0m\u001b[0;34m(\u001b[0m\u001b[0;34m)\u001b[0m\u001b[0;34m\u001b[0m\u001b[0;34m\u001b[0m\u001b[0m\n\u001b[0m",
      "\u001b[0;31mAttributeError\u001b[0m: 'numpy.ndarray' object has no attribute 'value_counts'"
     ]
    }
   ],
   "source": [
    "predict.value_counts()"
   ]
  },
  {
   "cell_type": "code",
   "execution_count": 78,
   "metadata": {
    "scrolled": true
   },
   "outputs": [
    {
     "data": {
      "text/plain": [
       "0.12721224218230207"
      ]
     },
     "execution_count": 78,
     "metadata": {},
     "output_type": "execute_result"
    }
   ],
   "source": [
    "classifer.score(X_train, y_train)"
   ]
  },
  {
   "cell_type": "code",
   "execution_count": 79,
   "metadata": {},
   "outputs": [
    {
     "data": {
      "text/plain": [
       "0.13766959297685555"
      ]
     },
     "execution_count": 79,
     "metadata": {},
     "output_type": "execute_result"
    }
   ],
   "source": [
    "classifer.score(X_test, y_test)"
   ]
  },
  {
   "cell_type": "code",
   "execution_count": 76,
   "metadata": {},
   "outputs": [
    {
     "ename": "Exception",
     "evalue": "Data must be 1-dimensional",
     "output_type": "error",
     "traceback": [
      "\u001b[0;31m---------------------------------------------------------------------------\u001b[0m",
      "\u001b[0;31mException\u001b[0m                                 Traceback (most recent call last)",
      "\u001b[0;32m<ipython-input-76-6d81b5d0b0d6>\u001b[0m in \u001b[0;36m<module>\u001b[0;34m\u001b[0m\n\u001b[1;32m      1\u001b[0m testing = pd.DataFrame({\n\u001b[1;32m      2\u001b[0m     \u001b[0;34m'actual'\u001b[0m\u001b[0;34m:\u001b[0m \u001b[0mX_test\u001b[0m\u001b[0;34m,\u001b[0m\u001b[0;34m\u001b[0m\u001b[0;34m\u001b[0m\u001b[0m\n\u001b[0;32m----> 3\u001b[0;31m     \u001b[0;34m'model_predict'\u001b[0m\u001b[0;34m:\u001b[0m \u001b[0mpredict\u001b[0m\u001b[0;34m\u001b[0m\u001b[0;34m\u001b[0m\u001b[0m\n\u001b[0m\u001b[1;32m      4\u001b[0m })\n",
      "\u001b[0;32m~/anaconda3/envs/PythonData/lib/python3.6/site-packages/pandas/core/frame.py\u001b[0m in \u001b[0;36m__init__\u001b[0;34m(self, data, index, columns, dtype, copy)\u001b[0m\n\u001b[1;32m    346\u001b[0m                                  dtype=dtype, copy=copy)\n\u001b[1;32m    347\u001b[0m         \u001b[0;32melif\u001b[0m \u001b[0misinstance\u001b[0m\u001b[0;34m(\u001b[0m\u001b[0mdata\u001b[0m\u001b[0;34m,\u001b[0m \u001b[0mdict\u001b[0m\u001b[0;34m)\u001b[0m\u001b[0;34m:\u001b[0m\u001b[0;34m\u001b[0m\u001b[0;34m\u001b[0m\u001b[0m\n\u001b[0;32m--> 348\u001b[0;31m             \u001b[0mmgr\u001b[0m \u001b[0;34m=\u001b[0m \u001b[0mself\u001b[0m\u001b[0;34m.\u001b[0m\u001b[0m_init_dict\u001b[0m\u001b[0;34m(\u001b[0m\u001b[0mdata\u001b[0m\u001b[0;34m,\u001b[0m \u001b[0mindex\u001b[0m\u001b[0;34m,\u001b[0m \u001b[0mcolumns\u001b[0m\u001b[0;34m,\u001b[0m \u001b[0mdtype\u001b[0m\u001b[0;34m=\u001b[0m\u001b[0mdtype\u001b[0m\u001b[0;34m)\u001b[0m\u001b[0;34m\u001b[0m\u001b[0;34m\u001b[0m\u001b[0m\n\u001b[0m\u001b[1;32m    349\u001b[0m         \u001b[0;32melif\u001b[0m \u001b[0misinstance\u001b[0m\u001b[0;34m(\u001b[0m\u001b[0mdata\u001b[0m\u001b[0;34m,\u001b[0m \u001b[0mma\u001b[0m\u001b[0;34m.\u001b[0m\u001b[0mMaskedArray\u001b[0m\u001b[0;34m)\u001b[0m\u001b[0;34m:\u001b[0m\u001b[0;34m\u001b[0m\u001b[0;34m\u001b[0m\u001b[0m\n\u001b[1;32m    350\u001b[0m             \u001b[0;32mimport\u001b[0m \u001b[0mnumpy\u001b[0m\u001b[0;34m.\u001b[0m\u001b[0mma\u001b[0m\u001b[0;34m.\u001b[0m\u001b[0mmrecords\u001b[0m \u001b[0;32mas\u001b[0m \u001b[0mmrecords\u001b[0m\u001b[0;34m\u001b[0m\u001b[0;34m\u001b[0m\u001b[0m\n",
      "\u001b[0;32m~/anaconda3/envs/PythonData/lib/python3.6/site-packages/pandas/core/frame.py\u001b[0m in \u001b[0;36m_init_dict\u001b[0;34m(self, data, index, columns, dtype)\u001b[0m\n\u001b[1;32m    457\u001b[0m             \u001b[0marrays\u001b[0m \u001b[0;34m=\u001b[0m \u001b[0;34m[\u001b[0m\u001b[0mdata\u001b[0m\u001b[0;34m[\u001b[0m\u001b[0mk\u001b[0m\u001b[0;34m]\u001b[0m \u001b[0;32mfor\u001b[0m \u001b[0mk\u001b[0m \u001b[0;32min\u001b[0m \u001b[0mkeys\u001b[0m\u001b[0;34m]\u001b[0m\u001b[0;34m\u001b[0m\u001b[0;34m\u001b[0m\u001b[0m\n\u001b[1;32m    458\u001b[0m \u001b[0;34m\u001b[0m\u001b[0m\n\u001b[0;32m--> 459\u001b[0;31m         \u001b[0;32mreturn\u001b[0m \u001b[0m_arrays_to_mgr\u001b[0m\u001b[0;34m(\u001b[0m\u001b[0marrays\u001b[0m\u001b[0;34m,\u001b[0m \u001b[0mdata_names\u001b[0m\u001b[0;34m,\u001b[0m \u001b[0mindex\u001b[0m\u001b[0;34m,\u001b[0m \u001b[0mcolumns\u001b[0m\u001b[0;34m,\u001b[0m \u001b[0mdtype\u001b[0m\u001b[0;34m=\u001b[0m\u001b[0mdtype\u001b[0m\u001b[0;34m)\u001b[0m\u001b[0;34m\u001b[0m\u001b[0;34m\u001b[0m\u001b[0m\n\u001b[0m\u001b[1;32m    460\u001b[0m \u001b[0;34m\u001b[0m\u001b[0m\n\u001b[1;32m    461\u001b[0m     \u001b[0;32mdef\u001b[0m \u001b[0m_init_ndarray\u001b[0m\u001b[0;34m(\u001b[0m\u001b[0mself\u001b[0m\u001b[0;34m,\u001b[0m \u001b[0mvalues\u001b[0m\u001b[0;34m,\u001b[0m \u001b[0mindex\u001b[0m\u001b[0;34m,\u001b[0m \u001b[0mcolumns\u001b[0m\u001b[0;34m,\u001b[0m \u001b[0mdtype\u001b[0m\u001b[0;34m=\u001b[0m\u001b[0;32mNone\u001b[0m\u001b[0;34m,\u001b[0m \u001b[0mcopy\u001b[0m\u001b[0;34m=\u001b[0m\u001b[0;32mFalse\u001b[0m\u001b[0;34m)\u001b[0m\u001b[0;34m:\u001b[0m\u001b[0;34m\u001b[0m\u001b[0;34m\u001b[0m\u001b[0m\n",
      "\u001b[0;32m~/anaconda3/envs/PythonData/lib/python3.6/site-packages/pandas/core/frame.py\u001b[0m in \u001b[0;36m_arrays_to_mgr\u001b[0;34m(arrays, arr_names, index, columns, dtype)\u001b[0m\n\u001b[1;32m   7357\u001b[0m \u001b[0;34m\u001b[0m\u001b[0m\n\u001b[1;32m   7358\u001b[0m     \u001b[0;31m# don't force copy because getting jammed in an ndarray anyway\u001b[0m\u001b[0;34m\u001b[0m\u001b[0;34m\u001b[0m\u001b[0;34m\u001b[0m\u001b[0m\n\u001b[0;32m-> 7359\u001b[0;31m     \u001b[0marrays\u001b[0m \u001b[0;34m=\u001b[0m \u001b[0m_homogenize\u001b[0m\u001b[0;34m(\u001b[0m\u001b[0marrays\u001b[0m\u001b[0;34m,\u001b[0m \u001b[0mindex\u001b[0m\u001b[0;34m,\u001b[0m \u001b[0mdtype\u001b[0m\u001b[0;34m)\u001b[0m\u001b[0;34m\u001b[0m\u001b[0;34m\u001b[0m\u001b[0m\n\u001b[0m\u001b[1;32m   7360\u001b[0m \u001b[0;34m\u001b[0m\u001b[0m\n\u001b[1;32m   7361\u001b[0m     \u001b[0;31m# from BlockManager perspective\u001b[0m\u001b[0;34m\u001b[0m\u001b[0;34m\u001b[0m\u001b[0;34m\u001b[0m\u001b[0m\n",
      "\u001b[0;32m~/anaconda3/envs/PythonData/lib/python3.6/site-packages/pandas/core/frame.py\u001b[0m in \u001b[0;36m_homogenize\u001b[0;34m(data, index, dtype)\u001b[0m\n\u001b[1;32m   7667\u001b[0m                 \u001b[0mv\u001b[0m \u001b[0;34m=\u001b[0m \u001b[0mlib\u001b[0m\u001b[0;34m.\u001b[0m\u001b[0mfast_multiget\u001b[0m\u001b[0;34m(\u001b[0m\u001b[0mv\u001b[0m\u001b[0;34m,\u001b[0m \u001b[0moindex\u001b[0m\u001b[0;34m.\u001b[0m\u001b[0mvalues\u001b[0m\u001b[0;34m,\u001b[0m \u001b[0mdefault\u001b[0m\u001b[0;34m=\u001b[0m\u001b[0mnp\u001b[0m\u001b[0;34m.\u001b[0m\u001b[0mnan\u001b[0m\u001b[0;34m)\u001b[0m\u001b[0;34m\u001b[0m\u001b[0;34m\u001b[0m\u001b[0m\n\u001b[1;32m   7668\u001b[0m             v = _sanitize_array(v, index, dtype=dtype, copy=False,\n\u001b[0;32m-> 7669\u001b[0;31m                                 raise_cast_failure=False)\n\u001b[0m\u001b[1;32m   7670\u001b[0m \u001b[0;34m\u001b[0m\u001b[0m\n\u001b[1;32m   7671\u001b[0m         \u001b[0mhomogenized\u001b[0m\u001b[0;34m.\u001b[0m\u001b[0mappend\u001b[0m\u001b[0;34m(\u001b[0m\u001b[0mv\u001b[0m\u001b[0;34m)\u001b[0m\u001b[0;34m\u001b[0m\u001b[0;34m\u001b[0m\u001b[0m\n",
      "\u001b[0;32m~/anaconda3/envs/PythonData/lib/python3.6/site-packages/pandas/core/series.py\u001b[0m in \u001b[0;36m_sanitize_array\u001b[0;34m(data, index, dtype, copy, raise_cast_failure)\u001b[0m\n\u001b[1;32m   4163\u001b[0m     \u001b[0;32melif\u001b[0m \u001b[0msubarr\u001b[0m\u001b[0;34m.\u001b[0m\u001b[0mndim\u001b[0m \u001b[0;34m>\u001b[0m \u001b[0;36m1\u001b[0m\u001b[0;34m:\u001b[0m\u001b[0;34m\u001b[0m\u001b[0;34m\u001b[0m\u001b[0m\n\u001b[1;32m   4164\u001b[0m         \u001b[0;32mif\u001b[0m \u001b[0misinstance\u001b[0m\u001b[0;34m(\u001b[0m\u001b[0mdata\u001b[0m\u001b[0;34m,\u001b[0m \u001b[0mnp\u001b[0m\u001b[0;34m.\u001b[0m\u001b[0mndarray\u001b[0m\u001b[0;34m)\u001b[0m\u001b[0;34m:\u001b[0m\u001b[0;34m\u001b[0m\u001b[0;34m\u001b[0m\u001b[0m\n\u001b[0;32m-> 4165\u001b[0;31m             \u001b[0;32mraise\u001b[0m \u001b[0mException\u001b[0m\u001b[0;34m(\u001b[0m\u001b[0;34m'Data must be 1-dimensional'\u001b[0m\u001b[0;34m)\u001b[0m\u001b[0;34m\u001b[0m\u001b[0;34m\u001b[0m\u001b[0m\n\u001b[0m\u001b[1;32m   4166\u001b[0m         \u001b[0;32melse\u001b[0m\u001b[0;34m:\u001b[0m\u001b[0;34m\u001b[0m\u001b[0;34m\u001b[0m\u001b[0m\n\u001b[1;32m   4167\u001b[0m             \u001b[0msubarr\u001b[0m \u001b[0;34m=\u001b[0m \u001b[0mcom\u001b[0m\u001b[0;34m.\u001b[0m\u001b[0m_asarray_tuplesafe\u001b[0m\u001b[0;34m(\u001b[0m\u001b[0mdata\u001b[0m\u001b[0;34m,\u001b[0m \u001b[0mdtype\u001b[0m\u001b[0;34m=\u001b[0m\u001b[0mdtype\u001b[0m\u001b[0;34m)\u001b[0m\u001b[0;34m\u001b[0m\u001b[0;34m\u001b[0m\u001b[0m\n",
      "\u001b[0;31mException\u001b[0m: Data must be 1-dimensional"
     ]
    }
   ],
   "source": [
    "testing = pd.DataFrame({\n",
    "    'actual': X_test,\n",
    "    'model_predict': predict\n",
    "})"
   ]
  },
  {
   "cell_type": "code",
   "execution_count": null,
   "metadata": {},
   "outputs": [],
   "source": []
  }
 ],
 "metadata": {
  "kernelspec": {
   "display_name": "Python 3",
   "language": "python",
   "name": "python3"
  },
  "language_info": {
   "codemirror_mode": {
    "name": "ipython",
    "version": 3
   },
   "file_extension": ".py",
   "mimetype": "text/x-python",
   "name": "python",
   "nbconvert_exporter": "python",
   "pygments_lexer": "ipython3",
   "version": "3.6.7"
  }
 },
 "nbformat": 4,
 "nbformat_minor": 2
}
