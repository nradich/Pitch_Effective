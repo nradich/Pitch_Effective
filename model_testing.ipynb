{
 "cells": [
  {
   "cell_type": "code",
   "execution_count": 1,
   "metadata": {
    "scrolled": true
   },
   "outputs": [
    {
     "name": "stderr",
     "output_type": "stream",
     "text": [
      "/Users/nickrad/anaconda3/envs/PythonData/lib/python3.6/site-packages/IPython/core/interactiveshell.py:3020: DtypeWarning: Columns (5) have mixed types. Specify dtype option on import or set low_memory=False.\n",
      "  interactivity=interactivity, compiler=compiler, result=result)\n"
     ]
    }
   ],
   "source": [
    "import pandas as pd\n",
    "model_data = pd.read_csv('modeling_ready.csv')"
   ]
  },
  {
   "cell_type": "code",
   "execution_count": 2,
   "metadata": {
    "scrolled": true
   },
   "outputs": [
    {
     "data": {
      "text/plain": [
       "ball               2321023\n",
       "foul               1178110\n",
       "called_strike      1119355\n",
       "out                 807827\n",
       "swinging_strike     626895\n",
       "hit                 213293\n",
       "solid_contact       122541\n",
       "weak_contact         46953\n",
       "hit_by_pitch         14940\n",
       "Name: description, dtype: int64"
      ]
     },
     "execution_count": 2,
     "metadata": {},
     "output_type": "execute_result"
    }
   ],
   "source": [
    "model_data.description.value_counts()"
   ]
  },
  {
   "cell_type": "code",
   "execution_count": null,
   "metadata": {},
   "outputs": [],
   "source": [
    "#scitit learn says i should SGD\n",
    "#liking ordinal scaling for telling the computer how to interpret the results\n",
    "#use sklearn.preprocessing ordinal encoder\n",
    "#using ordinal because the value between each number is not signified, just want to alert computer that a swinging strike\n",
    "#is more desireable than a ball\n",
    "#could change where descript = 0 to weak contact or hard contact if model not working well\n",
    "\n",
    "\n"
   ]
  },
  {
   "cell_type": "markdown",
   "metadata": {},
   "source": [
    "Possible Outcomes: ball, foul, called_strike, out, swinging_strike, solid_contact, weak_contact, hit_by_pitch\n",
    "\n",
    "netural: HBP and foul\n",
    "negative: ball, solid_contact\n",
    "postive: 1.swinging strike, 2.out, 3.weak contact 4.called strime"
   ]
  },
  {
   "cell_type": "code",
   "execution_count": 11,
   "metadata": {},
   "outputs": [],
   "source": [
    "a = pd.isna(model_data.description)"
   ]
  },
  {
   "cell_type": "code",
   "execution_count": 12,
   "metadata": {
    "scrolled": true
   },
   "outputs": [
    {
     "data": {
      "text/plain": [
       "False    6450937\n",
       "Name: description, dtype: int64"
      ]
     },
     "execution_count": 12,
     "metadata": {},
     "output_type": "execute_result"
    }
   ],
   "source": [
    "#6 values are null\n",
    "#going to drop them\n",
    "\n",
    "a.value_counts()"
   ]
  },
  {
   "cell_type": "code",
   "execution_count": 5,
   "metadata": {},
   "outputs": [
    {
     "data": {
      "text/plain": [
       "0          False\n",
       "1          False\n",
       "2          False\n",
       "3          False\n",
       "4          False\n",
       "5          False\n",
       "6          False\n",
       "7          False\n",
       "8          False\n",
       "9          False\n",
       "10         False\n",
       "11         False\n",
       "12         False\n",
       "13         False\n",
       "14         False\n",
       "15         False\n",
       "16         False\n",
       "17         False\n",
       "18         False\n",
       "19         False\n",
       "20         False\n",
       "21         False\n",
       "22         False\n",
       "23         False\n",
       "24         False\n",
       "25         False\n",
       "26         False\n",
       "27         False\n",
       "28         False\n",
       "29         False\n",
       "           ...  \n",
       "6450913    False\n",
       "6450914    False\n",
       "6450915    False\n",
       "6450916    False\n",
       "6450917    False\n",
       "6450918    False\n",
       "6450919    False\n",
       "6450920    False\n",
       "6450921    False\n",
       "6450922    False\n",
       "6450923    False\n",
       "6450924    False\n",
       "6450925    False\n",
       "6450926    False\n",
       "6450927    False\n",
       "6450928    False\n",
       "6450929    False\n",
       "6450930    False\n",
       "6450931    False\n",
       "6450932    False\n",
       "6450933    False\n",
       "6450934    False\n",
       "6450935    False\n",
       "6450936    False\n",
       "6450937    False\n",
       "6450938    False\n",
       "6450939    False\n",
       "6450940    False\n",
       "6450941    False\n",
       "6450942    False\n",
       "Name: description, Length: 6450943, dtype: bool"
      ]
     },
     "execution_count": 5,
     "metadata": {},
     "output_type": "execute_result"
    }
   ],
   "source": [
    "a"
   ]
  },
  {
   "cell_type": "code",
   "execution_count": 11,
   "metadata": {},
   "outputs": [],
   "source": [
    "#accidentally created nan values when trying to get get exit velo\n",
    "#still 6 null values, gonna drop them\n",
    "import numpy as np\n",
    "model_data['description'] = np.where(pd.isna(model_data.description), model_data['Concat_Outcome'],\\\n",
    "                                    model_data['description'])"
   ]
  },
  {
   "cell_type": "code",
   "execution_count": 13,
   "metadata": {},
   "outputs": [],
   "source": [
    "#dropped null values in description\n",
    "model_data.to_csv('modeling_ready.csv')"
   ]
  },
  {
   "cell_type": "code",
   "execution_count": 8,
   "metadata": {},
   "outputs": [],
   "source": [
    "model_data.drop(columns= ['Unnamed: 0', 'Unnamed: 0.1', 'Concat_Outcome', 'rename_attempt'], inplace= True)"
   ]
  },
  {
   "cell_type": "code",
   "execution_count": 10,
   "metadata": {},
   "outputs": [],
   "source": [
    "model_data.description.dropna(inplace = True)"
   ]
  },
  {
   "cell_type": "code",
   "execution_count": null,
   "metadata": {},
   "outputs": [],
   "source": [
    "#going to try on a test data set\n",
    "test_data = model_data.loc[1000000:6000000:499]"
   ]
  },
  {
   "cell_type": "code",
   "execution_count": 4,
   "metadata": {
    "scrolled": true
   },
   "outputs": [
    {
     "data": {
      "text/plain": [
       "(10021, 7)"
      ]
     },
     "execution_count": 4,
     "metadata": {},
     "output_type": "execute_result"
    }
   ],
   "source": [
    "#10,000 rows for testing\n",
    "test_data.shape"
   ]
  },
  {
   "cell_type": "code",
   "execution_count": 5,
   "metadata": {},
   "outputs": [
    {
     "data": {
      "text/plain": [
       "4-Seam Fastball    3537\n",
       "Slider             1550\n",
       "2-Seam Fastball    1179\n",
       "Changeup            982\n",
       "Sinker              958\n",
       "Curveball           845\n",
       "Cutter              558\n",
       "Knuckle Curve       197\n",
       "Split Finger        143\n",
       "Knuckle Ball         42\n",
       "Forkball              5\n",
       "Eephus                3\n",
       "Name: pitch_name, dtype: int64"
      ]
     },
     "execution_count": 5,
     "metadata": {},
     "output_type": "execute_result"
    }
   ],
   "source": [
    "test_data.pitch_name.value_counts()"
   ]
  },
  {
   "cell_type": "code",
   "execution_count": 6,
   "metadata": {
    "scrolled": true
   },
   "outputs": [
    {
     "name": "stderr",
     "output_type": "stream",
     "text": [
      "/Users/nickrad/anaconda3/envs/PythonData/lib/python3.6/site-packages/pandas/core/frame.py:3697: SettingWithCopyWarning: \n",
      "A value is trying to be set on a copy of a slice from a DataFrame\n",
      "\n",
      "See the caveats in the documentation: http://pandas.pydata.org/pandas-docs/stable/indexing.html#indexing-view-versus-copy\n",
      "  errors=errors)\n"
     ]
    }
   ],
   "source": [
    "test_data.drop(columns= ['Unnamed: 0', 'Concat_Outcome', 'rename_attempt'] , inplace= True)"
   ]
  },
  {
   "cell_type": "code",
   "execution_count": 7,
   "metadata": {},
   "outputs": [
    {
     "data": {
      "text/html": [
       "<div>\n",
       "<style scoped>\n",
       "    .dataframe tbody tr th:only-of-type {\n",
       "        vertical-align: middle;\n",
       "    }\n",
       "\n",
       "    .dataframe tbody tr th {\n",
       "        vertical-align: top;\n",
       "    }\n",
       "\n",
       "    .dataframe thead th {\n",
       "        text-align: right;\n",
       "    }\n",
       "</style>\n",
       "<table border=\"1\" class=\"dataframe\">\n",
       "  <thead>\n",
       "    <tr style=\"text-align: right;\">\n",
       "      <th></th>\n",
       "      <th>events</th>\n",
       "      <th>pitch_name</th>\n",
       "      <th>description</th>\n",
       "      <th>exit_velocity</th>\n",
       "    </tr>\n",
       "  </thead>\n",
       "  <tbody>\n",
       "    <tr>\n",
       "      <th>1000000</th>\n",
       "      <td>NaN</td>\n",
       "      <td>Sinker</td>\n",
       "      <td>foul</td>\n",
       "      <td>NaN</td>\n",
       "    </tr>\n",
       "    <tr>\n",
       "      <th>1000499</th>\n",
       "      <td>NaN</td>\n",
       "      <td>Knuckle Curve</td>\n",
       "      <td>ball</td>\n",
       "      <td>NaN</td>\n",
       "    </tr>\n",
       "    <tr>\n",
       "      <th>1000998</th>\n",
       "      <td>NaN</td>\n",
       "      <td>4-Seam Fastball</td>\n",
       "      <td>called_strike</td>\n",
       "      <td>NaN</td>\n",
       "    </tr>\n",
       "    <tr>\n",
       "      <th>1001497</th>\n",
       "      <td>NaN</td>\n",
       "      <td>4-Seam Fastball</td>\n",
       "      <td>called_strike</td>\n",
       "      <td>NaN</td>\n",
       "    </tr>\n",
       "    <tr>\n",
       "      <th>1001996</th>\n",
       "      <td>NaN</td>\n",
       "      <td>Slider</td>\n",
       "      <td>foul</td>\n",
       "      <td>NaN</td>\n",
       "    </tr>\n",
       "    <tr>\n",
       "      <th>1002495</th>\n",
       "      <td>out</td>\n",
       "      <td>4-Seam Fastball</td>\n",
       "      <td>out</td>\n",
       "      <td>NaN</td>\n",
       "    </tr>\n",
       "    <tr>\n",
       "      <th>1002994</th>\n",
       "      <td>NaN</td>\n",
       "      <td>Slider</td>\n",
       "      <td>called_strike</td>\n",
       "      <td>NaN</td>\n",
       "    </tr>\n",
       "    <tr>\n",
       "      <th>1003493</th>\n",
       "      <td>NaN</td>\n",
       "      <td>4-Seam Fastball</td>\n",
       "      <td>ball</td>\n",
       "      <td>NaN</td>\n",
       "    </tr>\n",
       "    <tr>\n",
       "      <th>1003992</th>\n",
       "      <td>NaN</td>\n",
       "      <td>4-Seam Fastball</td>\n",
       "      <td>swinging_strike</td>\n",
       "      <td>NaN</td>\n",
       "    </tr>\n",
       "    <tr>\n",
       "      <th>1004491</th>\n",
       "      <td>NaN</td>\n",
       "      <td>4-Seam Fastball</td>\n",
       "      <td>ball</td>\n",
       "      <td>NaN</td>\n",
       "    </tr>\n",
       "    <tr>\n",
       "      <th>1004990</th>\n",
       "      <td>NaN</td>\n",
       "      <td>4-Seam Fastball</td>\n",
       "      <td>ball</td>\n",
       "      <td>NaN</td>\n",
       "    </tr>\n",
       "    <tr>\n",
       "      <th>1005489</th>\n",
       "      <td>NaN</td>\n",
       "      <td>Changeup</td>\n",
       "      <td>ball</td>\n",
       "      <td>NaN</td>\n",
       "    </tr>\n",
       "    <tr>\n",
       "      <th>1005988</th>\n",
       "      <td>NaN</td>\n",
       "      <td>4-Seam Fastball</td>\n",
       "      <td>called_strike</td>\n",
       "      <td>NaN</td>\n",
       "    </tr>\n",
       "    <tr>\n",
       "      <th>1006487</th>\n",
       "      <td>hit</td>\n",
       "      <td>4-Seam Fastball</td>\n",
       "      <td>NaN</td>\n",
       "      <td>NaN</td>\n",
       "    </tr>\n",
       "    <tr>\n",
       "      <th>1006986</th>\n",
       "      <td>strikeout</td>\n",
       "      <td>4-Seam Fastball</td>\n",
       "      <td>swinging_strike</td>\n",
       "      <td>NaN</td>\n",
       "    </tr>\n",
       "    <tr>\n",
       "      <th>1007485</th>\n",
       "      <td>strikeout</td>\n",
       "      <td>Slider</td>\n",
       "      <td>swinging_strike</td>\n",
       "      <td>NaN</td>\n",
       "    </tr>\n",
       "    <tr>\n",
       "      <th>1007984</th>\n",
       "      <td>NaN</td>\n",
       "      <td>Curveball</td>\n",
       "      <td>ball</td>\n",
       "      <td>NaN</td>\n",
       "    </tr>\n",
       "    <tr>\n",
       "      <th>1008483</th>\n",
       "      <td>NaN</td>\n",
       "      <td>4-Seam Fastball</td>\n",
       "      <td>called_strike</td>\n",
       "      <td>NaN</td>\n",
       "    </tr>\n",
       "    <tr>\n",
       "      <th>1008982</th>\n",
       "      <td>NaN</td>\n",
       "      <td>4-Seam Fastball</td>\n",
       "      <td>ball</td>\n",
       "      <td>NaN</td>\n",
       "    </tr>\n",
       "    <tr>\n",
       "      <th>1009481</th>\n",
       "      <td>NaN</td>\n",
       "      <td>Curveball</td>\n",
       "      <td>foul</td>\n",
       "      <td>NaN</td>\n",
       "    </tr>\n",
       "    <tr>\n",
       "      <th>1009980</th>\n",
       "      <td>NaN</td>\n",
       "      <td>Slider</td>\n",
       "      <td>ball</td>\n",
       "      <td>NaN</td>\n",
       "    </tr>\n",
       "    <tr>\n",
       "      <th>1010479</th>\n",
       "      <td>NaN</td>\n",
       "      <td>4-Seam Fastball</td>\n",
       "      <td>foul</td>\n",
       "      <td>NaN</td>\n",
       "    </tr>\n",
       "    <tr>\n",
       "      <th>1010978</th>\n",
       "      <td>NaN</td>\n",
       "      <td>4-Seam Fastball</td>\n",
       "      <td>ball</td>\n",
       "      <td>NaN</td>\n",
       "    </tr>\n",
       "    <tr>\n",
       "      <th>1011477</th>\n",
       "      <td>strikeout</td>\n",
       "      <td>4-Seam Fastball</td>\n",
       "      <td>swinging_strike</td>\n",
       "      <td>NaN</td>\n",
       "    </tr>\n",
       "    <tr>\n",
       "      <th>1011976</th>\n",
       "      <td>hit</td>\n",
       "      <td>2-Seam Fastball</td>\n",
       "      <td>NaN</td>\n",
       "      <td>NaN</td>\n",
       "    </tr>\n",
       "    <tr>\n",
       "      <th>1012475</th>\n",
       "      <td>NaN</td>\n",
       "      <td>Curveball</td>\n",
       "      <td>foul</td>\n",
       "      <td>NaN</td>\n",
       "    </tr>\n",
       "    <tr>\n",
       "      <th>1012974</th>\n",
       "      <td>NaN</td>\n",
       "      <td>2-Seam Fastball</td>\n",
       "      <td>ball</td>\n",
       "      <td>NaN</td>\n",
       "    </tr>\n",
       "    <tr>\n",
       "      <th>1013473</th>\n",
       "      <td>NaN</td>\n",
       "      <td>Slider</td>\n",
       "      <td>ball</td>\n",
       "      <td>NaN</td>\n",
       "    </tr>\n",
       "    <tr>\n",
       "      <th>1013972</th>\n",
       "      <td>NaN</td>\n",
       "      <td>Cutter</td>\n",
       "      <td>ball</td>\n",
       "      <td>NaN</td>\n",
       "    </tr>\n",
       "    <tr>\n",
       "      <th>1014471</th>\n",
       "      <td>NaN</td>\n",
       "      <td>2-Seam Fastball</td>\n",
       "      <td>ball</td>\n",
       "      <td>NaN</td>\n",
       "    </tr>\n",
       "    <tr>\n",
       "      <th>...</th>\n",
       "      <td>...</td>\n",
       "      <td>...</td>\n",
       "      <td>...</td>\n",
       "      <td>...</td>\n",
       "    </tr>\n",
       "    <tr>\n",
       "      <th>5985509</th>\n",
       "      <td>strikeout</td>\n",
       "      <td>4-Seam Fastball</td>\n",
       "      <td>swinging_strike</td>\n",
       "      <td>NaN</td>\n",
       "    </tr>\n",
       "    <tr>\n",
       "      <th>5986008</th>\n",
       "      <td>NaN</td>\n",
       "      <td>Slider</td>\n",
       "      <td>ball</td>\n",
       "      <td>NaN</td>\n",
       "    </tr>\n",
       "    <tr>\n",
       "      <th>5986507</th>\n",
       "      <td>NaN</td>\n",
       "      <td>Slider</td>\n",
       "      <td>swinging_strike</td>\n",
       "      <td>NaN</td>\n",
       "    </tr>\n",
       "    <tr>\n",
       "      <th>5987006</th>\n",
       "      <td>NaN</td>\n",
       "      <td>Slider</td>\n",
       "      <td>ball</td>\n",
       "      <td>NaN</td>\n",
       "    </tr>\n",
       "    <tr>\n",
       "      <th>5987505</th>\n",
       "      <td>NaN</td>\n",
       "      <td>Curveball</td>\n",
       "      <td>ball</td>\n",
       "      <td>NaN</td>\n",
       "    </tr>\n",
       "    <tr>\n",
       "      <th>5988004</th>\n",
       "      <td>hit</td>\n",
       "      <td>4-Seam Fastball</td>\n",
       "      <td>solid_contact</td>\n",
       "      <td>solid_contact</td>\n",
       "    </tr>\n",
       "    <tr>\n",
       "      <th>5988503</th>\n",
       "      <td>out</td>\n",
       "      <td>Changeup</td>\n",
       "      <td>out</td>\n",
       "      <td>weak_contact</td>\n",
       "    </tr>\n",
       "    <tr>\n",
       "      <th>5989002</th>\n",
       "      <td>NaN</td>\n",
       "      <td>4-Seam Fastball</td>\n",
       "      <td>foul</td>\n",
       "      <td>weak_contact</td>\n",
       "    </tr>\n",
       "    <tr>\n",
       "      <th>5989501</th>\n",
       "      <td>walk</td>\n",
       "      <td>2-Seam Fastball</td>\n",
       "      <td>ball</td>\n",
       "      <td>NaN</td>\n",
       "    </tr>\n",
       "    <tr>\n",
       "      <th>5990000</th>\n",
       "      <td>out</td>\n",
       "      <td>Slider</td>\n",
       "      <td>out</td>\n",
       "      <td>weak_contact</td>\n",
       "    </tr>\n",
       "    <tr>\n",
       "      <th>5990499</th>\n",
       "      <td>NaN</td>\n",
       "      <td>4-Seam Fastball</td>\n",
       "      <td>called_strike</td>\n",
       "      <td>NaN</td>\n",
       "    </tr>\n",
       "    <tr>\n",
       "      <th>5990998</th>\n",
       "      <td>NaN</td>\n",
       "      <td>4-Seam Fastball</td>\n",
       "      <td>ball</td>\n",
       "      <td>NaN</td>\n",
       "    </tr>\n",
       "    <tr>\n",
       "      <th>5991497</th>\n",
       "      <td>NaN</td>\n",
       "      <td>Slider</td>\n",
       "      <td>foul</td>\n",
       "      <td>NaN</td>\n",
       "    </tr>\n",
       "    <tr>\n",
       "      <th>5991996</th>\n",
       "      <td>NaN</td>\n",
       "      <td>Slider</td>\n",
       "      <td>foul</td>\n",
       "      <td>weak_contact</td>\n",
       "    </tr>\n",
       "    <tr>\n",
       "      <th>5992495</th>\n",
       "      <td>hit</td>\n",
       "      <td>2-Seam Fastball</td>\n",
       "      <td>solid_contact</td>\n",
       "      <td>solid_contact</td>\n",
       "    </tr>\n",
       "    <tr>\n",
       "      <th>5992994</th>\n",
       "      <td>NaN</td>\n",
       "      <td>Changeup</td>\n",
       "      <td>swinging_strike</td>\n",
       "      <td>NaN</td>\n",
       "    </tr>\n",
       "    <tr>\n",
       "      <th>5993493</th>\n",
       "      <td>NaN</td>\n",
       "      <td>Slider</td>\n",
       "      <td>foul</td>\n",
       "      <td>NaN</td>\n",
       "    </tr>\n",
       "    <tr>\n",
       "      <th>5993992</th>\n",
       "      <td>NaN</td>\n",
       "      <td>Changeup</td>\n",
       "      <td>swinging_strike</td>\n",
       "      <td>NaN</td>\n",
       "    </tr>\n",
       "    <tr>\n",
       "      <th>5994491</th>\n",
       "      <td>NaN</td>\n",
       "      <td>Cutter</td>\n",
       "      <td>foul</td>\n",
       "      <td>NaN</td>\n",
       "    </tr>\n",
       "    <tr>\n",
       "      <th>5994990</th>\n",
       "      <td>NaN</td>\n",
       "      <td>Split Finger</td>\n",
       "      <td>swinging_strike</td>\n",
       "      <td>NaN</td>\n",
       "    </tr>\n",
       "    <tr>\n",
       "      <th>5995489</th>\n",
       "      <td>NaN</td>\n",
       "      <td>2-Seam Fastball</td>\n",
       "      <td>ball</td>\n",
       "      <td>NaN</td>\n",
       "    </tr>\n",
       "    <tr>\n",
       "      <th>5995988</th>\n",
       "      <td>out</td>\n",
       "      <td>4-Seam Fastball</td>\n",
       "      <td>out</td>\n",
       "      <td>weak_contact</td>\n",
       "    </tr>\n",
       "    <tr>\n",
       "      <th>5996487</th>\n",
       "      <td>NaN</td>\n",
       "      <td>4-Seam Fastball</td>\n",
       "      <td>ball</td>\n",
       "      <td>NaN</td>\n",
       "    </tr>\n",
       "    <tr>\n",
       "      <th>5996986</th>\n",
       "      <td>NaN</td>\n",
       "      <td>Knuckle Curve</td>\n",
       "      <td>called_strike</td>\n",
       "      <td>NaN</td>\n",
       "    </tr>\n",
       "    <tr>\n",
       "      <th>5997485</th>\n",
       "      <td>NaN</td>\n",
       "      <td>4-Seam Fastball</td>\n",
       "      <td>foul</td>\n",
       "      <td>solid_contact</td>\n",
       "    </tr>\n",
       "    <tr>\n",
       "      <th>5997984</th>\n",
       "      <td>NaN</td>\n",
       "      <td>2-Seam Fastball</td>\n",
       "      <td>foul</td>\n",
       "      <td>solid_contact</td>\n",
       "    </tr>\n",
       "    <tr>\n",
       "      <th>5998483</th>\n",
       "      <td>NaN</td>\n",
       "      <td>4-Seam Fastball</td>\n",
       "      <td>ball</td>\n",
       "      <td>NaN</td>\n",
       "    </tr>\n",
       "    <tr>\n",
       "      <th>5998982</th>\n",
       "      <td>NaN</td>\n",
       "      <td>2-Seam Fastball</td>\n",
       "      <td>ball</td>\n",
       "      <td>NaN</td>\n",
       "    </tr>\n",
       "    <tr>\n",
       "      <th>5999481</th>\n",
       "      <td>out</td>\n",
       "      <td>Curveball</td>\n",
       "      <td>out</td>\n",
       "      <td>solid_contact</td>\n",
       "    </tr>\n",
       "    <tr>\n",
       "      <th>5999980</th>\n",
       "      <td>NaN</td>\n",
       "      <td>Changeup</td>\n",
       "      <td>foul</td>\n",
       "      <td>weak_contact</td>\n",
       "    </tr>\n",
       "  </tbody>\n",
       "</table>\n",
       "<p>10021 rows × 4 columns</p>\n",
       "</div>"
      ],
      "text/plain": [
       "            events       pitch_name      description  exit_velocity\n",
       "1000000        NaN           Sinker             foul            NaN\n",
       "1000499        NaN    Knuckle Curve             ball            NaN\n",
       "1000998        NaN  4-Seam Fastball    called_strike            NaN\n",
       "1001497        NaN  4-Seam Fastball    called_strike            NaN\n",
       "1001996        NaN           Slider             foul            NaN\n",
       "1002495        out  4-Seam Fastball              out            NaN\n",
       "1002994        NaN           Slider    called_strike            NaN\n",
       "1003493        NaN  4-Seam Fastball             ball            NaN\n",
       "1003992        NaN  4-Seam Fastball  swinging_strike            NaN\n",
       "1004491        NaN  4-Seam Fastball             ball            NaN\n",
       "1004990        NaN  4-Seam Fastball             ball            NaN\n",
       "1005489        NaN         Changeup             ball            NaN\n",
       "1005988        NaN  4-Seam Fastball    called_strike            NaN\n",
       "1006487        hit  4-Seam Fastball              NaN            NaN\n",
       "1006986  strikeout  4-Seam Fastball  swinging_strike            NaN\n",
       "1007485  strikeout           Slider  swinging_strike            NaN\n",
       "1007984        NaN        Curveball             ball            NaN\n",
       "1008483        NaN  4-Seam Fastball    called_strike            NaN\n",
       "1008982        NaN  4-Seam Fastball             ball            NaN\n",
       "1009481        NaN        Curveball             foul            NaN\n",
       "1009980        NaN           Slider             ball            NaN\n",
       "1010479        NaN  4-Seam Fastball             foul            NaN\n",
       "1010978        NaN  4-Seam Fastball             ball            NaN\n",
       "1011477  strikeout  4-Seam Fastball  swinging_strike            NaN\n",
       "1011976        hit  2-Seam Fastball              NaN            NaN\n",
       "1012475        NaN        Curveball             foul            NaN\n",
       "1012974        NaN  2-Seam Fastball             ball            NaN\n",
       "1013473        NaN           Slider             ball            NaN\n",
       "1013972        NaN           Cutter             ball            NaN\n",
       "1014471        NaN  2-Seam Fastball             ball            NaN\n",
       "...            ...              ...              ...            ...\n",
       "5985509  strikeout  4-Seam Fastball  swinging_strike            NaN\n",
       "5986008        NaN           Slider             ball            NaN\n",
       "5986507        NaN           Slider  swinging_strike            NaN\n",
       "5987006        NaN           Slider             ball            NaN\n",
       "5987505        NaN        Curveball             ball            NaN\n",
       "5988004        hit  4-Seam Fastball    solid_contact  solid_contact\n",
       "5988503        out         Changeup              out   weak_contact\n",
       "5989002        NaN  4-Seam Fastball             foul   weak_contact\n",
       "5989501       walk  2-Seam Fastball             ball            NaN\n",
       "5990000        out           Slider              out   weak_contact\n",
       "5990499        NaN  4-Seam Fastball    called_strike            NaN\n",
       "5990998        NaN  4-Seam Fastball             ball            NaN\n",
       "5991497        NaN           Slider             foul            NaN\n",
       "5991996        NaN           Slider             foul   weak_contact\n",
       "5992495        hit  2-Seam Fastball    solid_contact  solid_contact\n",
       "5992994        NaN         Changeup  swinging_strike            NaN\n",
       "5993493        NaN           Slider             foul            NaN\n",
       "5993992        NaN         Changeup  swinging_strike            NaN\n",
       "5994491        NaN           Cutter             foul            NaN\n",
       "5994990        NaN     Split Finger  swinging_strike            NaN\n",
       "5995489        NaN  2-Seam Fastball             ball            NaN\n",
       "5995988        out  4-Seam Fastball              out   weak_contact\n",
       "5996487        NaN  4-Seam Fastball             ball            NaN\n",
       "5996986        NaN    Knuckle Curve    called_strike            NaN\n",
       "5997485        NaN  4-Seam Fastball             foul  solid_contact\n",
       "5997984        NaN  2-Seam Fastball             foul  solid_contact\n",
       "5998483        NaN  4-Seam Fastball             ball            NaN\n",
       "5998982        NaN  2-Seam Fastball             ball            NaN\n",
       "5999481        out        Curveball              out  solid_contact\n",
       "5999980        NaN         Changeup             foul   weak_contact\n",
       "\n",
       "[10021 rows x 4 columns]"
      ]
     },
     "execution_count": 7,
     "metadata": {},
     "output_type": "execute_result"
    }
   ],
   "source": [
    "test_data"
   ]
  },
  {
   "cell_type": "code",
   "execution_count": 8,
   "metadata": {
    "scrolled": false
   },
   "outputs": [
    {
     "data": {
      "text/plain": [
       "ball               3557\n",
       "foul               1848\n",
       "called_strike      1758\n",
       "out                1273\n",
       "swinging_strike     971\n",
       "solid_contact       211\n",
       "weak_contact         82\n",
       "hit_by_pitch         33\n",
       "Name: description, dtype: int64"
      ]
     },
     "execution_count": 8,
     "metadata": {},
     "output_type": "execute_result"
    }
   ],
   "source": [
    "test_data.description.value_counts()"
   ]
  },
  {
   "cell_type": "code",
   "execution_count": null,
   "metadata": {},
   "outputs": [],
   "source": [
    "test_data.columns"
   ]
  },
  {
   "cell_type": "code",
   "execution_count": 3,
   "metadata": {},
   "outputs": [],
   "source": [
    "from sklearn.preprocessing import OrdinalEncoder\n",
    "#the ordinal encoding for the description column\n",
    "#for more advanced, could use ratio\n",
    "ordinal_cols_mapping = [{\n",
    "    'mapping': [\n",
    "        ('ball',1),\n",
    "        ('solid_contact', 2),\n",
    "        ('hit_by_pitch', 3),\n",
    "        ('foul', 4),\n",
    "        ('called_strike',5),\n",
    "        ('weak_contact', 6),\n",
    "        ('out', 7),\n",
    "        ('swinging_strike', 8)\n",
    "        ]}\n",
    "]"
   ]
  },
  {
   "cell_type": "code",
   "execution_count": 46,
   "metadata": {},
   "outputs": [
    {
     "data": {
      "text/plain": [
       "list"
      ]
     },
     "execution_count": 46,
     "metadata": {},
     "output_type": "execute_result"
    }
   ],
   "source": [
    "type(ordinal_cols_mapping)"
   ]
  },
  {
   "cell_type": "code",
   "execution_count": null,
   "metadata": {},
   "outputs": [],
   "source": [
    "#might not need this \n",
    "from sklearn.preprocessing import LabelEncoder\n",
    "le = LabelEncoder()\n",
    "\n",
    "test_data['pitch_name'] = le.fit_transform(test_data['pitch_name'].astype(str))\n",
    "test_data['description'] = le.fit_transform(test_data['description'].astype(str))"
   ]
  },
  {
   "cell_type": "code",
   "execution_count": 31,
   "metadata": {},
   "outputs": [],
   "source": [
    "X = test_data['description']\n",
    "y = test_data['pitch_name']"
   ]
  },
  {
   "cell_type": "code",
   "execution_count": 29,
   "metadata": {
    "scrolled": false
   },
   "outputs": [
    {
     "name": "stderr",
     "output_type": "stream",
     "text": [
      "/Users/nickrad/anaconda3/envs/PythonData/lib/python3.6/site-packages/pandas/core/series.py:3896: SettingWithCopyWarning: \n",
      "A value is trying to be set on a copy of a slice from a DataFrame\n",
      "\n",
      "See the caveats in the documentation: http://pandas.pydata.org/pandas-docs/stable/indexing.html#indexing-view-versus-copy\n",
      "  self._update_inplace(result)\n"
     ]
    }
   ],
   "source": [
    "test_data['description'].dropna(inplace=True)"
   ]
  },
  {
   "cell_type": "code",
   "execution_count": 33,
   "metadata": {},
   "outputs": [],
   "source": [
    "#have to reshape X\n",
    "import numpy as np \n",
    "X = X.values.reshape(-1,1)"
   ]
  },
  {
   "cell_type": "code",
   "execution_count": 17,
   "metadata": {},
   "outputs": [
    {
     "ename": "AttributeError",
     "evalue": "'numpy.ndarray' object has no attribute 'value_counts'",
     "output_type": "error",
     "traceback": [
      "\u001b[0;31m---------------------------------------------------------------------------\u001b[0m",
      "\u001b[0;31mAttributeError\u001b[0m                            Traceback (most recent call last)",
      "\u001b[0;32m<ipython-input-17-5bee073744d7>\u001b[0m in \u001b[0;36m<module>\u001b[0;34m\u001b[0m\n\u001b[0;32m----> 1\u001b[0;31m \u001b[0mX\u001b[0m\u001b[0;34m.\u001b[0m\u001b[0mvalue_counts\u001b[0m\u001b[0;34m(\u001b[0m\u001b[0;34m)\u001b[0m\u001b[0;34m\u001b[0m\u001b[0;34m\u001b[0m\u001b[0m\n\u001b[0m",
      "\u001b[0;31mAttributeError\u001b[0m: 'numpy.ndarray' object has no attribute 'value_counts'"
     ]
    }
   ],
   "source": [
    "X.value_counts()"
   ]
  },
  {
   "cell_type": "code",
   "execution_count": null,
   "metadata": {},
   "outputs": [],
   "source": [
    "X"
   ]
  },
  {
   "cell_type": "code",
   "execution_count": 32,
   "metadata": {
    "scrolled": true
   },
   "outputs": [
    {
     "data": {
      "text/plain": [
       "pandas.core.series.Series"
      ]
     },
     "execution_count": 32,
     "metadata": {},
     "output_type": "execute_result"
    }
   ],
   "source": [
    "type(X)"
   ]
  },
  {
   "cell_type": "code",
   "execution_count": 14,
   "metadata": {},
   "outputs": [
    {
     "name": "stdout",
     "output_type": "stream",
     "text": [
      "(10021, 1) (10021,)\n"
     ]
    }
   ],
   "source": [
    "print(X.shape, y.shape)"
   ]
  },
  {
   "cell_type": "code",
   "execution_count": 49,
   "metadata": {},
   "outputs": [
    {
     "ename": "TypeError",
     "evalue": "Singleton array array(OrdinalEncoder(categories='auto', dtype=<class 'numpy.float64'>),\n      dtype=object) cannot be considered a valid collection.",
     "output_type": "error",
     "traceback": [
      "\u001b[0;31m---------------------------------------------------------------------------\u001b[0m",
      "\u001b[0;31mTypeError\u001b[0m                                 Traceback (most recent call last)",
      "\u001b[0;32m<ipython-input-49-11b2629c25cf>\u001b[0m in \u001b[0;36m<module>\u001b[0;34m\u001b[0m\n\u001b[1;32m      1\u001b[0m \u001b[0;31m#need to get y to read as a string\u001b[0m\u001b[0;34m\u001b[0m\u001b[0;34m\u001b[0m\u001b[0;34m\u001b[0m\u001b[0m\n\u001b[1;32m      2\u001b[0m \u001b[0;32mfrom\u001b[0m \u001b[0msklearn\u001b[0m\u001b[0;34m.\u001b[0m\u001b[0mmodel_selection\u001b[0m \u001b[0;32mimport\u001b[0m \u001b[0mtrain_test_split\u001b[0m\u001b[0;34m\u001b[0m\u001b[0;34m\u001b[0m\u001b[0m\n\u001b[0;32m----> 3\u001b[0;31m \u001b[0mX_train\u001b[0m\u001b[0;34m,\u001b[0m \u001b[0mX_test\u001b[0m\u001b[0;34m,\u001b[0m \u001b[0my_train\u001b[0m\u001b[0;34m,\u001b[0m \u001b[0my_test\u001b[0m \u001b[0;34m=\u001b[0m \u001b[0mtrain_test_split\u001b[0m\u001b[0;34m(\u001b[0m\u001b[0mX\u001b[0m\u001b[0;34m,\u001b[0m \u001b[0my\u001b[0m\u001b[0;34m,\u001b[0m \u001b[0mrandom_state\u001b[0m\u001b[0;34m=\u001b[0m\u001b[0;36m0\u001b[0m\u001b[0;34m,\u001b[0m \u001b[0mstratify\u001b[0m\u001b[0;34m=\u001b[0m\u001b[0my\u001b[0m\u001b[0;34m)\u001b[0m\u001b[0;34m\u001b[0m\u001b[0;34m\u001b[0m\u001b[0m\n\u001b[0m",
      "\u001b[0;32m~/anaconda3/envs/PythonData/lib/python3.6/site-packages/sklearn/model_selection/_split.py\u001b[0m in \u001b[0;36mtrain_test_split\u001b[0;34m(*arrays, **options)\u001b[0m\n\u001b[1;32m   2182\u001b[0m         \u001b[0mtest_size\u001b[0m \u001b[0;34m=\u001b[0m \u001b[0;36m0.25\u001b[0m\u001b[0;34m\u001b[0m\u001b[0;34m\u001b[0m\u001b[0m\n\u001b[1;32m   2183\u001b[0m \u001b[0;34m\u001b[0m\u001b[0m\n\u001b[0;32m-> 2184\u001b[0;31m     \u001b[0marrays\u001b[0m \u001b[0;34m=\u001b[0m \u001b[0mindexable\u001b[0m\u001b[0;34m(\u001b[0m\u001b[0;34m*\u001b[0m\u001b[0marrays\u001b[0m\u001b[0;34m)\u001b[0m\u001b[0;34m\u001b[0m\u001b[0;34m\u001b[0m\u001b[0m\n\u001b[0m\u001b[1;32m   2185\u001b[0m \u001b[0;34m\u001b[0m\u001b[0m\n\u001b[1;32m   2186\u001b[0m     \u001b[0;32mif\u001b[0m \u001b[0mshuffle\u001b[0m \u001b[0;32mis\u001b[0m \u001b[0;32mFalse\u001b[0m\u001b[0;34m:\u001b[0m\u001b[0;34m\u001b[0m\u001b[0;34m\u001b[0m\u001b[0m\n",
      "\u001b[0;32m~/anaconda3/envs/PythonData/lib/python3.6/site-packages/sklearn/utils/validation.py\u001b[0m in \u001b[0;36mindexable\u001b[0;34m(*iterables)\u001b[0m\n\u001b[1;32m    258\u001b[0m         \u001b[0;32melse\u001b[0m\u001b[0;34m:\u001b[0m\u001b[0;34m\u001b[0m\u001b[0;34m\u001b[0m\u001b[0m\n\u001b[1;32m    259\u001b[0m             \u001b[0mresult\u001b[0m\u001b[0;34m.\u001b[0m\u001b[0mappend\u001b[0m\u001b[0;34m(\u001b[0m\u001b[0mnp\u001b[0m\u001b[0;34m.\u001b[0m\u001b[0marray\u001b[0m\u001b[0;34m(\u001b[0m\u001b[0mX\u001b[0m\u001b[0;34m)\u001b[0m\u001b[0;34m)\u001b[0m\u001b[0;34m\u001b[0m\u001b[0;34m\u001b[0m\u001b[0m\n\u001b[0;32m--> 260\u001b[0;31m     \u001b[0mcheck_consistent_length\u001b[0m\u001b[0;34m(\u001b[0m\u001b[0;34m*\u001b[0m\u001b[0mresult\u001b[0m\u001b[0;34m)\u001b[0m\u001b[0;34m\u001b[0m\u001b[0;34m\u001b[0m\u001b[0m\n\u001b[0m\u001b[1;32m    261\u001b[0m     \u001b[0;32mreturn\u001b[0m \u001b[0mresult\u001b[0m\u001b[0;34m\u001b[0m\u001b[0;34m\u001b[0m\u001b[0m\n\u001b[1;32m    262\u001b[0m \u001b[0;34m\u001b[0m\u001b[0m\n",
      "\u001b[0;32m~/anaconda3/envs/PythonData/lib/python3.6/site-packages/sklearn/utils/validation.py\u001b[0m in \u001b[0;36mcheck_consistent_length\u001b[0;34m(*arrays)\u001b[0m\n\u001b[1;32m    229\u001b[0m     \"\"\"\n\u001b[1;32m    230\u001b[0m \u001b[0;34m\u001b[0m\u001b[0m\n\u001b[0;32m--> 231\u001b[0;31m     \u001b[0mlengths\u001b[0m \u001b[0;34m=\u001b[0m \u001b[0;34m[\u001b[0m\u001b[0m_num_samples\u001b[0m\u001b[0;34m(\u001b[0m\u001b[0mX\u001b[0m\u001b[0;34m)\u001b[0m \u001b[0;32mfor\u001b[0m \u001b[0mX\u001b[0m \u001b[0;32min\u001b[0m \u001b[0marrays\u001b[0m \u001b[0;32mif\u001b[0m \u001b[0mX\u001b[0m \u001b[0;32mis\u001b[0m \u001b[0;32mnot\u001b[0m \u001b[0;32mNone\u001b[0m\u001b[0;34m]\u001b[0m\u001b[0;34m\u001b[0m\u001b[0;34m\u001b[0m\u001b[0m\n\u001b[0m\u001b[1;32m    232\u001b[0m     \u001b[0muniques\u001b[0m \u001b[0;34m=\u001b[0m \u001b[0mnp\u001b[0m\u001b[0;34m.\u001b[0m\u001b[0munique\u001b[0m\u001b[0;34m(\u001b[0m\u001b[0mlengths\u001b[0m\u001b[0;34m)\u001b[0m\u001b[0;34m\u001b[0m\u001b[0;34m\u001b[0m\u001b[0m\n\u001b[1;32m    233\u001b[0m     \u001b[0;32mif\u001b[0m \u001b[0mlen\u001b[0m\u001b[0;34m(\u001b[0m\u001b[0muniques\u001b[0m\u001b[0;34m)\u001b[0m \u001b[0;34m>\u001b[0m \u001b[0;36m1\u001b[0m\u001b[0;34m:\u001b[0m\u001b[0;34m\u001b[0m\u001b[0;34m\u001b[0m\u001b[0m\n",
      "\u001b[0;32m~/anaconda3/envs/PythonData/lib/python3.6/site-packages/sklearn/utils/validation.py\u001b[0m in \u001b[0;36m<listcomp>\u001b[0;34m(.0)\u001b[0m\n\u001b[1;32m    229\u001b[0m     \"\"\"\n\u001b[1;32m    230\u001b[0m \u001b[0;34m\u001b[0m\u001b[0m\n\u001b[0;32m--> 231\u001b[0;31m     \u001b[0mlengths\u001b[0m \u001b[0;34m=\u001b[0m \u001b[0;34m[\u001b[0m\u001b[0m_num_samples\u001b[0m\u001b[0;34m(\u001b[0m\u001b[0mX\u001b[0m\u001b[0;34m)\u001b[0m \u001b[0;32mfor\u001b[0m \u001b[0mX\u001b[0m \u001b[0;32min\u001b[0m \u001b[0marrays\u001b[0m \u001b[0;32mif\u001b[0m \u001b[0mX\u001b[0m \u001b[0;32mis\u001b[0m \u001b[0;32mnot\u001b[0m \u001b[0;32mNone\u001b[0m\u001b[0;34m]\u001b[0m\u001b[0;34m\u001b[0m\u001b[0;34m\u001b[0m\u001b[0m\n\u001b[0m\u001b[1;32m    232\u001b[0m     \u001b[0muniques\u001b[0m \u001b[0;34m=\u001b[0m \u001b[0mnp\u001b[0m\u001b[0;34m.\u001b[0m\u001b[0munique\u001b[0m\u001b[0;34m(\u001b[0m\u001b[0mlengths\u001b[0m\u001b[0;34m)\u001b[0m\u001b[0;34m\u001b[0m\u001b[0;34m\u001b[0m\u001b[0m\n\u001b[1;32m    233\u001b[0m     \u001b[0;32mif\u001b[0m \u001b[0mlen\u001b[0m\u001b[0;34m(\u001b[0m\u001b[0muniques\u001b[0m\u001b[0;34m)\u001b[0m \u001b[0;34m>\u001b[0m \u001b[0;36m1\u001b[0m\u001b[0;34m:\u001b[0m\u001b[0;34m\u001b[0m\u001b[0;34m\u001b[0m\u001b[0m\n",
      "\u001b[0;32m~/anaconda3/envs/PythonData/lib/python3.6/site-packages/sklearn/utils/validation.py\u001b[0m in \u001b[0;36m_num_samples\u001b[0;34m(x)\u001b[0m\n\u001b[1;32m    140\u001b[0m         \u001b[0;32mif\u001b[0m \u001b[0mlen\u001b[0m\u001b[0;34m(\u001b[0m\u001b[0mx\u001b[0m\u001b[0;34m.\u001b[0m\u001b[0mshape\u001b[0m\u001b[0;34m)\u001b[0m \u001b[0;34m==\u001b[0m \u001b[0;36m0\u001b[0m\u001b[0;34m:\u001b[0m\u001b[0;34m\u001b[0m\u001b[0;34m\u001b[0m\u001b[0m\n\u001b[1;32m    141\u001b[0m             raise TypeError(\"Singleton array %r cannot be considered\"\n\u001b[0;32m--> 142\u001b[0;31m                             \" a valid collection.\" % x)\n\u001b[0m\u001b[1;32m    143\u001b[0m         \u001b[0;31m# Check that shape is returning an integer or default to len\u001b[0m\u001b[0;34m\u001b[0m\u001b[0;34m\u001b[0m\u001b[0;34m\u001b[0m\u001b[0m\n\u001b[1;32m    144\u001b[0m         \u001b[0;31m# Dask dataframes may not return numeric shape[0] value\u001b[0m\u001b[0;34m\u001b[0m\u001b[0;34m\u001b[0m\u001b[0;34m\u001b[0m\u001b[0m\n",
      "\u001b[0;31mTypeError\u001b[0m: Singleton array array(OrdinalEncoder(categories='auto', dtype=<class 'numpy.float64'>),\n      dtype=object) cannot be considered a valid collection."
     ]
    }
   ],
   "source": [
    "#need to get y to read as a string\n",
    "from sklearn.model_selection import train_test_split\n",
    "X_train, X_test, y_train, y_test = train_test_split(X, y, random_state=0, stratify=y)\n"
   ]
  },
  {
   "cell_type": "code",
   "execution_count": null,
   "metadata": {},
   "outputs": [],
   "source": [
    "from sklearn.linear_model import SGDClassifier"
   ]
  },
  {
   "cell_type": "code",
   "execution_count": null,
   "metadata": {},
   "outputs": [],
   "source": [
    "np.isnan(X)"
   ]
  },
  {
   "cell_type": "code",
   "execution_count": 34,
   "metadata": {},
   "outputs": [
    {
     "data": {
      "text/plain": [
       "array(['ball', 'called_strike', 'foul', 'hit_by_pitch', 'out',\n",
       "       'solid_contact', 'swinging_strike', 'weak_contact'], dtype=object)"
      ]
     },
     "execution_count": 34,
     "metadata": {},
     "output_type": "execute_result"
    }
   ],
   "source": [
    "np.unique(X)"
   ]
  },
  {
   "cell_type": "code",
   "execution_count": 2,
   "metadata": {},
   "outputs": [
    {
     "ename": "NameError",
     "evalue": "name 'OrdinalEncoder' is not defined",
     "output_type": "error",
     "traceback": [
      "\u001b[0;31m---------------------------------------------------------------------------\u001b[0m",
      "\u001b[0;31mNameError\u001b[0m                                 Traceback (most recent call last)",
      "\u001b[0;32m<ipython-input-2-e6eb77c2a9ec>\u001b[0m in \u001b[0;36m<module>\u001b[0;34m\u001b[0m\n\u001b[0;32m----> 1\u001b[0;31m \u001b[0mencoder\u001b[0m \u001b[0;34m=\u001b[0m \u001b[0mOrdinalEncoder\u001b[0m\u001b[0;34m(\u001b[0m\u001b[0;34m)\u001b[0m\u001b[0;34m\u001b[0m\u001b[0;34m\u001b[0m\u001b[0m\n\u001b[0m\u001b[1;32m      2\u001b[0m \u001b[0mencoder\u001b[0m\u001b[0;34m.\u001b[0m\u001b[0mfit\u001b[0m\u001b[0;34m(\u001b[0m\u001b[0mX\u001b[0m\u001b[0;34m)\u001b[0m\u001b[0;34m\u001b[0m\u001b[0;34m\u001b[0m\u001b[0m\n",
      "\u001b[0;31mNameError\u001b[0m: name 'OrdinalEncoder' is not defined"
     ]
    }
   ],
   "source": [
    "encoder = OrdinalEncoder()\n",
    "encoder.fit(X)"
   ]
  },
  {
   "cell_type": "code",
   "execution_count": 1,
   "metadata": {},
   "outputs": [
    {
     "ename": "NameError",
     "evalue": "name 'X' is not defined",
     "output_type": "error",
     "traceback": [
      "\u001b[0;31m---------------------------------------------------------------------------\u001b[0m",
      "\u001b[0;31mNameError\u001b[0m                                 Traceback (most recent call last)",
      "\u001b[0;32m<ipython-input-1-179cf50426b5>\u001b[0m in \u001b[0;36m<module>\u001b[0;34m\u001b[0m\n\u001b[0;32m----> 1\u001b[0;31m \u001b[0mtype\u001b[0m\u001b[0;34m(\u001b[0m\u001b[0mX\u001b[0m\u001b[0;34m)\u001b[0m\u001b[0;34m\u001b[0m\u001b[0;34m\u001b[0m\u001b[0m\n\u001b[0m",
      "\u001b[0;31mNameError\u001b[0m: name 'X' is not defined"
     ]
    }
   ],
   "source": [
    "type(X)"
   ]
  },
  {
   "cell_type": "code",
   "execution_count": 37,
   "metadata": {},
   "outputs": [
    {
     "data": {
      "text/plain": [
       "[['Male', 1], ['Female', 3], ['Female', 2]]"
      ]
     },
     "execution_count": 37,
     "metadata": {},
     "output_type": "execute_result"
    }
   ],
   "source": [
    "[['Male', 1], ['Female', 3], ['Female', 2]]"
   ]
  },
  {
   "cell_type": "code",
   "execution_count": 38,
   "metadata": {},
   "outputs": [
    {
     "data": {
      "text/plain": [
       "list"
      ]
     },
     "execution_count": 38,
     "metadata": {},
     "output_type": "execute_result"
    }
   ],
   "source": [
    "type([['Male', 1], ['Female', 3], ['Female', 2]])"
   ]
  },
  {
   "cell_type": "code",
   "execution_count": 39,
   "metadata": {},
   "outputs": [
    {
     "data": {
      "text/plain": [
       "numpy.ndarray"
      ]
     },
     "execution_count": 39,
     "metadata": {},
     "output_type": "execute_result"
    }
   ],
   "source": [
    "type(X)"
   ]
  },
  {
   "cell_type": "code",
   "execution_count": 41,
   "metadata": {},
   "outputs": [],
   "source": [
    "X= X.tolist()"
   ]
  },
  {
   "cell_type": "code",
   "execution_count": 44,
   "metadata": {},
   "outputs": [
    {
     "data": {
      "text/plain": [
       "list"
      ]
     },
     "execution_count": 44,
     "metadata": {},
     "output_type": "execute_result"
    }
   ],
   "source": [
    "type(X)"
   ]
  },
  {
   "cell_type": "code",
   "execution_count": null,
   "metadata": {},
   "outputs": [],
   "source": []
  }
 ],
 "metadata": {
  "kernelspec": {
   "display_name": "Python 3",
   "language": "python",
   "name": "python3"
  },
  "language_info": {
   "codemirror_mode": {
    "name": "ipython",
    "version": 3
   },
   "file_extension": ".py",
   "mimetype": "text/x-python",
   "name": "python",
   "nbconvert_exporter": "python",
   "pygments_lexer": "ipython3",
   "version": "3.6.7"
  }
 },
 "nbformat": 4,
 "nbformat_minor": 2
}
