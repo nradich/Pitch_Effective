{
 "cells": [
  {
   "cell_type": "code",
   "execution_count": 1,
   "metadata": {},
   "outputs": [],
   "source": [
    "import pandas as pd\n",
    "data = pd.read_csv('lefty_revised.csv')"
   ]
  },
  {
   "cell_type": "code",
   "execution_count": null,
   "metadata": {},
   "outputs": [],
   "source": [
    "data.drop(columns=['Unnamed: 0'], inplace=True)"
   ]
  },
  {
   "cell_type": "code",
   "execution_count": 14,
   "metadata": {},
   "outputs": [],
   "source": [
    "data.drop(columns=['game_date'], inplace=True)"
   ]
  },
  {
   "cell_type": "code",
   "execution_count": 23,
   "metadata": {},
   "outputs": [],
   "source": [
    "data.drop(columns=['type'], inplace=True)"
   ]
  },
  {
   "cell_type": "code",
   "execution_count": 24,
   "metadata": {},
   "outputs": [
    {
     "data": {
      "text/html": [
       "<div>\n",
       "<style scoped>\n",
       "    .dataframe tbody tr th:only-of-type {\n",
       "        vertical-align: middle;\n",
       "    }\n",
       "\n",
       "    .dataframe tbody tr th {\n",
       "        vertical-align: top;\n",
       "    }\n",
       "\n",
       "    .dataframe thead th {\n",
       "        text-align: right;\n",
       "    }\n",
       "</style>\n",
       "<table border=\"1\" class=\"dataframe\">\n",
       "  <thead>\n",
       "    <tr style=\"text-align: right;\">\n",
       "      <th></th>\n",
       "      <th>pitch_name</th>\n",
       "      <th>release_speed</th>\n",
       "      <th>events</th>\n",
       "      <th>description</th>\n",
       "      <th>effective_speed</th>\n",
       "      <th>release_spin_rate</th>\n",
       "      <th>vx0</th>\n",
       "      <th>vy0</th>\n",
       "      <th>vz0</th>\n",
       "      <th>ax</th>\n",
       "      <th>ay</th>\n",
       "      <th>az</th>\n",
       "      <th>pfx_x</th>\n",
       "      <th>pfx_z</th>\n",
       "      <th>bauer_units</th>\n",
       "    </tr>\n",
       "  </thead>\n",
       "  <tbody>\n",
       "    <tr>\n",
       "      <th>0</th>\n",
       "      <td>Cutter</td>\n",
       "      <td>90.4</td>\n",
       "      <td>6</td>\n",
       "      <td>4</td>\n",
       "      <td>90.193</td>\n",
       "      <td>2449.0</td>\n",
       "      <td>-7.065</td>\n",
       "      <td>-131.512</td>\n",
       "      <td>-3.298</td>\n",
       "      <td>-3.334</td>\n",
       "      <td>27.861</td>\n",
       "      <td>-30.520</td>\n",
       "      <td>-0.394417</td>\n",
       "      <td>0.329000</td>\n",
       "      <td>27.090708</td>\n",
       "    </tr>\n",
       "    <tr>\n",
       "      <th>1</th>\n",
       "      <td>Slider</td>\n",
       "      <td>81.5</td>\n",
       "      <td>0</td>\n",
       "      <td>0</td>\n",
       "      <td>81.301</td>\n",
       "      <td>2293.0</td>\n",
       "      <td>-7.940</td>\n",
       "      <td>-118.390</td>\n",
       "      <td>-2.930</td>\n",
       "      <td>-0.977</td>\n",
       "      <td>18.714</td>\n",
       "      <td>-31.765</td>\n",
       "      <td>-0.224633</td>\n",
       "      <td>0.232967</td>\n",
       "      <td>28.134969</td>\n",
       "    </tr>\n",
       "    <tr>\n",
       "      <th>2</th>\n",
       "      <td>Curveball</td>\n",
       "      <td>77.1</td>\n",
       "      <td>0</td>\n",
       "      <td>0</td>\n",
       "      <td>75.063</td>\n",
       "      <td>2543.0</td>\n",
       "      <td>-6.290</td>\n",
       "      <td>-112.149</td>\n",
       "      <td>-2.442</td>\n",
       "      <td>-4.252</td>\n",
       "      <td>25.153</td>\n",
       "      <td>-42.517</td>\n",
       "      <td>-0.607342</td>\n",
       "      <td>-1.004000</td>\n",
       "      <td>32.983139</td>\n",
       "    </tr>\n",
       "    <tr>\n",
       "      <th>3</th>\n",
       "      <td>Cutter</td>\n",
       "      <td>87.6</td>\n",
       "      <td>0</td>\n",
       "      <td>6</td>\n",
       "      <td>86.856</td>\n",
       "      <td>2513.0</td>\n",
       "      <td>-5.742</td>\n",
       "      <td>-127.487</td>\n",
       "      <td>-2.031</td>\n",
       "      <td>0.472</td>\n",
       "      <td>27.321</td>\n",
       "      <td>-28.650</td>\n",
       "      <td>-0.089642</td>\n",
       "      <td>0.502433</td>\n",
       "      <td>28.687215</td>\n",
       "    </tr>\n",
       "    <tr>\n",
       "      <th>4</th>\n",
       "      <td>Cutter</td>\n",
       "      <td>86.2</td>\n",
       "      <td>0</td>\n",
       "      <td>6</td>\n",
       "      <td>86.030</td>\n",
       "      <td>2422.0</td>\n",
       "      <td>-6.874</td>\n",
       "      <td>-125.377</td>\n",
       "      <td>-2.652</td>\n",
       "      <td>-1.359</td>\n",
       "      <td>24.380</td>\n",
       "      <td>-28.309</td>\n",
       "      <td>-0.248292</td>\n",
       "      <td>0.539700</td>\n",
       "      <td>28.097448</td>\n",
       "    </tr>\n",
       "  </tbody>\n",
       "</table>\n",
       "</div>"
      ],
      "text/plain": [
       "  pitch_name  release_speed  events  description  effective_speed  \\\n",
       "0     Cutter           90.4       6            4           90.193   \n",
       "1     Slider           81.5       0            0           81.301   \n",
       "2  Curveball           77.1       0            0           75.063   \n",
       "3     Cutter           87.6       0            6           86.856   \n",
       "4     Cutter           86.2       0            6           86.030   \n",
       "\n",
       "   release_spin_rate    vx0      vy0    vz0     ax      ay      az     pfx_x  \\\n",
       "0             2449.0 -7.065 -131.512 -3.298 -3.334  27.861 -30.520 -0.394417   \n",
       "1             2293.0 -7.940 -118.390 -2.930 -0.977  18.714 -31.765 -0.224633   \n",
       "2             2543.0 -6.290 -112.149 -2.442 -4.252  25.153 -42.517 -0.607342   \n",
       "3             2513.0 -5.742 -127.487 -2.031  0.472  27.321 -28.650 -0.089642   \n",
       "4             2422.0 -6.874 -125.377 -2.652 -1.359  24.380 -28.309 -0.248292   \n",
       "\n",
       "      pfx_z  bauer_units  \n",
       "0  0.329000    27.090708  \n",
       "1  0.232967    28.134969  \n",
       "2 -1.004000    32.983139  \n",
       "3  0.502433    28.687215  \n",
       "4  0.539700    28.097448  "
      ]
     },
     "execution_count": 24,
     "metadata": {},
     "output_type": "execute_result"
    }
   ],
   "source": [
    "data.head()"
   ]
  },
  {
   "cell_type": "code",
   "execution_count": 25,
   "metadata": {},
   "outputs": [],
   "source": [
    "#label encoding events and descriptions\n",
    "from sklearn.preprocessing import LabelEncoder\n",
    "encoder = LabelEncoder()\n",
    "data['events'] = encoder.fit_transform(data['events'])\n",
    "data['description']= encoder.fit_transform(data['description'])"
   ]
  },
  {
   "cell_type": "code",
   "execution_count": 26,
   "metadata": {},
   "outputs": [],
   "source": [
    "#not going to use test data this time around\n",
    "test_data = data.loc[100:750000:60]"
   ]
  },
  {
   "cell_type": "code",
   "execution_count": 27,
   "metadata": {},
   "outputs": [
    {
     "data": {
      "text/plain": [
       "(12442, 15)"
      ]
     },
     "execution_count": 27,
     "metadata": {},
     "output_type": "execute_result"
    }
   ],
   "source": [
    "test_data.shape"
   ]
  },
  {
   "cell_type": "code",
   "execution_count": 28,
   "metadata": {},
   "outputs": [],
   "source": [
    "X = test_data.drop('pitch_name', axis =1)\n",
    "y = test_data.pitch_name"
   ]
  },
  {
   "cell_type": "code",
   "execution_count": 54,
   "metadata": {},
   "outputs": [],
   "source": [
    "#train and test data\n",
    "from sklearn.model_selection import train_test_split\n",
    "\n",
    "X_train, X_test, y_train, y_test = train_test_split(X, y, random_state=1)"
   ]
  },
  {
   "cell_type": "code",
   "execution_count": 30,
   "metadata": {},
   "outputs": [
    {
     "data": {
      "text/plain": [
       "LogisticRegression(C=100000.0, class_weight=None, dual=False,\n",
       "          fit_intercept=True, intercept_scaling=1, max_iter=100,\n",
       "          multi_class='multinomial', n_jobs=None, penalty='l2',\n",
       "          random_state=None, solver='newton-cg', tol=0.0001, verbose=0,\n",
       "          warm_start=False)"
      ]
     },
     "execution_count": 30,
     "metadata": {},
     "output_type": "execute_result"
    }
   ],
   "source": [
    "#performing a logistic regression to see the baseline\n",
    "from sklearn.linear_model import LogisticRegression\n",
    "classifier = LogisticRegression(multi_class= 'multinomial', solver='newton-cg', C=1e5)\n",
    "classifier"
   ]
  },
  {
   "cell_type": "code",
   "execution_count": 31,
   "metadata": {},
   "outputs": [
    {
     "name": "stderr",
     "output_type": "stream",
     "text": [
      "/Users/nickrad/anaconda3/envs/PythonData/lib/python3.6/site-packages/sklearn/utils/optimize.py:203: ConvergenceWarning: newton-cg failed to converge. Increase the number of iterations.\n",
      "  \"number of iterations.\", ConvergenceWarning)\n"
     ]
    },
    {
     "data": {
      "text/plain": [
       "LogisticRegression(C=100000.0, class_weight=None, dual=False,\n",
       "          fit_intercept=True, intercept_scaling=1, max_iter=100,\n",
       "          multi_class='multinomial', n_jobs=None, penalty='l2',\n",
       "          random_state=None, solver='newton-cg', tol=0.0001, verbose=0,\n",
       "          warm_start=False)"
      ]
     },
     "execution_count": 31,
     "metadata": {},
     "output_type": "execute_result"
    }
   ],
   "source": [
    "classifier.fit(X_train,y_train)"
   ]
  },
  {
   "cell_type": "code",
   "execution_count": 32,
   "metadata": {},
   "outputs": [
    {
     "name": "stdout",
     "output_type": "stream",
     "text": [
      "Training Data Score: 0.7081770442610653\n",
      "Testing Data Score: 0.7135969141755063\n"
     ]
    }
   ],
   "source": [
    "#got higher scores\n",
    "print(f\"Training Data Score: {classifier.score(X_train, y_train)}\")\n",
    "print(f\"Testing Data Score: {classifier.score(X_test, y_test)}\")"
   ]
  },
  {
   "cell_type": "code",
   "execution_count": 43,
   "metadata": {},
   "outputs": [
    {
     "name": "stdout",
     "output_type": "stream",
     "text": [
      "                 precision    recall  f1-score   support\n",
      "\n",
      "2-Seam Fastball       0.49      0.46      0.48       367\n",
      "4-Seam Fastball       0.80      0.90      0.85      1103\n",
      "       Changeup       0.83      0.92      0.87       411\n",
      "      Curveball       0.78      0.80      0.79       263\n",
      "         Cutter       0.53      0.42      0.47       144\n",
      "  Knuckle Curve       0.63      0.19      0.29        63\n",
      "         Sinker       0.41      0.26      0.32       350\n",
      "         Slider       0.70      0.78      0.74       389\n",
      "   Split Finger       0.40      0.10      0.15        21\n",
      "\n",
      "      micro avg       0.71      0.71      0.71      3111\n",
      "      macro avg       0.62      0.54      0.55      3111\n",
      "   weighted avg       0.69      0.71      0.69      3111\n",
      "\n"
     ]
    }
   ],
   "source": [
    "predictions = classifier.predict(X_test)\n",
    "from sklearn.metrics import classification_report\n",
    "print(classification_report( y_test, predictions))"
   ]
  },
  {
   "cell_type": "code",
   "execution_count": 35,
   "metadata": {},
   "outputs": [
    {
     "name": "stderr",
     "output_type": "stream",
     "text": [
      "/Users/nickrad/anaconda3/envs/PythonData/lib/python3.6/site-packages/sklearn/linear_model/stochastic_gradient.py:152: DeprecationWarning: n_iter parameter is deprecated in 0.19 and will be removed in 0.21. Use max_iter and tol instead.\n",
      "  DeprecationWarning)\n"
     ]
    },
    {
     "data": {
      "text/plain": [
       "SGDClassifier(alpha=0.0001, average=False, class_weight=None,\n",
       "       early_stopping=False, epsilon=0.1, eta0=0.0, fit_intercept=True,\n",
       "       l1_ratio=0.15, learning_rate='optimal', loss='hinge', max_iter=None,\n",
       "       n_iter=10, n_iter_no_change=5, n_jobs=None, penalty='l2',\n",
       "       power_t=0.5, random_state=None, shuffle=True, tol=None,\n",
       "       validation_fraction=0.1, verbose=0, warm_start=False)"
      ]
     },
     "execution_count": 35,
     "metadata": {},
     "output_type": "execute_result"
    }
   ],
   "source": [
    "#importing SGD cal\n",
    "from sklearn.linear_model import SGDClassifier\n",
    "SGD = SGDClassifier(n_iter= 10,)\n",
    "SGD.fit(X_train,y_train)"
   ]
  },
  {
   "cell_type": "code",
   "execution_count": 36,
   "metadata": {},
   "outputs": [
    {
     "data": {
      "text/plain": [
       "0.46383799421407906"
      ]
     },
     "execution_count": 36,
     "metadata": {},
     "output_type": "execute_result"
    }
   ],
   "source": [
    "SGD.score(X_test, y_test)"
   ]
  },
  {
   "cell_type": "code",
   "execution_count": 42,
   "metadata": {},
   "outputs": [
    {
     "name": "stdout",
     "output_type": "stream",
     "text": [
      "                 precision    recall  f1-score   support\n",
      "\n",
      "2-Seam Fastball       0.00      0.00      0.00       367\n",
      "4-Seam Fastball       0.48      0.99      0.65      1103\n",
      "       Changeup       0.58      0.23      0.33       411\n",
      "      Curveball       0.37      0.96      0.54       263\n",
      "         Cutter       0.00      0.00      0.00       144\n",
      "  Knuckle Curve       0.00      0.00      0.00        63\n",
      "         Sinker       0.00      0.00      0.00       350\n",
      "         Slider       0.00      0.00      0.00       389\n",
      "   Split Finger       0.00      0.00      0.00        21\n",
      "\n",
      "      micro avg       0.46      0.46      0.46      3111\n",
      "      macro avg       0.16      0.24      0.17      3111\n",
      "   weighted avg       0.28      0.46      0.32      3111\n",
      "\n"
     ]
    },
    {
     "name": "stderr",
     "output_type": "stream",
     "text": [
      "/Users/nickrad/anaconda3/envs/PythonData/lib/python3.6/site-packages/sklearn/metrics/classification.py:1143: UndefinedMetricWarning: Precision and F-score are ill-defined and being set to 0.0 in labels with no predicted samples.\n",
      "  'precision', 'predicted', average, warn_for)\n"
     ]
    }
   ],
   "source": [
    "#not bad, might want to look into improving model\n",
    "SGDpredict = SGD.predict(X_test)\n",
    "from sklearn.metrics import classification_report\n",
    "print(classification_report( y_test, SGDpredict))"
   ]
  },
  {
   "cell_type": "code",
   "execution_count": 38,
   "metadata": {},
   "outputs": [
    {
     "data": {
      "text/plain": [
       "GradientBoostingClassifier(criterion='friedman_mse', init=None,\n",
       "              learning_rate=0.1, loss='deviance', max_depth=3,\n",
       "              max_features=None, max_leaf_nodes=None,\n",
       "              min_impurity_decrease=0.0, min_impurity_split=None,\n",
       "              min_samples_leaf=1, min_samples_split=2,\n",
       "              min_weight_fraction_leaf=0.0, n_estimators=100,\n",
       "              n_iter_no_change=None, presort='auto', random_state=None,\n",
       "              subsample=1.0, tol=0.0001, validation_fraction=0.1,\n",
       "              verbose=0, warm_start=False)"
      ]
     },
     "execution_count": 38,
     "metadata": {},
     "output_type": "execute_result"
    }
   ],
   "source": [
    "#trying gradient boosting\n",
    "#definitely the best so far\n",
    "from sklearn.ensemble import GradientBoostingClassifier\n",
    "model = GradientBoostingClassifier()\n",
    "model.fit(X_train, y_train)"
   ]
  },
  {
   "cell_type": "code",
   "execution_count": 39,
   "metadata": {},
   "outputs": [
    {
     "name": "stdout",
     "output_type": "stream",
     "text": [
      "R-squared = 0.8194191404994106\n"
     ]
    }
   ],
   "source": [
    "print(f\"R-squared = {model.score(X_train,y_train)}\")"
   ]
  },
  {
   "cell_type": "code",
   "execution_count": 41,
   "metadata": {},
   "outputs": [
    {
     "data": {
      "image/png": "[encoded data removed]",
      "text/plain": [
       "<Figure size 1080x360 with 1 Axes>"
      ]
     },
     "metadata": {
      "needs_background": "light"
     },
     "output_type": "display_data"
    }
   ],
   "source": [
    "import matplotlib.pyplot as plt\n",
    "plt.figure(1, figsize=(15, 5))\n",
    "plt.bar(range(len(model.feature_importances_)), model.feature_importances_)\n",
    "labels = list(X_train)\n",
    "plt.xticks(range(len(model.feature_importances_)), labels, rotation='vertical')\n",
    "plt.xlabel(\"Features\")\n",
    "plt.ylabel(\"Importance\")\n",
    "plt.title(\"Features Importance\")\n",
    "plt.show()"
   ]
  },
  {
   "cell_type": "code",
   "execution_count": 44,
   "metadata": {},
   "outputs": [
    {
     "name": "stdout",
     "output_type": "stream",
     "text": [
      "                 precision    recall  f1-score   support\n",
      "\n",
      "2-Seam Fastball       0.49      0.47      0.48       367\n",
      "4-Seam Fastball       0.81      0.91      0.86      1103\n",
      "       Changeup       0.83      0.89      0.86       411\n",
      "      Curveball       0.80      0.79      0.80       263\n",
      "         Cutter       0.52      0.51      0.52       144\n",
      "  Knuckle Curve       0.49      0.37      0.42        63\n",
      "         Sinker       0.46      0.29      0.36       350\n",
      "         Slider       0.72      0.72      0.72       389\n",
      "   Split Finger       0.56      0.24      0.33        21\n",
      "\n",
      "      micro avg       0.72      0.72      0.72      3111\n",
      "      macro avg       0.63      0.58      0.59      3111\n",
      "   weighted avg       0.70      0.72      0.71      3111\n",
      "\n"
     ]
    }
   ],
   "source": [
    "treepredict = model.predict(X_test)\n",
    "from sklearn.metrics import classification_report\n",
    "print(classification_report(y_test, treepredict))"
   ]
  },
  {
   "cell_type": "code",
   "execution_count": 47,
   "metadata": {},
   "outputs": [],
   "source": [
    "#have to encode Y for SGD regressor\n",
    "from sklearn.preprocessing import LabelEncoder\n",
    "encoder = LabelEncoder()\n",
    "Y_encode = encoder.fit_transform(y)"
   ]
  },
  {
   "cell_type": "code",
   "execution_count": 48,
   "metadata": {},
   "outputs": [],
   "source": [
    "#train test split again\n",
    "from sklearn.model_selection import train_test_split\n",
    "\n",
    "X_train, X_test, y_train, y_test = train_test_split(X, Y_encode, random_state=1)"
   ]
  },
  {
   "cell_type": "code",
   "execution_count": 49,
   "metadata": {},
   "outputs": [
    {
     "data": {
      "text/plain": [
       "SGDRegressor(alpha=0.0001, average=False, early_stopping=False, epsilon=0.1,\n",
       "       eta0=0.01, fit_intercept=True, l1_ratio=0.15,\n",
       "       learning_rate='invscaling', loss='squared_loss', max_iter=1000,\n",
       "       n_iter=None, n_iter_no_change=5, penalty='l2', power_t=0.25,\n",
       "       random_state=None, shuffle=True, tol=0.001, validation_fraction=0.1,\n",
       "       verbose=0, warm_start=False)"
      ]
     },
     "execution_count": 49,
     "metadata": {},
     "output_type": "execute_result"
    }
   ],
   "source": [
    "from sklearn.linear_model import SGDRegressor\n",
    "modeling = SGDRegressor(max_iter=1000, tol=1e-3)\n",
    "modeling.fit(X_train, y_train)"
   ]
  },
  {
   "cell_type": "code",
   "execution_count": 50,
   "metadata": {},
   "outputs": [
    {
     "data": {
      "text/plain": [
       "-2.0318553619103415e+29"
      ]
     },
     "execution_count": 50,
     "metadata": {},
     "output_type": "execute_result"
    }
   ],
   "source": [
    "#not good\n",
    "modeling.score(X_train, y_train)"
   ]
  },
  {
   "cell_type": "code",
   "execution_count": 64,
   "metadata": {},
   "outputs": [
    {
     "data": {
      "text/plain": [
       "SVC(C=1.0, cache_size=200, class_weight=None, coef0=0.0,\n",
       "  decision_function_shape='ovo', degree=3, gamma='scale', kernel='rbf',\n",
       "  max_iter=-1, probability=False, random_state=None, shrinking=True,\n",
       "  tol=0.001, verbose=False)"
      ]
     },
     "execution_count": 64,
     "metadata": {},
     "output_type": "execute_result"
    }
   ],
   "source": [
    "#going to try kernal approx\n",
    "from sklearn import svm\n",
    "clf = svm.SVC(gamma='scale',decision_function_shape='ovo')\n",
    "clf.fit(X_train, y_train)"
   ]
  },
  {
   "cell_type": "code",
   "execution_count": 65,
   "metadata": {},
   "outputs": [
    {
     "data": {
      "text/plain": [
       "0.6738827564033866"
      ]
     },
     "execution_count": 65,
     "metadata": {},
     "output_type": "execute_result"
    }
   ],
   "source": [
    "clf.score(X_train, y_train)"
   ]
  },
  {
   "cell_type": "code",
   "execution_count": 66,
   "metadata": {},
   "outputs": [
    {
     "name": "stdout",
     "output_type": "stream",
     "text": [
      "                 precision    recall  f1-score   support\n",
      "\n",
      "2-Seam Fastball       0.42      0.41      0.41       367\n",
      "4-Seam Fastball       0.72      0.94      0.82      1103\n",
      "       Changeup       0.72      0.86      0.79       411\n",
      "      Curveball       0.80      0.75      0.78       263\n",
      "         Cutter       0.52      0.23      0.32       144\n",
      "  Knuckle Curve       0.00      0.00      0.00        63\n",
      "         Sinker       0.34      0.04      0.07       350\n",
      "         Slider       0.63      0.77      0.69       389\n",
      "   Split Finger       0.00      0.00      0.00        21\n",
      "\n",
      "      micro avg       0.67      0.67      0.67      3111\n",
      "      macro avg       0.46      0.44      0.43      3111\n",
      "   weighted avg       0.61      0.67      0.62      3111\n",
      "\n"
     ]
    },
    {
     "name": "stderr",
     "output_type": "stream",
     "text": [
      "/Users/nickrad/anaconda3/envs/PythonData/lib/python3.6/site-packages/sklearn/metrics/classification.py:1143: UndefinedMetricWarning: Precision and F-score are ill-defined and being set to 0.0 in labels with no predicted samples.\n",
      "  'precision', 'predicted', average, warn_for)\n"
     ]
    }
   ],
   "source": [
    "clf_predict = clf.predict(X_test)\n",
    "from sklearn.metrics import classification_report\n",
    "print(classification_report(y_test, clf_predict))"
   ]
  },
  {
   "cell_type": "code",
   "execution_count": 69,
   "metadata": {},
   "outputs": [],
   "source": [
    "#train test split again\n",
    "from sklearn.model_selection import train_test_split\n",
    "\n",
    "X_train, X_test, y_train, y_test = train_test_split(X, Y_encode, random_state=1)"
   ]
  },
  {
   "cell_type": "code",
   "execution_count": 70,
   "metadata": {},
   "outputs": [
    {
     "name": "stderr",
     "output_type": "stream",
     "text": [
      "/Users/nickrad/anaconda3/envs/PythonData/lib/python3.6/site-packages/sklearn/svm/base.py:196: FutureWarning: The default value of gamma will change from 'auto' to 'scale' in version 0.22 to account better for unscaled features. Set gamma explicitly to 'auto' or 'scale' to avoid this warning.\n",
      "  \"avoid this warning.\", FutureWarning)\n"
     ]
    },
    {
     "data": {
      "text/plain": [
       "SVR(C=1.0, cache_size=200, coef0=0.0, degree=3, epsilon=0.1,\n",
       "  gamma='auto_deprecated', kernel='rbf', max_iter=-1, shrinking=True,\n",
       "  tol=0.001, verbose=False)"
      ]
     },
     "execution_count": 70,
     "metadata": {},
     "output_type": "execute_result"
    }
   ],
   "source": [
    "#going to try kernal approx\n",
    "#important to SCALE!!!!\n",
    "#https://scikit-learn.org/stable/modules/svm.html#svm\n",
    "from sklearn import svm\n",
    "clfSVR = svm.SVR()\n",
    "clfSVR.fit(X_train, y_train)"
   ]
  },
  {
   "cell_type": "code",
   "execution_count": 71,
   "metadata": {},
   "outputs": [
    {
     "data": {
      "text/plain": [
       "0.4105425115024892"
      ]
     },
     "execution_count": 71,
     "metadata": {},
     "output_type": "execute_result"
    }
   ],
   "source": [
    "#not great\n",
    "clfSVR.score(X_train, y_train)"
   ]
  },
  {
   "cell_type": "code",
   "execution_count": null,
   "metadata": {},
   "outputs": [],
   "source": []
  }
 ],
 "metadata": {
  "kernelspec": {
   "display_name": "Python 3",
   "language": "python",
   "name": "python3"
  },
  "language_info": {
   "codemirror_mode": {
    "name": "ipython",
    "version": 3
   },
   "file_extension": ".py",
   "mimetype": "text/x-python",
   "name": "python",
   "nbconvert_exporter": "python",
   "pygments_lexer": "ipython3",
   "version": "3.6.7"
  }
 },
 "nbformat": 4,
 "nbformat_minor": 2
}
